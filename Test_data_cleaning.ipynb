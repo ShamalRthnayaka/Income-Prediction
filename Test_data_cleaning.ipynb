{
 "cells": [
  {
   "cell_type": "code",
   "execution_count": 155,
   "id": "initial_id",
   "metadata": {
    "collapsed": true,
    "ExecuteTime": {
     "end_time": "2024-03-07T08:33:33.377601900Z",
     "start_time": "2024-03-07T08:33:33.122234700Z"
    }
   },
   "outputs": [
    {
     "data": {
      "text/plain": "    Age  Work_class  Final_Weight      Education  Education_Num  \\\n0    25     Private      226802.0           11th            7.0   \n1    38     Private       89814.0        HS-grad            9.0   \n2    28   Local-gov      336951.0     Assoc-acdm           12.0   \n3    44     Private      160323.0   Some-college           10.0   \n4    18           ?      103497.0   Some-college           10.0   \n..  ...         ...           ...            ...            ...   \n95   20     Private      479296.0        HS-grad            9.0   \n96   25     Private      235218.0      Bachelors           13.0   \n97   49     Private      164877.0           10th            6.0   \n98   59     Private      272087.0        HS-grad            9.0   \n99   20     Private      169699.0        HS-grad            9.0   \n\n         Marital_Status          Occupation    Relationship    Race      Sex  \\\n0         Never-married   Machine-op-inspct       Own-child   Black     Male   \n1    Married-civ-spouse     Farming-fishing         Husband   White     Male   \n2    Married-civ-spouse     Protective-serv         Husband   White     Male   \n3    Married-civ-spouse   Machine-op-inspct         Husband   Black     Male   \n4         Never-married                   ?       Own-child   White   Female   \n..                  ...                 ...             ...     ...      ...   \n95        Never-married   Handlers-cleaners       Own-child   White     Male   \n96        Never-married     Exec-managerial       Own-child   White   Female   \n97   Married-civ-spouse     Farming-fishing         Husband   White     Male   \n98   Married-civ-spouse    Transport-moving         Husband   White     Male   \n99        Never-married        Adm-clerical   Not-in-family   White   Female   \n\n    Capital_Gain  Capital_Loss  Hours_per_Week  Native_Country   Income  \n0            0.0           0.0            40.0   United-States   <=50K.  \n1            0.0           0.0            50.0   United-States   <=50K.  \n2            0.0           0.0            40.0   United-States    >50K.  \n3         7688.0           0.0            40.0   United-States    >50K.  \n4            0.0           0.0            30.0   United-States   <=50K.  \n..           ...           ...             ...             ...      ...  \n95           0.0           0.0            40.0   United-States   <=50K.  \n96           0.0           0.0            40.0   United-States   <=50K.  \n97           0.0           0.0            40.0   United-States   <=50K.  \n98           0.0           0.0            40.0   United-States    >50K.  \n99           0.0           0.0            40.0   United-States   <=50K.  \n\n[100 rows x 15 columns]",
      "text/html": "<div>\n<style scoped>\n    .dataframe tbody tr th:only-of-type {\n        vertical-align: middle;\n    }\n\n    .dataframe tbody tr th {\n        vertical-align: top;\n    }\n\n    .dataframe thead th {\n        text-align: right;\n    }\n</style>\n<table border=\"1\" class=\"dataframe\">\n  <thead>\n    <tr style=\"text-align: right;\">\n      <th></th>\n      <th>Age</th>\n      <th>Work_class</th>\n      <th>Final_Weight</th>\n      <th>Education</th>\n      <th>Education_Num</th>\n      <th>Marital_Status</th>\n      <th>Occupation</th>\n      <th>Relationship</th>\n      <th>Race</th>\n      <th>Sex</th>\n      <th>Capital_Gain</th>\n      <th>Capital_Loss</th>\n      <th>Hours_per_Week</th>\n      <th>Native_Country</th>\n      <th>Income</th>\n    </tr>\n  </thead>\n  <tbody>\n    <tr>\n      <th>0</th>\n      <td>25</td>\n      <td>Private</td>\n      <td>226802.0</td>\n      <td>11th</td>\n      <td>7.0</td>\n      <td>Never-married</td>\n      <td>Machine-op-inspct</td>\n      <td>Own-child</td>\n      <td>Black</td>\n      <td>Male</td>\n      <td>0.0</td>\n      <td>0.0</td>\n      <td>40.0</td>\n      <td>United-States</td>\n      <td>&lt;=50K.</td>\n    </tr>\n    <tr>\n      <th>1</th>\n      <td>38</td>\n      <td>Private</td>\n      <td>89814.0</td>\n      <td>HS-grad</td>\n      <td>9.0</td>\n      <td>Married-civ-spouse</td>\n      <td>Farming-fishing</td>\n      <td>Husband</td>\n      <td>White</td>\n      <td>Male</td>\n      <td>0.0</td>\n      <td>0.0</td>\n      <td>50.0</td>\n      <td>United-States</td>\n      <td>&lt;=50K.</td>\n    </tr>\n    <tr>\n      <th>2</th>\n      <td>28</td>\n      <td>Local-gov</td>\n      <td>336951.0</td>\n      <td>Assoc-acdm</td>\n      <td>12.0</td>\n      <td>Married-civ-spouse</td>\n      <td>Protective-serv</td>\n      <td>Husband</td>\n      <td>White</td>\n      <td>Male</td>\n      <td>0.0</td>\n      <td>0.0</td>\n      <td>40.0</td>\n      <td>United-States</td>\n      <td>&gt;50K.</td>\n    </tr>\n    <tr>\n      <th>3</th>\n      <td>44</td>\n      <td>Private</td>\n      <td>160323.0</td>\n      <td>Some-college</td>\n      <td>10.0</td>\n      <td>Married-civ-spouse</td>\n      <td>Machine-op-inspct</td>\n      <td>Husband</td>\n      <td>Black</td>\n      <td>Male</td>\n      <td>7688.0</td>\n      <td>0.0</td>\n      <td>40.0</td>\n      <td>United-States</td>\n      <td>&gt;50K.</td>\n    </tr>\n    <tr>\n      <th>4</th>\n      <td>18</td>\n      <td>?</td>\n      <td>103497.0</td>\n      <td>Some-college</td>\n      <td>10.0</td>\n      <td>Never-married</td>\n      <td>?</td>\n      <td>Own-child</td>\n      <td>White</td>\n      <td>Female</td>\n      <td>0.0</td>\n      <td>0.0</td>\n      <td>30.0</td>\n      <td>United-States</td>\n      <td>&lt;=50K.</td>\n    </tr>\n    <tr>\n      <th>...</th>\n      <td>...</td>\n      <td>...</td>\n      <td>...</td>\n      <td>...</td>\n      <td>...</td>\n      <td>...</td>\n      <td>...</td>\n      <td>...</td>\n      <td>...</td>\n      <td>...</td>\n      <td>...</td>\n      <td>...</td>\n      <td>...</td>\n      <td>...</td>\n      <td>...</td>\n    </tr>\n    <tr>\n      <th>95</th>\n      <td>20</td>\n      <td>Private</td>\n      <td>479296.0</td>\n      <td>HS-grad</td>\n      <td>9.0</td>\n      <td>Never-married</td>\n      <td>Handlers-cleaners</td>\n      <td>Own-child</td>\n      <td>White</td>\n      <td>Male</td>\n      <td>0.0</td>\n      <td>0.0</td>\n      <td>40.0</td>\n      <td>United-States</td>\n      <td>&lt;=50K.</td>\n    </tr>\n    <tr>\n      <th>96</th>\n      <td>25</td>\n      <td>Private</td>\n      <td>235218.0</td>\n      <td>Bachelors</td>\n      <td>13.0</td>\n      <td>Never-married</td>\n      <td>Exec-managerial</td>\n      <td>Own-child</td>\n      <td>White</td>\n      <td>Female</td>\n      <td>0.0</td>\n      <td>0.0</td>\n      <td>40.0</td>\n      <td>United-States</td>\n      <td>&lt;=50K.</td>\n    </tr>\n    <tr>\n      <th>97</th>\n      <td>49</td>\n      <td>Private</td>\n      <td>164877.0</td>\n      <td>10th</td>\n      <td>6.0</td>\n      <td>Married-civ-spouse</td>\n      <td>Farming-fishing</td>\n      <td>Husband</td>\n      <td>White</td>\n      <td>Male</td>\n      <td>0.0</td>\n      <td>0.0</td>\n      <td>40.0</td>\n      <td>United-States</td>\n      <td>&lt;=50K.</td>\n    </tr>\n    <tr>\n      <th>98</th>\n      <td>59</td>\n      <td>Private</td>\n      <td>272087.0</td>\n      <td>HS-grad</td>\n      <td>9.0</td>\n      <td>Married-civ-spouse</td>\n      <td>Transport-moving</td>\n      <td>Husband</td>\n      <td>White</td>\n      <td>Male</td>\n      <td>0.0</td>\n      <td>0.0</td>\n      <td>40.0</td>\n      <td>United-States</td>\n      <td>&gt;50K.</td>\n    </tr>\n    <tr>\n      <th>99</th>\n      <td>20</td>\n      <td>Private</td>\n      <td>169699.0</td>\n      <td>HS-grad</td>\n      <td>9.0</td>\n      <td>Never-married</td>\n      <td>Adm-clerical</td>\n      <td>Not-in-family</td>\n      <td>White</td>\n      <td>Female</td>\n      <td>0.0</td>\n      <td>0.0</td>\n      <td>40.0</td>\n      <td>United-States</td>\n      <td>&lt;=50K.</td>\n    </tr>\n  </tbody>\n</table>\n<p>100 rows × 15 columns</p>\n</div>"
     },
     "execution_count": 155,
     "metadata": {},
     "output_type": "execute_result"
    }
   ],
   "source": [
    "import pandas as pd\n",
    "\n",
    "# Replace 'your_data_file.DATA' and 'your_csv_file.csv' with actual file paths\n",
    "column_names = [\"Age\", \"Work_class\", \"Final_Weight\", \"Education\", \"Education_Num\", \"Marital_Status\", \"Occupation\", \"Relationship\",\n",
    "                \"Race\", \"Sex\", \"Capital_Gain\", \"Capital_Loss\", \"Hours_per_Week\", \"Native_Country\", \"Income\"]\n",
    "\n",
    "adult_test = pd.read_csv('F:\\\\IIT Platforms\\\\Second Year\\\\2 semester\\\\CM2604 Machine Learning\\\\Income-Prediction\\\\Dataset\\\\adult_test.test', delimiter=',', names=column_names).iloc[1:]  # Adjust delimiter if needed\n",
    "adult_test.to_csv('adult_test.csv', index=False)\n",
    "adult_test = pd.read_csv(\"adult_test.csv\")\n",
    "adult_test.head(100)"
   ]
  },
  {
   "cell_type": "code",
   "execution_count": 156,
   "outputs": [
    {
     "name": "stdout",
     "output_type": "stream",
     "text": [
      "<class 'pandas.core.frame.DataFrame'>\n",
      "RangeIndex: 16281 entries, 0 to 16280\n",
      "Data columns (total 15 columns):\n",
      " #   Column          Non-Null Count  Dtype  \n",
      "---  ------          --------------  -----  \n",
      " 0   Age             16281 non-null  int64  \n",
      " 1   Work_class      16281 non-null  object \n",
      " 2   Final_Weight    16281 non-null  float64\n",
      " 3   Education       16281 non-null  object \n",
      " 4   Education_Num   16281 non-null  float64\n",
      " 5   Marital_Status  16281 non-null  object \n",
      " 6   Occupation      16281 non-null  object \n",
      " 7   Relationship    16281 non-null  object \n",
      " 8   Race            16281 non-null  object \n",
      " 9   Sex             16281 non-null  object \n",
      " 10  Capital_Gain    16281 non-null  float64\n",
      " 11  Capital_Loss    16281 non-null  float64\n",
      " 12  Hours_per_Week  16281 non-null  float64\n",
      " 13  Native_Country  16281 non-null  object \n",
      " 14  Income          16281 non-null  object \n",
      "dtypes: float64(5), int64(1), object(9)\n",
      "memory usage: 1.9+ MB\n"
     ]
    }
   ],
   "source": [
    "adult_test.info()"
   ],
   "metadata": {
    "collapsed": false,
    "ExecuteTime": {
     "end_time": "2024-03-07T08:33:33.460525900Z",
     "start_time": "2024-03-07T08:33:33.378599800Z"
    }
   },
   "id": "229dafea59a01a5d"
  },
  {
   "cell_type": "code",
   "execution_count": 157,
   "outputs": [
    {
     "data": {
      "text/plain": "Age                  73\nWork_class            9\nFinal_Weight      12787\nEducation            16\nEducation_Num        16\nMarital_Status        7\nOccupation           15\nRelationship          6\nRace                  5\nSex                   2\nCapital_Gain        113\nCapital_Loss         82\nHours_per_Week       89\nNative_Country       41\nIncome                2\ndtype: int64"
     },
     "execution_count": 157,
     "metadata": {},
     "output_type": "execute_result"
    }
   ],
   "source": [
    "adult_test.nunique()"
   ],
   "metadata": {
    "collapsed": false,
    "ExecuteTime": {
     "end_time": "2024-03-07T08:33:33.527991700Z",
     "start_time": "2024-03-07T08:33:33.412509200Z"
    }
   },
   "id": "89443a19c2f310de"
  },
  {
   "cell_type": "code",
   "execution_count": 158,
   "outputs": [
    {
     "name": "stdout",
     "output_type": "stream",
     "text": [
      "Age unique values:\n",
      "[25 38 28 44 18 34 29 63 24 55 65 36 26 58 48 43 20 37 40 72 45 22 23 54\n",
      " 32 46 56 17 39 52 21 42 33 30 47 41 19 69 50 31 59 49 51 27 57 61 64 79\n",
      " 73 53 77 80 62 35 68 66 75 60 67 71 70 90 81 74 78 82 83 85 76 84 89 88\n",
      " 87]\n",
      "\n",
      "\n",
      "Work_class unique values:\n",
      "[' Private' ' Local-gov' ' ?' ' Self-emp-not-inc' ' Federal-gov'\n",
      " ' State-gov' ' Self-emp-inc' ' Without-pay' ' Never-worked']\n",
      "\n",
      "\n",
      "Final_Weight unique values:\n",
      "[226802.  89814. 336951. ... 349230. 321403.  83891.]\n",
      "\n",
      "\n",
      "Education unique values:\n",
      "[' 11th' ' HS-grad' ' Assoc-acdm' ' Some-college' ' 10th' ' Prof-school'\n",
      " ' 7th-8th' ' Bachelors' ' Masters' ' Doctorate' ' 5th-6th' ' Assoc-voc'\n",
      " ' 9th' ' 12th' ' 1st-4th' ' Preschool']\n",
      "\n",
      "\n",
      "Education_Num unique values:\n",
      "[ 7.  9. 12. 10.  6. 15.  4. 13. 14. 16.  3. 11.  5.  8.  2.  1.]\n",
      "\n",
      "\n",
      "Marital_Status unique values:\n",
      "[' Never-married' ' Married-civ-spouse' ' Widowed' ' Divorced'\n",
      " ' Separated' ' Married-spouse-absent' ' Married-AF-spouse']\n",
      "\n",
      "\n",
      "Occupation unique values:\n",
      "[' Machine-op-inspct' ' Farming-fishing' ' Protective-serv' ' ?'\n",
      " ' Other-service' ' Prof-specialty' ' Craft-repair' ' Adm-clerical'\n",
      " ' Exec-managerial' ' Tech-support' ' Sales' ' Priv-house-serv'\n",
      " ' Transport-moving' ' Handlers-cleaners' ' Armed-Forces']\n",
      "\n",
      "\n",
      "Relationship unique values:\n",
      "[' Own-child' ' Husband' ' Not-in-family' ' Unmarried' ' Wife'\n",
      " ' Other-relative']\n",
      "\n",
      "\n",
      "Race unique values:\n",
      "[' Black' ' White' ' Asian-Pac-Islander' ' Other' ' Amer-Indian-Eskimo']\n",
      "\n",
      "\n",
      "Sex unique values:\n",
      "[' Male' ' Female']\n",
      "\n",
      "\n",
      "Capital_Gain unique values:\n",
      "[    0.  7688.  3103.  6418.  7298.  3908. 14084.  5178. 15024. 99999.\n",
      "  2597.  2907.  4650.  6497.  1055.  5013. 27828.  4934.  4064.  3674.\n",
      "  2174. 10605.  3418.   114.  2580.  3411.  4508.  4386.  8614. 13550.\n",
      "  6849.  2463.  3137.  2885.  2964.  1471. 10566.  2354.  1424.  1455.\n",
      "  3325.  4416. 25236.   594.  2105.  4787.  2829.   401.  4865.  1264.\n",
      "  1506. 10520.  3464.  2653. 20051.  4101.  1797.  2407.  3471.  1086.\n",
      "  1848. 14344.  1151.  2993.  2290. 15020.  9386.  2202.  3818.  2176.\n",
      "  5455. 11678.  7978.  7262.  6514. 41310.  3456.  7430.  2414.  2062.\n",
      " 34095.  1831.  6723.  5060. 15831.  2977.  2346.  3273.  2329.  9562.\n",
      "  2635.  4931.  1731.  6097.   914.  7896.  5556.  1409.  3781.  3942.\n",
      "  2538.  3887. 25124.  7443.  5721.  1173.  4687.  6612.  6767.  2961.\n",
      "   991.  2036.  2936.]\n",
      "\n",
      "\n",
      "Capital_Loss unique values:\n",
      "[   0. 1721. 1876. 2415. 1887.  625. 1977. 2057. 1429. 1590. 1485. 2051.\n",
      " 2377. 1672. 1628. 1902. 1602. 1741. 2444. 1408. 2001. 2042. 1740. 1825.\n",
      " 1848. 1719. 3004. 2179. 1573. 2205. 1258. 2339. 1726. 2258. 1340. 1504.\n",
      " 2559. 1668. 1974. 1980. 1564. 2547. 2002. 1669. 1617.  323. 3175. 2472.\n",
      " 2174. 1579. 2129. 1510. 1735. 2282. 1870. 1411. 1911. 1651. 1092. 1762.\n",
      " 2457. 2231. 2238.  653. 1138. 2246. 2603. 2392. 1944. 1380. 2465. 1421.\n",
      " 3770. 1594.  213. 2149. 2824. 1844. 2467. 2163. 1816. 1648.]\n",
      "\n",
      "\n",
      "Hours_per_Week unique values:\n",
      "[40. 50. 30. 32. 10. 39. 35. 48. 25. 20. 45. 47.  6. 43. 90. 54. 60. 38.\n",
      " 36. 18. 24. 44. 56. 28. 16. 41. 22. 55. 14. 33. 37.  8. 12. 70. 15. 75.\n",
      " 52. 84. 42. 80. 68. 99. 65.  5. 17. 72. 53. 29. 96. 21. 46.  3.  1. 23.\n",
      " 49. 67. 76.  7.  2. 58. 26. 34.  4. 51. 78. 63. 31. 92. 77. 27. 85. 13.\n",
      " 19. 98. 62. 66. 57. 11. 86. 59.  9. 64. 73. 61. 88. 79. 89. 74. 69.]\n",
      "\n",
      "\n",
      "Native_Country unique values:\n",
      "[' United-States' ' ?' ' Peru' ' Guatemala' ' Mexico'\n",
      " ' Dominican-Republic' ' Ireland' ' Germany' ' Philippines' ' Thailand'\n",
      " ' Haiti' ' El-Salvador' ' Puerto-Rico' ' Vietnam' ' South' ' Columbia'\n",
      " ' Japan' ' India' ' Cambodia' ' Poland' ' Laos' ' England' ' Cuba'\n",
      " ' Taiwan' ' Italy' ' Canada' ' Portugal' ' China' ' Nicaragua'\n",
      " ' Honduras' ' Iran' ' Scotland' ' Jamaica' ' Ecuador' ' Yugoslavia'\n",
      " ' Hungary' ' Hong' ' Greece' ' Trinadad&Tobago'\n",
      " ' Outlying-US(Guam-USVI-etc)' ' France']\n",
      "\n",
      "\n",
      "Income unique values:\n",
      "[' <=50K.' ' >50K.']\n",
      "\n"
     ]
    }
   ],
   "source": [
    "# Print unique values for each column\n",
    "for column in adult_test.columns:\n",
    "    unique_values = adult_test[column].unique()\n",
    "    print(f\"{column} unique values:\")\n",
    "    print(unique_values)\n",
    "    print(\"\\n\")"
   ],
   "metadata": {
    "collapsed": false,
    "ExecuteTime": {
     "end_time": "2024-03-07T08:33:33.549942500Z",
     "start_time": "2024-03-07T08:33:33.444569300Z"
    }
   },
   "id": "cf23437a3ccd2f8"
  },
  {
   "cell_type": "code",
   "execution_count": 159,
   "outputs": [],
   "source": [
    "# Replace '?' with NaN in the 'Work_class' column\n",
    "adult_test['Work_class'].replace(' ?', pd.NA, inplace=True)\n"
   ],
   "metadata": {
    "collapsed": false,
    "ExecuteTime": {
     "end_time": "2024-03-07T08:33:33.551935800Z",
     "start_time": "2024-03-07T08:33:33.475489300Z"
    }
   },
   "id": "1498b549de56acbd"
  },
  {
   "cell_type": "code",
   "execution_count": 160,
   "outputs": [
    {
     "name": "stdout",
     "output_type": "stream",
     "text": [
      "Work_class unique values after removing '?':\n",
      "[' Private' ' Local-gov' ' Self-emp-not-inc' ' Federal-gov' ' State-gov'\n",
      " ' Self-emp-inc' ' Without-pay' ' Never-worked']\n"
     ]
    }
   ],
   "source": [
    "# Drop rows with NaN in the 'Work_class' column\n",
    "adult_test = adult_test.dropna(subset=['Work_class'])\n",
    "\n",
    "# Print unique values for the 'Work_class' column after removing '?'\n",
    "print(\"Work_class unique values after removing '?':\")\n",
    "print(adult_test['Work_class'].unique())"
   ],
   "metadata": {
    "collapsed": false,
    "ExecuteTime": {
     "end_time": "2024-03-07T08:33:33.557919300Z",
     "start_time": "2024-03-07T08:33:33.489450100Z"
    }
   },
   "id": "6f4e2e233559fa51"
  },
  {
   "cell_type": "code",
   "execution_count": 161,
   "outputs": [
    {
     "name": "stdout",
     "output_type": "stream",
     "text": [
      "Occupation unique values after removing '?':\n",
      "[' Machine-op-inspct' ' Farming-fishing' ' Protective-serv'\n",
      " ' Other-service' ' Prof-specialty' ' Craft-repair' ' Adm-clerical'\n",
      " ' Exec-managerial' ' Tech-support' ' Sales' ' Priv-house-serv'\n",
      " ' Transport-moving' ' Handlers-cleaners' ' Armed-Forces']\n"
     ]
    }
   ],
   "source": [
    "# Replace '?' with NaN in the 'Occupation' column\n",
    "adult_test['Occupation'].replace(' ?', pd.NA, inplace=True)\n",
    "\n",
    "# Drop rows with NaN in the 'Occupation' column\n",
    "adult_test = adult_test.dropna(subset=['Occupation'])\n",
    "\n",
    "# Print unique values for the 'Occupation' column after removing '?'\n",
    "print(\"Occupation unique values after removing '?':\")\n",
    "print(adult_test['Occupation'].unique())"
   ],
   "metadata": {
    "collapsed": false,
    "ExecuteTime": {
     "end_time": "2024-03-07T08:33:33.618808600Z",
     "start_time": "2024-03-07T08:33:33.503414700Z"
    }
   },
   "id": "4658038ced0ea6c2"
  },
  {
   "cell_type": "code",
   "execution_count": 162,
   "outputs": [
    {
     "name": "stdout",
     "output_type": "stream",
     "text": [
      "Native_Country unique values after removing '?':\n",
      "[' United-States' ' Peru' ' Guatemala' ' Mexico' ' Dominican-Republic'\n",
      " ' Ireland' ' Germany' ' Philippines' ' Thailand' ' Haiti' ' El-Salvador'\n",
      " ' Puerto-Rico' ' Vietnam' ' South' ' Columbia' ' Japan' ' India'\n",
      " ' Cambodia' ' Poland' ' Laos' ' England' ' Cuba' ' Taiwan' ' Italy'\n",
      " ' Canada' ' Portugal' ' China' ' Nicaragua' ' Honduras' ' Iran'\n",
      " ' Scotland' ' Jamaica' ' Ecuador' ' Yugoslavia' ' Hungary' ' Hong'\n",
      " ' Greece' ' Trinadad&Tobago' ' Outlying-US(Guam-USVI-etc)' ' France']\n"
     ]
    }
   ],
   "source": [
    "# Replace '?' with NaN in the 'Native_Country' column\n",
    "adult_test['Native_Country'].replace(' ?', pd.NA, inplace=True)\n",
    "\n",
    "# Drop rows with NaN in the 'Native_Country' column\n",
    "adult_test = adult_test.dropna(subset=['Native_Country'])\n",
    "\n",
    "# Print unique values for the 'Native_Country' column after removing '?'\n",
    "print(\"Native_Country unique values after removing '?':\")\n",
    "print(adult_test['Native_Country'].unique())"
   ],
   "metadata": {
    "collapsed": false,
    "ExecuteTime": {
     "end_time": "2024-03-07T08:33:33.619806500Z",
     "start_time": "2024-03-07T08:33:33.580858800Z"
    }
   },
   "id": "467814004a7b2bac"
  },
  {
   "cell_type": "code",
   "execution_count": 163,
   "outputs": [
    {
     "name": "stdout",
     "output_type": "stream",
     "text": [
      "Mean value of 'Capital_Loss' (excluding 0 values): 1902.0\n",
      "\n",
      "Updated 'Capital_Loss' column:\n",
      "0        1902.0\n",
      "1        1902.0\n",
      "2        1902.0\n",
      "3        1902.0\n",
      "5        1902.0\n",
      "          ...  \n",
      "16275    1902.0\n",
      "16276    1902.0\n",
      "16278    1902.0\n",
      "16279    1902.0\n",
      "16280    1902.0\n",
      "Name: Capital_Loss, Length: 15060, dtype: float64\n",
      "[1902. 1721. 1876. 2415. 1887.  625. 1977. 2057. 1429. 1590. 1485. 2051.\n",
      " 2377. 1672. 1628. 1741. 2444. 1408. 2001. 2042. 1740. 1825. 1848. 1719.\n",
      " 3004. 2179. 1573. 2205. 1258. 2339. 1726. 2258. 1340. 1504. 2559. 1668.\n",
      " 1974. 1980. 1564. 2547. 2002. 1669. 1617.  323. 1602. 3175. 2472. 1579.\n",
      " 2129. 1735. 2282. 1870. 1911. 1092. 1762. 2457. 2231. 2238.  653. 1138.\n",
      " 2246. 2603. 2392. 1510. 1944. 1380. 1421. 3770. 1594.  213. 2824. 2174.\n",
      " 1844. 2149. 1411. 2467. 2163. 1651.]\n"
     ]
    }
   ],
   "source": [
    "# Calculate the mean of 'Capital_Loss' excluding 0 values\n",
    "median_capital_loss = adult_test[adult_test['Capital_Loss'] != 0]['Capital_Loss'].median()\n",
    "\n",
    "# Replace 0 values in 'Capital_Loss' with the calculated mean\n",
    "adult_test['Capital_Loss'] = adult_test['Capital_Loss'].replace(0, median_capital_loss)\n",
    "\n",
    "# Print the mean value and updated 'Capital_Loss' column\n",
    "print(f\"Mean value of 'Capital_Loss' (excluding 0 values): {median_capital_loss}\")\n",
    "print(\"\\nUpdated 'Capital_Loss' column:\")\n",
    "print(adult_test['Capital_Loss'])\n",
    "print(adult_test['Capital_Loss'].unique())"
   ],
   "metadata": {
    "collapsed": false,
    "ExecuteTime": {
     "end_time": "2024-03-07T08:33:33.698679500Z",
     "start_time": "2024-03-07T08:33:33.612822800Z"
    }
   },
   "id": "1ff724f13523d34b"
  },
  {
   "cell_type": "code",
   "execution_count": 164,
   "outputs": [
    {
     "name": "stdout",
     "output_type": "stream",
     "text": [
      "Mean value of 'Capital_Gain' (excluding 0 values): 7298.0\n",
      "\n",
      "Updated 'Capital_Gain' column:\n",
      "0        7298.0\n",
      "1        7298.0\n",
      "2        7298.0\n",
      "3        7688.0\n",
      "5        7298.0\n",
      "          ...  \n",
      "16275    7298.0\n",
      "16276    7298.0\n",
      "16278    7298.0\n",
      "16279    5455.0\n",
      "16280    7298.0\n",
      "Name: Capital_Gain, Length: 15060, dtype: float64\n",
      "[ 7298.  7688.  3103.  6418.  3908. 14084.  5178. 15024.  2597.  2907.\n",
      "  4650.  6497.  5013. 27828.  4934.  4064.  3674.  2174. 10605. 99999.\n",
      "  1055.   114.  2580.  3411.  4508.  4386.  8614. 13550.  6849.  2463.\n",
      "  3137.  2885.  2964.  1471. 10566.  2354.  1424.  1455.  3325.  4416.\n",
      " 25236.  4787.  2829.  4865.  1264.  1506.   594. 10520.  3464. 20051.\n",
      "  4101.  1797.  2407.  3471.  2653.  1086.  1848. 14344.  1151.  2993.\n",
      "  2290. 15020.  9386.  2202.  3818.  2176.  5455.  3418. 11678.  7978.\n",
      "  7262.  6514. 41310.  3456.  7430.  2062. 34095.  1831.  6723.  5060.\n",
      " 15831.  2977.  2346.  3273.  2329.  9562.  2105.  2635.  2414.  4931.\n",
      "  1731.  6097.   914.  7896.  5556.  3781.  3942.  2538.  3887.  1409.\n",
      " 25124.  7443.  5721.   401.  1173.  4687.  6767.   991.  2036.]\n"
     ]
    }
   ],
   "source": [
    "# Calculate the mean of 'Capital_Gain' excluding 0 values\n",
    "median_capital_gain = adult_test[adult_test['Capital_Gain'] != 0]['Capital_Gain'].median()\n",
    "\n",
    "# Replace 0 values in 'Capital_Gain' with the calculated mean\n",
    "adult_test['Capital_Gain'] = adult_test['Capital_Gain'].replace(0, median_capital_gain)\n",
    "\n",
    "# Print the mean value and updated 'Capital_Gain' column\n",
    "print(f\"Mean value of 'Capital_Gain' (excluding 0 values): {median_capital_gain}\")\n",
    "print(\"\\nUpdated 'Capital_Gain' column:\")\n",
    "print(adult_test['Capital_Gain'])\n",
    "print(adult_test['Capital_Gain'].unique())\n"
   ],
   "metadata": {
    "collapsed": false,
    "ExecuteTime": {
     "end_time": "2024-03-07T08:33:33.714636800Z",
     "start_time": "2024-03-07T08:33:33.645820800Z"
    }
   },
   "id": "9f1cbf882b63e1db"
  },
  {
   "cell_type": "code",
   "execution_count": 165,
   "outputs": [
    {
     "data": {
      "text/plain": "       Age     Work_class  Final_Weight      Education  Education_Num  \\\n0       25        Private      226802.0           11th            7.0   \n1       38        Private       89814.0        HS-grad            9.0   \n2       28      Local-gov      336951.0     Assoc-acdm           12.0   \n3       44        Private      160323.0   Some-college           10.0   \n5       34        Private      198693.0           10th            6.0   \n...    ...            ...           ...            ...            ...   \n16275   33        Private      245211.0      Bachelors           13.0   \n16276   39        Private      215419.0      Bachelors           13.0   \n16278   38        Private      374983.0      Bachelors           13.0   \n16279   44        Private       83891.0      Bachelors           13.0   \n16280   35   Self-emp-inc      182148.0      Bachelors           13.0   \n\n            Marital_Status          Occupation    Relationship  \\\n0            Never-married   Machine-op-inspct       Own-child   \n1       Married-civ-spouse     Farming-fishing         Husband   \n2       Married-civ-spouse     Protective-serv         Husband   \n3       Married-civ-spouse   Machine-op-inspct         Husband   \n5            Never-married       Other-service   Not-in-family   \n...                    ...                 ...             ...   \n16275        Never-married      Prof-specialty       Own-child   \n16276             Divorced      Prof-specialty   Not-in-family   \n16278   Married-civ-spouse      Prof-specialty         Husband   \n16279             Divorced        Adm-clerical       Own-child   \n16280   Married-civ-spouse     Exec-managerial         Husband   \n\n                      Race      Sex  Capital_Gain  Capital_Loss  \\\n0                    Black     Male        7298.0        1902.0   \n1                    White     Male        7298.0        1902.0   \n2                    White     Male        7298.0        1902.0   \n3                    Black     Male        7688.0        1902.0   \n5                    White     Male        7298.0        1902.0   \n...                    ...      ...           ...           ...   \n16275                White     Male        7298.0        1902.0   \n16276                White   Female        7298.0        1902.0   \n16278                White     Male        7298.0        1902.0   \n16279   Asian-Pac-Islander     Male        5455.0        1902.0   \n16280                White     Male        7298.0        1902.0   \n\n       Hours_per_Week  Native_Country   Income  \n0                40.0   United-States   <=50K.  \n1                50.0   United-States   <=50K.  \n2                40.0   United-States    >50K.  \n3                40.0   United-States    >50K.  \n5                30.0   United-States   <=50K.  \n...               ...             ...      ...  \n16275            40.0   United-States   <=50K.  \n16276            36.0   United-States   <=50K.  \n16278            50.0   United-States   <=50K.  \n16279            40.0   United-States   <=50K.  \n16280            60.0   United-States    >50K.  \n\n[15055 rows x 15 columns]",
      "text/html": "<div>\n<style scoped>\n    .dataframe tbody tr th:only-of-type {\n        vertical-align: middle;\n    }\n\n    .dataframe tbody tr th {\n        vertical-align: top;\n    }\n\n    .dataframe thead th {\n        text-align: right;\n    }\n</style>\n<table border=\"1\" class=\"dataframe\">\n  <thead>\n    <tr style=\"text-align: right;\">\n      <th></th>\n      <th>Age</th>\n      <th>Work_class</th>\n      <th>Final_Weight</th>\n      <th>Education</th>\n      <th>Education_Num</th>\n      <th>Marital_Status</th>\n      <th>Occupation</th>\n      <th>Relationship</th>\n      <th>Race</th>\n      <th>Sex</th>\n      <th>Capital_Gain</th>\n      <th>Capital_Loss</th>\n      <th>Hours_per_Week</th>\n      <th>Native_Country</th>\n      <th>Income</th>\n    </tr>\n  </thead>\n  <tbody>\n    <tr>\n      <th>0</th>\n      <td>25</td>\n      <td>Private</td>\n      <td>226802.0</td>\n      <td>11th</td>\n      <td>7.0</td>\n      <td>Never-married</td>\n      <td>Machine-op-inspct</td>\n      <td>Own-child</td>\n      <td>Black</td>\n      <td>Male</td>\n      <td>7298.0</td>\n      <td>1902.0</td>\n      <td>40.0</td>\n      <td>United-States</td>\n      <td>&lt;=50K.</td>\n    </tr>\n    <tr>\n      <th>1</th>\n      <td>38</td>\n      <td>Private</td>\n      <td>89814.0</td>\n      <td>HS-grad</td>\n      <td>9.0</td>\n      <td>Married-civ-spouse</td>\n      <td>Farming-fishing</td>\n      <td>Husband</td>\n      <td>White</td>\n      <td>Male</td>\n      <td>7298.0</td>\n      <td>1902.0</td>\n      <td>50.0</td>\n      <td>United-States</td>\n      <td>&lt;=50K.</td>\n    </tr>\n    <tr>\n      <th>2</th>\n      <td>28</td>\n      <td>Local-gov</td>\n      <td>336951.0</td>\n      <td>Assoc-acdm</td>\n      <td>12.0</td>\n      <td>Married-civ-spouse</td>\n      <td>Protective-serv</td>\n      <td>Husband</td>\n      <td>White</td>\n      <td>Male</td>\n      <td>7298.0</td>\n      <td>1902.0</td>\n      <td>40.0</td>\n      <td>United-States</td>\n      <td>&gt;50K.</td>\n    </tr>\n    <tr>\n      <th>3</th>\n      <td>44</td>\n      <td>Private</td>\n      <td>160323.0</td>\n      <td>Some-college</td>\n      <td>10.0</td>\n      <td>Married-civ-spouse</td>\n      <td>Machine-op-inspct</td>\n      <td>Husband</td>\n      <td>Black</td>\n      <td>Male</td>\n      <td>7688.0</td>\n      <td>1902.0</td>\n      <td>40.0</td>\n      <td>United-States</td>\n      <td>&gt;50K.</td>\n    </tr>\n    <tr>\n      <th>5</th>\n      <td>34</td>\n      <td>Private</td>\n      <td>198693.0</td>\n      <td>10th</td>\n      <td>6.0</td>\n      <td>Never-married</td>\n      <td>Other-service</td>\n      <td>Not-in-family</td>\n      <td>White</td>\n      <td>Male</td>\n      <td>7298.0</td>\n      <td>1902.0</td>\n      <td>30.0</td>\n      <td>United-States</td>\n      <td>&lt;=50K.</td>\n    </tr>\n    <tr>\n      <th>...</th>\n      <td>...</td>\n      <td>...</td>\n      <td>...</td>\n      <td>...</td>\n      <td>...</td>\n      <td>...</td>\n      <td>...</td>\n      <td>...</td>\n      <td>...</td>\n      <td>...</td>\n      <td>...</td>\n      <td>...</td>\n      <td>...</td>\n      <td>...</td>\n      <td>...</td>\n    </tr>\n    <tr>\n      <th>16275</th>\n      <td>33</td>\n      <td>Private</td>\n      <td>245211.0</td>\n      <td>Bachelors</td>\n      <td>13.0</td>\n      <td>Never-married</td>\n      <td>Prof-specialty</td>\n      <td>Own-child</td>\n      <td>White</td>\n      <td>Male</td>\n      <td>7298.0</td>\n      <td>1902.0</td>\n      <td>40.0</td>\n      <td>United-States</td>\n      <td>&lt;=50K.</td>\n    </tr>\n    <tr>\n      <th>16276</th>\n      <td>39</td>\n      <td>Private</td>\n      <td>215419.0</td>\n      <td>Bachelors</td>\n      <td>13.0</td>\n      <td>Divorced</td>\n      <td>Prof-specialty</td>\n      <td>Not-in-family</td>\n      <td>White</td>\n      <td>Female</td>\n      <td>7298.0</td>\n      <td>1902.0</td>\n      <td>36.0</td>\n      <td>United-States</td>\n      <td>&lt;=50K.</td>\n    </tr>\n    <tr>\n      <th>16278</th>\n      <td>38</td>\n      <td>Private</td>\n      <td>374983.0</td>\n      <td>Bachelors</td>\n      <td>13.0</td>\n      <td>Married-civ-spouse</td>\n      <td>Prof-specialty</td>\n      <td>Husband</td>\n      <td>White</td>\n      <td>Male</td>\n      <td>7298.0</td>\n      <td>1902.0</td>\n      <td>50.0</td>\n      <td>United-States</td>\n      <td>&lt;=50K.</td>\n    </tr>\n    <tr>\n      <th>16279</th>\n      <td>44</td>\n      <td>Private</td>\n      <td>83891.0</td>\n      <td>Bachelors</td>\n      <td>13.0</td>\n      <td>Divorced</td>\n      <td>Adm-clerical</td>\n      <td>Own-child</td>\n      <td>Asian-Pac-Islander</td>\n      <td>Male</td>\n      <td>5455.0</td>\n      <td>1902.0</td>\n      <td>40.0</td>\n      <td>United-States</td>\n      <td>&lt;=50K.</td>\n    </tr>\n    <tr>\n      <th>16280</th>\n      <td>35</td>\n      <td>Self-emp-inc</td>\n      <td>182148.0</td>\n      <td>Bachelors</td>\n      <td>13.0</td>\n      <td>Married-civ-spouse</td>\n      <td>Exec-managerial</td>\n      <td>Husband</td>\n      <td>White</td>\n      <td>Male</td>\n      <td>7298.0</td>\n      <td>1902.0</td>\n      <td>60.0</td>\n      <td>United-States</td>\n      <td>&gt;50K.</td>\n    </tr>\n  </tbody>\n</table>\n<p>15055 rows × 15 columns</p>\n</div>"
     },
     "execution_count": 165,
     "metadata": {},
     "output_type": "execute_result"
    }
   ],
   "source": [
    "adult_test.drop_duplicates()"
   ],
   "metadata": {
    "collapsed": false,
    "ExecuteTime": {
     "end_time": "2024-03-07T08:33:33.789435200Z",
     "start_time": "2024-03-07T08:33:33.675742100Z"
    }
   },
   "id": "bdd480138d68c90"
  },
  {
   "cell_type": "code",
   "execution_count": 166,
   "outputs": [
    {
     "name": "stdout",
     "output_type": "stream",
     "text": [
      "0         <=50K\n",
      "1         <=50K\n",
      "2          >50K\n",
      "3          >50K\n",
      "5         <=50K\n",
      "          ...  \n",
      "16275     <=50K\n",
      "16276     <=50K\n",
      "16278     <=50K\n",
      "16279     <=50K\n",
      "16280      >50K\n",
      "Name: Income, Length: 15060, dtype: object\n"
     ]
    }
   ],
   "source": [
    "adult_test['Income'] = adult_test['Income'].str.replace('.', '')\n",
    "\n",
    "# Display the updated DataFrame\n",
    "print(adult_test['Income'])"
   ],
   "metadata": {
    "collapsed": false,
    "ExecuteTime": {
     "end_time": "2024-03-07T08:33:33.820352300Z",
     "start_time": "2024-03-07T08:33:33.736578100Z"
    }
   },
   "id": "7797d1070a3aeb49"
  },
  {
   "cell_type": "code",
   "execution_count": 167,
   "outputs": [],
   "source": [
    "# Assuming 'df' is your DataFrame\n",
    "float_columns = adult_test.select_dtypes(include='float64').columns\n",
    "\n",
    "# Convert only float columns to integers\n",
    "adult_test[float_columns] = adult_test[float_columns].astype('int64')"
   ],
   "metadata": {
    "collapsed": false,
    "ExecuteTime": {
     "end_time": "2024-03-07T08:33:33.820352300Z",
     "start_time": "2024-03-07T08:33:33.764504100Z"
    }
   },
   "id": "ecb2c2d896875997"
  },
  {
   "cell_type": "code",
   "execution_count": 168,
   "outputs": [
    {
     "data": {
      "text/plain": "     Age  Work_class  Final_Weight      Education  Education_Num  \\\n0     25     Private        226802           11th              7   \n1     38     Private         89814        HS-grad              9   \n2     28   Local-gov        336951     Assoc-acdm             12   \n3     44     Private        160323   Some-college             10   \n5     34     Private        198693           10th              6   \n..   ...         ...           ...            ...            ...   \n106   41   Local-gov        201520        HS-grad              9   \n107   28     Private        154236        HS-grad              9   \n108   19     Private        289227   Some-college             10   \n109   18     Private        217439        HS-grad              9   \n110   18     Private        179020        HS-grad              9   \n\n          Marital_Status          Occupation    Relationship    Race      Sex  \\\n0          Never-married   Machine-op-inspct       Own-child   Black     Male   \n1     Married-civ-spouse     Farming-fishing         Husband   White     Male   \n2     Married-civ-spouse     Protective-serv         Husband   White     Male   \n3     Married-civ-spouse   Machine-op-inspct         Husband   Black     Male   \n5          Never-married       Other-service   Not-in-family   White     Male   \n..                   ...                 ...             ...     ...      ...   \n106   Married-civ-spouse     Protective-serv         Husband   White     Male   \n107        Never-married    Transport-moving       Own-child   White     Male   \n108        Never-married   Handlers-cleaners       Own-child   Black     Male   \n109        Never-married       Other-service   Not-in-family   White   Female   \n110        Never-married   Machine-op-inspct       Own-child   White   Female   \n\n     Capital_Gain  Capital_Loss  Hours_per_Week  Native_Country  Income  \n0            7298          1902              40   United-States   <=50K  \n1            7298          1902              50   United-States   <=50K  \n2            7298          1902              40   United-States    >50K  \n3            7688          1902              40   United-States    >50K  \n5            7298          1902              30   United-States   <=50K  \n..            ...           ...             ...             ...     ...  \n106          7298          1902              40   United-States   <=50K  \n107          2597          1902              40   United-States   <=50K  \n108          7298          1902              16   United-States   <=50K  \n109          7298          1902              28   United-States   <=50K  \n110          7298          1902              48   United-States   <=50K  \n\n[100 rows x 15 columns]",
      "text/html": "<div>\n<style scoped>\n    .dataframe tbody tr th:only-of-type {\n        vertical-align: middle;\n    }\n\n    .dataframe tbody tr th {\n        vertical-align: top;\n    }\n\n    .dataframe thead th {\n        text-align: right;\n    }\n</style>\n<table border=\"1\" class=\"dataframe\">\n  <thead>\n    <tr style=\"text-align: right;\">\n      <th></th>\n      <th>Age</th>\n      <th>Work_class</th>\n      <th>Final_Weight</th>\n      <th>Education</th>\n      <th>Education_Num</th>\n      <th>Marital_Status</th>\n      <th>Occupation</th>\n      <th>Relationship</th>\n      <th>Race</th>\n      <th>Sex</th>\n      <th>Capital_Gain</th>\n      <th>Capital_Loss</th>\n      <th>Hours_per_Week</th>\n      <th>Native_Country</th>\n      <th>Income</th>\n    </tr>\n  </thead>\n  <tbody>\n    <tr>\n      <th>0</th>\n      <td>25</td>\n      <td>Private</td>\n      <td>226802</td>\n      <td>11th</td>\n      <td>7</td>\n      <td>Never-married</td>\n      <td>Machine-op-inspct</td>\n      <td>Own-child</td>\n      <td>Black</td>\n      <td>Male</td>\n      <td>7298</td>\n      <td>1902</td>\n      <td>40</td>\n      <td>United-States</td>\n      <td>&lt;=50K</td>\n    </tr>\n    <tr>\n      <th>1</th>\n      <td>38</td>\n      <td>Private</td>\n      <td>89814</td>\n      <td>HS-grad</td>\n      <td>9</td>\n      <td>Married-civ-spouse</td>\n      <td>Farming-fishing</td>\n      <td>Husband</td>\n      <td>White</td>\n      <td>Male</td>\n      <td>7298</td>\n      <td>1902</td>\n      <td>50</td>\n      <td>United-States</td>\n      <td>&lt;=50K</td>\n    </tr>\n    <tr>\n      <th>2</th>\n      <td>28</td>\n      <td>Local-gov</td>\n      <td>336951</td>\n      <td>Assoc-acdm</td>\n      <td>12</td>\n      <td>Married-civ-spouse</td>\n      <td>Protective-serv</td>\n      <td>Husband</td>\n      <td>White</td>\n      <td>Male</td>\n      <td>7298</td>\n      <td>1902</td>\n      <td>40</td>\n      <td>United-States</td>\n      <td>&gt;50K</td>\n    </tr>\n    <tr>\n      <th>3</th>\n      <td>44</td>\n      <td>Private</td>\n      <td>160323</td>\n      <td>Some-college</td>\n      <td>10</td>\n      <td>Married-civ-spouse</td>\n      <td>Machine-op-inspct</td>\n      <td>Husband</td>\n      <td>Black</td>\n      <td>Male</td>\n      <td>7688</td>\n      <td>1902</td>\n      <td>40</td>\n      <td>United-States</td>\n      <td>&gt;50K</td>\n    </tr>\n    <tr>\n      <th>5</th>\n      <td>34</td>\n      <td>Private</td>\n      <td>198693</td>\n      <td>10th</td>\n      <td>6</td>\n      <td>Never-married</td>\n      <td>Other-service</td>\n      <td>Not-in-family</td>\n      <td>White</td>\n      <td>Male</td>\n      <td>7298</td>\n      <td>1902</td>\n      <td>30</td>\n      <td>United-States</td>\n      <td>&lt;=50K</td>\n    </tr>\n    <tr>\n      <th>...</th>\n      <td>...</td>\n      <td>...</td>\n      <td>...</td>\n      <td>...</td>\n      <td>...</td>\n      <td>...</td>\n      <td>...</td>\n      <td>...</td>\n      <td>...</td>\n      <td>...</td>\n      <td>...</td>\n      <td>...</td>\n      <td>...</td>\n      <td>...</td>\n      <td>...</td>\n    </tr>\n    <tr>\n      <th>106</th>\n      <td>41</td>\n      <td>Local-gov</td>\n      <td>201520</td>\n      <td>HS-grad</td>\n      <td>9</td>\n      <td>Married-civ-spouse</td>\n      <td>Protective-serv</td>\n      <td>Husband</td>\n      <td>White</td>\n      <td>Male</td>\n      <td>7298</td>\n      <td>1902</td>\n      <td>40</td>\n      <td>United-States</td>\n      <td>&lt;=50K</td>\n    </tr>\n    <tr>\n      <th>107</th>\n      <td>28</td>\n      <td>Private</td>\n      <td>154236</td>\n      <td>HS-grad</td>\n      <td>9</td>\n      <td>Never-married</td>\n      <td>Transport-moving</td>\n      <td>Own-child</td>\n      <td>White</td>\n      <td>Male</td>\n      <td>2597</td>\n      <td>1902</td>\n      <td>40</td>\n      <td>United-States</td>\n      <td>&lt;=50K</td>\n    </tr>\n    <tr>\n      <th>108</th>\n      <td>19</td>\n      <td>Private</td>\n      <td>289227</td>\n      <td>Some-college</td>\n      <td>10</td>\n      <td>Never-married</td>\n      <td>Handlers-cleaners</td>\n      <td>Own-child</td>\n      <td>Black</td>\n      <td>Male</td>\n      <td>7298</td>\n      <td>1902</td>\n      <td>16</td>\n      <td>United-States</td>\n      <td>&lt;=50K</td>\n    </tr>\n    <tr>\n      <th>109</th>\n      <td>18</td>\n      <td>Private</td>\n      <td>217439</td>\n      <td>HS-grad</td>\n      <td>9</td>\n      <td>Never-married</td>\n      <td>Other-service</td>\n      <td>Not-in-family</td>\n      <td>White</td>\n      <td>Female</td>\n      <td>7298</td>\n      <td>1902</td>\n      <td>28</td>\n      <td>United-States</td>\n      <td>&lt;=50K</td>\n    </tr>\n    <tr>\n      <th>110</th>\n      <td>18</td>\n      <td>Private</td>\n      <td>179020</td>\n      <td>HS-grad</td>\n      <td>9</td>\n      <td>Never-married</td>\n      <td>Machine-op-inspct</td>\n      <td>Own-child</td>\n      <td>White</td>\n      <td>Female</td>\n      <td>7298</td>\n      <td>1902</td>\n      <td>48</td>\n      <td>United-States</td>\n      <td>&lt;=50K</td>\n    </tr>\n  </tbody>\n</table>\n<p>100 rows × 15 columns</p>\n</div>"
     },
     "execution_count": 168,
     "metadata": {},
     "output_type": "execute_result"
    }
   ],
   "source": [
    "adult_test.head(100)"
   ],
   "metadata": {
    "collapsed": false,
    "ExecuteTime": {
     "end_time": "2024-03-07T08:33:33.942028100Z",
     "start_time": "2024-03-07T08:33:33.781458900Z"
    }
   },
   "id": "d33723b9dade07b0"
  },
  {
   "cell_type": "code",
   "execution_count": 169,
   "outputs": [
    {
     "data": {
      "text/plain": "       Age         Work_class  Final_Weight Education  Education_Num  \\\n11509   17            Private        144752      10th              6   \n7012    17   Self-emp-not-inc         33230      11th              7   \n675     17            Private        190941      10th              6   \n11524   17            Private        329791      12th              8   \n7877    17            Private        284277      11th              7   \n\n       Marital_Status          Occupation Relationship                 Race  \\\n11509   Never-married   Handlers-cleaners    Own-child   Amer-Indian-Eskimo   \n7012    Never-married     Farming-fishing    Own-child                White   \n675     Never-married               Sales    Own-child                White   \n11524   Never-married   Handlers-cleaners    Own-child                White   \n7877    Never-married       Other-service    Own-child                White   \n\n           Sex  Capital_Gain  Capital_Loss  Hours_per_Week  Native_Country  \\\n11509     Male          7298          1902              20   United-States   \n7012      Male          7298          1902              15   United-States   \n675     Female          7298          1902              20   United-States   \n11524     Male          7298          1902              25   United-States   \n7877      Male          1055          1902              20   United-States   \n\n       Income  \n11509   <=50K  \n7012    <=50K  \n675     <=50K  \n11524   <=50K  \n7877    <=50K  ",
      "text/html": "<div>\n<style scoped>\n    .dataframe tbody tr th:only-of-type {\n        vertical-align: middle;\n    }\n\n    .dataframe tbody tr th {\n        vertical-align: top;\n    }\n\n    .dataframe thead th {\n        text-align: right;\n    }\n</style>\n<table border=\"1\" class=\"dataframe\">\n  <thead>\n    <tr style=\"text-align: right;\">\n      <th></th>\n      <th>Age</th>\n      <th>Work_class</th>\n      <th>Final_Weight</th>\n      <th>Education</th>\n      <th>Education_Num</th>\n      <th>Marital_Status</th>\n      <th>Occupation</th>\n      <th>Relationship</th>\n      <th>Race</th>\n      <th>Sex</th>\n      <th>Capital_Gain</th>\n      <th>Capital_Loss</th>\n      <th>Hours_per_Week</th>\n      <th>Native_Country</th>\n      <th>Income</th>\n    </tr>\n  </thead>\n  <tbody>\n    <tr>\n      <th>11509</th>\n      <td>17</td>\n      <td>Private</td>\n      <td>144752</td>\n      <td>10th</td>\n      <td>6</td>\n      <td>Never-married</td>\n      <td>Handlers-cleaners</td>\n      <td>Own-child</td>\n      <td>Amer-Indian-Eskimo</td>\n      <td>Male</td>\n      <td>7298</td>\n      <td>1902</td>\n      <td>20</td>\n      <td>United-States</td>\n      <td>&lt;=50K</td>\n    </tr>\n    <tr>\n      <th>7012</th>\n      <td>17</td>\n      <td>Self-emp-not-inc</td>\n      <td>33230</td>\n      <td>11th</td>\n      <td>7</td>\n      <td>Never-married</td>\n      <td>Farming-fishing</td>\n      <td>Own-child</td>\n      <td>White</td>\n      <td>Male</td>\n      <td>7298</td>\n      <td>1902</td>\n      <td>15</td>\n      <td>United-States</td>\n      <td>&lt;=50K</td>\n    </tr>\n    <tr>\n      <th>675</th>\n      <td>17</td>\n      <td>Private</td>\n      <td>190941</td>\n      <td>10th</td>\n      <td>6</td>\n      <td>Never-married</td>\n      <td>Sales</td>\n      <td>Own-child</td>\n      <td>White</td>\n      <td>Female</td>\n      <td>7298</td>\n      <td>1902</td>\n      <td>20</td>\n      <td>United-States</td>\n      <td>&lt;=50K</td>\n    </tr>\n    <tr>\n      <th>11524</th>\n      <td>17</td>\n      <td>Private</td>\n      <td>329791</td>\n      <td>12th</td>\n      <td>8</td>\n      <td>Never-married</td>\n      <td>Handlers-cleaners</td>\n      <td>Own-child</td>\n      <td>White</td>\n      <td>Male</td>\n      <td>7298</td>\n      <td>1902</td>\n      <td>25</td>\n      <td>United-States</td>\n      <td>&lt;=50K</td>\n    </tr>\n    <tr>\n      <th>7877</th>\n      <td>17</td>\n      <td>Private</td>\n      <td>284277</td>\n      <td>11th</td>\n      <td>7</td>\n      <td>Never-married</td>\n      <td>Other-service</td>\n      <td>Own-child</td>\n      <td>White</td>\n      <td>Male</td>\n      <td>1055</td>\n      <td>1902</td>\n      <td>20</td>\n      <td>United-States</td>\n      <td>&lt;=50K</td>\n    </tr>\n  </tbody>\n</table>\n</div>"
     },
     "execution_count": 169,
     "metadata": {},
     "output_type": "execute_result"
    }
   ],
   "source": [
    "# Sort the DataFrame by the 'Age' column in ascending order\n",
    "adult_test = adult_test.sort_values(by='Age')\n",
    "\n",
    "# Display the sorted DataFrame\n",
    "adult_test.head()"
   ],
   "metadata": {
    "collapsed": false,
    "ExecuteTime": {
     "end_time": "2024-03-07T08:33:33.961975100Z",
     "start_time": "2024-03-07T08:33:33.825340700Z"
    }
   },
   "id": "94e9edcdcf5a14fd"
  },
  {
   "cell_type": "code",
   "execution_count": 170,
   "outputs": [
    {
     "name": "stdout",
     "output_type": "stream",
     "text": [
      "<class 'pandas.core.frame.DataFrame'>\n",
      "Index: 15060 entries, 11509 to 15088\n",
      "Data columns (total 15 columns):\n",
      " #   Column          Non-Null Count  Dtype \n",
      "---  ------          --------------  ----- \n",
      " 0   Age             15060 non-null  int64 \n",
      " 1   Work_class      15060 non-null  object\n",
      " 2   Final_Weight    15060 non-null  int64 \n",
      " 3   Education       15060 non-null  object\n",
      " 4   Education_Num   15060 non-null  int64 \n",
      " 5   Marital_Status  15060 non-null  object\n",
      " 6   Occupation      15060 non-null  object\n",
      " 7   Relationship    15060 non-null  object\n",
      " 8   Race            15060 non-null  object\n",
      " 9   Sex             15060 non-null  object\n",
      " 10  Capital_Gain    15060 non-null  int64 \n",
      " 11  Capital_Loss    15060 non-null  int64 \n",
      " 12  Hours_per_Week  15060 non-null  int64 \n",
      " 13  Native_Country  15060 non-null  object\n",
      " 14  Income          15060 non-null  object\n",
      "dtypes: int64(6), object(9)\n",
      "memory usage: 1.8+ MB\n"
     ]
    }
   ],
   "source": [
    "adult_test.info()"
   ],
   "metadata": {
    "collapsed": false,
    "ExecuteTime": {
     "end_time": "2024-03-07T08:33:34.005858800Z",
     "start_time": "2024-03-07T08:33:33.858252800Z"
    }
   },
   "id": "7610b46833da443c"
  },
  {
   "cell_type": "code",
   "execution_count": 171,
   "outputs": [
    {
     "name": "stdout",
     "output_type": "stream",
     "text": [
      "Missing values in each column:\n",
      "Age               0\n",
      "Work_class        0\n",
      "Final_Weight      0\n",
      "Education         0\n",
      "Education_Num     0\n",
      "Marital_Status    0\n",
      "Occupation        0\n",
      "Relationship      0\n",
      "Race              0\n",
      "Sex               0\n",
      "Capital_Gain      0\n",
      "Capital_Loss      0\n",
      "Hours_per_Week    0\n",
      "Native_Country    0\n",
      "Income            0\n",
      "dtype: int64\n"
     ]
    }
   ],
   "source": [
    "# Assuming you have already read the data into 'adult_data' DataFrame\n",
    "missing_values = adult_test.isnull().sum()\n",
    "\n",
    "print(\"Missing values in each column:\")\n",
    "print(missing_values)"
   ],
   "metadata": {
    "collapsed": false,
    "ExecuteTime": {
     "end_time": "2024-03-07T08:33:34.025804200Z",
     "start_time": "2024-03-07T08:33:33.934049700Z"
    }
   },
   "id": "4165b16d9d29e8c"
  },
  {
   "cell_type": "code",
   "execution_count": 172,
   "outputs": [],
   "source": [
    "# Save the modified DataFrame to a new CSV file\n",
    "adult_test.to_csv('adult_test_processed.csv', index=False)"
   ],
   "metadata": {
    "collapsed": false,
    "ExecuteTime": {
     "end_time": "2024-03-07T08:33:34.160443400Z",
     "start_time": "2024-03-07T08:33:33.963970100Z"
    }
   },
   "id": "6e394ff156d65ebf"
  }
 ],
 "metadata": {
  "kernelspec": {
   "display_name": "Python 3",
   "language": "python",
   "name": "python3"
  },
  "language_info": {
   "codemirror_mode": {
    "name": "ipython",
    "version": 2
   },
   "file_extension": ".py",
   "mimetype": "text/x-python",
   "name": "python",
   "nbconvert_exporter": "python",
   "pygments_lexer": "ipython2",
   "version": "2.7.6"
  }
 },
 "nbformat": 4,
 "nbformat_minor": 5
}
