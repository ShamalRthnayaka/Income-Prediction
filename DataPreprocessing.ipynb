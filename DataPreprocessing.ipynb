{
 "cells": [
  {
   "cell_type": "code",
   "execution_count": 151,
   "outputs": [
    {
     "data": {
      "text/plain": "    Age         Work_class  Final_Weight      Education  Education_Num  \\\n0    39          State-gov         77516      Bachelors             13   \n1    50   Self-emp-not-inc         83311      Bachelors             13   \n2    38            Private        215646        HS-grad              9   \n3    53            Private        234721           11th              7   \n4    28            Private        338409      Bachelors             13   \n..  ...                ...           ...            ...            ...   \n95   29          Local-gov        115585   Some-college             10   \n96   48   Self-emp-not-inc        191277      Doctorate             16   \n97   37            Private        202683   Some-college             10   \n98   48            Private        171095     Assoc-acdm             12   \n99   32        Federal-gov        249409        HS-grad              9   \n\n         Marital_Status          Occupation    Relationship    Race      Sex  \\\n0         Never-married        Adm-clerical   Not-in-family   White     Male   \n1    Married-civ-spouse     Exec-managerial         Husband   White     Male   \n2              Divorced   Handlers-cleaners   Not-in-family   White     Male   \n3    Married-civ-spouse   Handlers-cleaners         Husband   Black     Male   \n4    Married-civ-spouse      Prof-specialty            Wife   Black   Female   \n..                  ...                 ...             ...     ...      ...   \n95        Never-married   Handlers-cleaners   Not-in-family   White     Male   \n96   Married-civ-spouse      Prof-specialty         Husband   White     Male   \n97   Married-civ-spouse               Sales         Husband   White     Male   \n98             Divorced     Exec-managerial       Unmarried   White   Female   \n99        Never-married       Other-service       Own-child   Black     Male   \n\n    Capital_Gain  Capital_Loss  Hours_per_Week  Native_Country  Income  \n0           2174             0              40   United-States   <=50K  \n1              0             0              13   United-States   <=50K  \n2              0             0              40   United-States   <=50K  \n3              0             0              40   United-States   <=50K  \n4              0             0              40            Cuba   <=50K  \n..           ...           ...             ...             ...     ...  \n95             0             0              50   United-States   <=50K  \n96             0          1902              60   United-States    >50K  \n97             0             0              48   United-States    >50K  \n98             0             0              40         England   <=50K  \n99             0             0              40   United-States   <=50K  \n\n[100 rows x 15 columns]",
      "text/html": "<div>\n<style scoped>\n    .dataframe tbody tr th:only-of-type {\n        vertical-align: middle;\n    }\n\n    .dataframe tbody tr th {\n        vertical-align: top;\n    }\n\n    .dataframe thead th {\n        text-align: right;\n    }\n</style>\n<table border=\"1\" class=\"dataframe\">\n  <thead>\n    <tr style=\"text-align: right;\">\n      <th></th>\n      <th>Age</th>\n      <th>Work_class</th>\n      <th>Final_Weight</th>\n      <th>Education</th>\n      <th>Education_Num</th>\n      <th>Marital_Status</th>\n      <th>Occupation</th>\n      <th>Relationship</th>\n      <th>Race</th>\n      <th>Sex</th>\n      <th>Capital_Gain</th>\n      <th>Capital_Loss</th>\n      <th>Hours_per_Week</th>\n      <th>Native_Country</th>\n      <th>Income</th>\n    </tr>\n  </thead>\n  <tbody>\n    <tr>\n      <th>0</th>\n      <td>39</td>\n      <td>State-gov</td>\n      <td>77516</td>\n      <td>Bachelors</td>\n      <td>13</td>\n      <td>Never-married</td>\n      <td>Adm-clerical</td>\n      <td>Not-in-family</td>\n      <td>White</td>\n      <td>Male</td>\n      <td>2174</td>\n      <td>0</td>\n      <td>40</td>\n      <td>United-States</td>\n      <td>&lt;=50K</td>\n    </tr>\n    <tr>\n      <th>1</th>\n      <td>50</td>\n      <td>Self-emp-not-inc</td>\n      <td>83311</td>\n      <td>Bachelors</td>\n      <td>13</td>\n      <td>Married-civ-spouse</td>\n      <td>Exec-managerial</td>\n      <td>Husband</td>\n      <td>White</td>\n      <td>Male</td>\n      <td>0</td>\n      <td>0</td>\n      <td>13</td>\n      <td>United-States</td>\n      <td>&lt;=50K</td>\n    </tr>\n    <tr>\n      <th>2</th>\n      <td>38</td>\n      <td>Private</td>\n      <td>215646</td>\n      <td>HS-grad</td>\n      <td>9</td>\n      <td>Divorced</td>\n      <td>Handlers-cleaners</td>\n      <td>Not-in-family</td>\n      <td>White</td>\n      <td>Male</td>\n      <td>0</td>\n      <td>0</td>\n      <td>40</td>\n      <td>United-States</td>\n      <td>&lt;=50K</td>\n    </tr>\n    <tr>\n      <th>3</th>\n      <td>53</td>\n      <td>Private</td>\n      <td>234721</td>\n      <td>11th</td>\n      <td>7</td>\n      <td>Married-civ-spouse</td>\n      <td>Handlers-cleaners</td>\n      <td>Husband</td>\n      <td>Black</td>\n      <td>Male</td>\n      <td>0</td>\n      <td>0</td>\n      <td>40</td>\n      <td>United-States</td>\n      <td>&lt;=50K</td>\n    </tr>\n    <tr>\n      <th>4</th>\n      <td>28</td>\n      <td>Private</td>\n      <td>338409</td>\n      <td>Bachelors</td>\n      <td>13</td>\n      <td>Married-civ-spouse</td>\n      <td>Prof-specialty</td>\n      <td>Wife</td>\n      <td>Black</td>\n      <td>Female</td>\n      <td>0</td>\n      <td>0</td>\n      <td>40</td>\n      <td>Cuba</td>\n      <td>&lt;=50K</td>\n    </tr>\n    <tr>\n      <th>...</th>\n      <td>...</td>\n      <td>...</td>\n      <td>...</td>\n      <td>...</td>\n      <td>...</td>\n      <td>...</td>\n      <td>...</td>\n      <td>...</td>\n      <td>...</td>\n      <td>...</td>\n      <td>...</td>\n      <td>...</td>\n      <td>...</td>\n      <td>...</td>\n      <td>...</td>\n    </tr>\n    <tr>\n      <th>95</th>\n      <td>29</td>\n      <td>Local-gov</td>\n      <td>115585</td>\n      <td>Some-college</td>\n      <td>10</td>\n      <td>Never-married</td>\n      <td>Handlers-cleaners</td>\n      <td>Not-in-family</td>\n      <td>White</td>\n      <td>Male</td>\n      <td>0</td>\n      <td>0</td>\n      <td>50</td>\n      <td>United-States</td>\n      <td>&lt;=50K</td>\n    </tr>\n    <tr>\n      <th>96</th>\n      <td>48</td>\n      <td>Self-emp-not-inc</td>\n      <td>191277</td>\n      <td>Doctorate</td>\n      <td>16</td>\n      <td>Married-civ-spouse</td>\n      <td>Prof-specialty</td>\n      <td>Husband</td>\n      <td>White</td>\n      <td>Male</td>\n      <td>0</td>\n      <td>1902</td>\n      <td>60</td>\n      <td>United-States</td>\n      <td>&gt;50K</td>\n    </tr>\n    <tr>\n      <th>97</th>\n      <td>37</td>\n      <td>Private</td>\n      <td>202683</td>\n      <td>Some-college</td>\n      <td>10</td>\n      <td>Married-civ-spouse</td>\n      <td>Sales</td>\n      <td>Husband</td>\n      <td>White</td>\n      <td>Male</td>\n      <td>0</td>\n      <td>0</td>\n      <td>48</td>\n      <td>United-States</td>\n      <td>&gt;50K</td>\n    </tr>\n    <tr>\n      <th>98</th>\n      <td>48</td>\n      <td>Private</td>\n      <td>171095</td>\n      <td>Assoc-acdm</td>\n      <td>12</td>\n      <td>Divorced</td>\n      <td>Exec-managerial</td>\n      <td>Unmarried</td>\n      <td>White</td>\n      <td>Female</td>\n      <td>0</td>\n      <td>0</td>\n      <td>40</td>\n      <td>England</td>\n      <td>&lt;=50K</td>\n    </tr>\n    <tr>\n      <th>99</th>\n      <td>32</td>\n      <td>Federal-gov</td>\n      <td>249409</td>\n      <td>HS-grad</td>\n      <td>9</td>\n      <td>Never-married</td>\n      <td>Other-service</td>\n      <td>Own-child</td>\n      <td>Black</td>\n      <td>Male</td>\n      <td>0</td>\n      <td>0</td>\n      <td>40</td>\n      <td>United-States</td>\n      <td>&lt;=50K</td>\n    </tr>\n  </tbody>\n</table>\n<p>100 rows × 15 columns</p>\n</div>"
     },
     "execution_count": 151,
     "metadata": {},
     "output_type": "execute_result"
    }
   ],
   "source": [
    "import pandas as pd\n",
    "\n",
    "# Replace 'your_data_file.DATA' and 'your_csv_file.csv' with actual file paths\n",
    "column_names = [\"Age\", \"Work_class\", \"Final_Weight\", \"Education\", \"Education_Num\", \"Marital_Status\", \"Occupation\", \"Relationship\",\n",
    "                \"Race\", \"Sex\", \"Capital_Gain\", \"Capital_Loss\", \"Hours_per_Week\", \"Native_Country\", \"Income\"]\n",
    "\n",
    "adult = pd.read_csv('F:\\\\IIT Platforms\\\\Second Year\\\\2 semester\\\\CM2604 Machine Learning\\\\Income-Prediction\\\\Dataset\\\\adult.data', delimiter=',', names=column_names)  # Adjust delimiter if needed\n",
    "adult.to_csv('adult.csv', index=False)\n",
    "adult_data = pd.read_csv(\"adult.csv\")\n",
    "adult_data.head(100)"
   ],
   "metadata": {
    "collapsed": false,
    "ExecuteTime": {
     "end_time": "2024-02-17T11:06:02.250182Z",
     "start_time": "2024-02-17T11:06:01.513152600Z"
    }
   },
   "id": "33aec64564dcdebb"
  },
  {
   "cell_type": "code",
   "execution_count": 152,
   "outputs": [
    {
     "name": "stdout",
     "output_type": "stream",
     "text": [
      "<class 'pandas.core.frame.DataFrame'>\n",
      "RangeIndex: 32561 entries, 0 to 32560\n",
      "Data columns (total 15 columns):\n",
      " #   Column          Non-Null Count  Dtype \n",
      "---  ------          --------------  ----- \n",
      " 0   Age             32561 non-null  int64 \n",
      " 1   Work_class      32561 non-null  object\n",
      " 2   Final_Weight    32561 non-null  int64 \n",
      " 3   Education       32561 non-null  object\n",
      " 4   Education_Num   32561 non-null  int64 \n",
      " 5   Marital_Status  32561 non-null  object\n",
      " 6   Occupation      32561 non-null  object\n",
      " 7   Relationship    32561 non-null  object\n",
      " 8   Race            32561 non-null  object\n",
      " 9   Sex             32561 non-null  object\n",
      " 10  Capital_Gain    32561 non-null  int64 \n",
      " 11  Capital_Loss    32561 non-null  int64 \n",
      " 12  Hours_per_Week  32561 non-null  int64 \n",
      " 13  Native_Country  32561 non-null  object\n",
      " 14  Income          32561 non-null  object\n",
      "dtypes: int64(6), object(9)\n",
      "memory usage: 3.7+ MB\n"
     ]
    }
   ],
   "source": [
    "adult_data.info()"
   ],
   "metadata": {
    "collapsed": false,
    "ExecuteTime": {
     "end_time": "2024-02-17T11:06:02.443664Z",
     "start_time": "2024-02-17T11:06:02.255168700Z"
    }
   },
   "id": "bb1732c4129c3c2a"
  },
  {
   "cell_type": "code",
   "execution_count": 153,
   "outputs": [
    {
     "data": {
      "text/plain": "Age                  73\nWork_class            9\nFinal_Weight      21648\nEducation            16\nEducation_Num        16\nMarital_Status        7\nOccupation           15\nRelationship          6\nRace                  5\nSex                   2\nCapital_Gain        119\nCapital_Loss         92\nHours_per_Week       94\nNative_Country       42\nIncome                2\ndtype: int64"
     },
     "execution_count": 153,
     "metadata": {},
     "output_type": "execute_result"
    }
   ],
   "source": [
    "adult_data.nunique()"
   ],
   "metadata": {
    "collapsed": false,
    "ExecuteTime": {
     "end_time": "2024-02-17T11:06:02.495525600Z",
     "start_time": "2024-02-17T11:06:02.317003600Z"
    }
   },
   "id": "c8dfaad198cb6c61"
  },
  {
   "cell_type": "code",
   "execution_count": 154,
   "outputs": [
    {
     "name": "stdout",
     "output_type": "stream",
     "text": [
      "Age unique values:\n",
      "[39 50 38 53 28 37 49 52 31 42 30 23 32 40 34 25 43 54 35 59 56 19 20 45\n",
      " 22 48 21 24 57 44 41 29 18 47 46 36 79 27 67 33 76 17 55 61 70 64 71 68\n",
      " 66 51 58 26 60 90 75 65 77 62 63 80 72 74 69 73 81 78 88 82 83 84 85 86\n",
      " 87]\n",
      "\n",
      "\n",
      "Work_class unique values:\n",
      "[' State-gov' ' Self-emp-not-inc' ' Private' ' Federal-gov' ' Local-gov'\n",
      " ' ?' ' Self-emp-inc' ' Without-pay' ' Never-worked']\n",
      "\n",
      "\n",
      "Final_Weight unique values:\n",
      "[ 77516  83311 215646 ...  34066  84661 257302]\n",
      "\n",
      "\n",
      "Education unique values:\n",
      "[' Bachelors' ' HS-grad' ' 11th' ' Masters' ' 9th' ' Some-college'\n",
      " ' Assoc-acdm' ' Assoc-voc' ' 7th-8th' ' Doctorate' ' Prof-school'\n",
      " ' 5th-6th' ' 10th' ' 1st-4th' ' Preschool' ' 12th']\n",
      "\n",
      "\n",
      "Education_Num unique values:\n",
      "[13  9  7 14  5 10 12 11  4 16 15  3  6  2  1  8]\n",
      "\n",
      "\n",
      "Marital_Status unique values:\n",
      "[' Never-married' ' Married-civ-spouse' ' Divorced'\n",
      " ' Married-spouse-absent' ' Separated' ' Married-AF-spouse' ' Widowed']\n",
      "\n",
      "\n",
      "Occupation unique values:\n",
      "[' Adm-clerical' ' Exec-managerial' ' Handlers-cleaners' ' Prof-specialty'\n",
      " ' Other-service' ' Sales' ' Craft-repair' ' Transport-moving'\n",
      " ' Farming-fishing' ' Machine-op-inspct' ' Tech-support' ' ?'\n",
      " ' Protective-serv' ' Armed-Forces' ' Priv-house-serv']\n",
      "\n",
      "\n",
      "Relationship unique values:\n",
      "[' Not-in-family' ' Husband' ' Wife' ' Own-child' ' Unmarried'\n",
      " ' Other-relative']\n",
      "\n",
      "\n",
      "Race unique values:\n",
      "[' White' ' Black' ' Asian-Pac-Islander' ' Amer-Indian-Eskimo' ' Other']\n",
      "\n",
      "\n",
      "Sex unique values:\n",
      "[' Male' ' Female']\n",
      "\n",
      "\n",
      "Capital_Gain unique values:\n",
      "[ 2174     0 14084  5178  5013  2407 14344 15024  7688 34095  4064  4386\n",
      "  7298  1409  3674  1055  3464  2050  2176   594 20051  6849  4101  1111\n",
      "  8614  3411  2597 25236  4650  9386  2463  3103 10605  2964  3325  2580\n",
      "  3471  4865 99999  6514  1471  2329  2105  2885 25124 10520  2202  2961\n",
      " 27828  6767  2228  1506 13550  2635  5556  4787  3781  3137  3818  3942\n",
      "   914   401  2829  2977  4934  2062  2354  5455 15020  1424  3273 22040\n",
      "  4416  3908 10566   991  4931  1086  7430  6497   114  7896  2346  3418\n",
      "  3432  2907  1151  2414  2290 15831 41310  4508  2538  3456  6418  1848\n",
      "  3887  5721  9562  1455  2036  1831 11678  2936  2993  7443  6360  1797\n",
      "  1173  4687  6723  2009  6097  2653  1639 18481  7978  2387  5060]\n",
      "\n",
      "\n",
      "Capital_Loss unique values:\n",
      "[   0 2042 1408 1902 1573 1887 1719 1762 1564 2179 1816 1980 1977 1876\n",
      " 1340 2206 1741 1485 2339 2415 1380 1721 2051 2377 1669 2352 1672  653\n",
      " 2392 1504 2001 1590 1651 1628 1848 1740 2002 1579 2258 1602  419 2547\n",
      " 2174 2205 1726 2444 1138 2238  625  213 1539  880 1668 1092 1594 3004\n",
      " 2231 1844  810 2824 2559 2057 1974  974 2149 1825 1735 1258 2129 2603\n",
      " 2282  323 4356 2246 1617 1648 2489 3770 1755 3683 2267 2080 2457  155\n",
      " 3900 2201 1944 2467 2163 2754 2472 1411]\n",
      "\n",
      "\n",
      "Hours_per_Week unique values:\n",
      "[40 13 16 45 50 80 30 35 60 20 52 44 15 25 38 43 55 48 58 32 70  2 22 56\n",
      " 41 28 36 24 46 42 12 65  1 10 34 75 98 33 54  8  6 64 19 18 72  5  9 47\n",
      " 37 21 26 14  4 59  7 99 53 39 62 57 78 90 66 11 49 84  3 17 68 27 85 31\n",
      " 51 77 63 23 87 88 73 89 97 94 29 96 67 82 86 91 81 76 92 61 74 95]\n",
      "\n",
      "\n",
      "Native_Country unique values:\n",
      "[' United-States' ' Cuba' ' Jamaica' ' India' ' ?' ' Mexico' ' South'\n",
      " ' Puerto-Rico' ' Honduras' ' England' ' Canada' ' Germany' ' Iran'\n",
      " ' Philippines' ' Italy' ' Poland' ' Columbia' ' Cambodia' ' Thailand'\n",
      " ' Ecuador' ' Laos' ' Taiwan' ' Haiti' ' Portugal' ' Dominican-Republic'\n",
      " ' El-Salvador' ' France' ' Guatemala' ' China' ' Japan' ' Yugoslavia'\n",
      " ' Peru' ' Outlying-US(Guam-USVI-etc)' ' Scotland' ' Trinadad&Tobago'\n",
      " ' Greece' ' Nicaragua' ' Vietnam' ' Hong' ' Ireland' ' Hungary'\n",
      " ' Holand-Netherlands']\n",
      "\n",
      "\n",
      "Income unique values:\n",
      "[' <=50K' ' >50K']\n"
     ]
    }
   ],
   "source": [
    "# Print unique values for each column\n",
    "for column in adult_data.columns:\n",
    "    unique_values = adult_data[column].unique()\n",
    "    print(f\"{column} unique values:\")\n",
    "    print(unique_values)\n",
    "    print(\"\\n\")"
   ],
   "metadata": {
    "collapsed": false,
    "ExecuteTime": {
     "end_time": "2024-02-17T11:06:02.544394600Z",
     "start_time": "2024-02-17T11:06:02.377840800Z"
    }
   },
   "id": "9cd5ea2f209ee2ae"
  },
  {
   "cell_type": "code",
   "execution_count": 155,
   "outputs": [
    {
     "name": "stdout",
     "output_type": "stream",
     "text": [
      "Work_class unique values after removing '?':\n",
      "[' State-gov' ' Self-emp-not-inc' ' Private' ' Federal-gov' ' Local-gov'\n",
      " ' Self-emp-inc' ' Without-pay' ' Never-worked']\n"
     ]
    }
   ],
   "source": [
    "# Replace '?' with NaN in the 'Work_class' column\n",
    "adult_data['Work_class'].replace(' ?', pd.NA, inplace=True)\n",
    "\n",
    "# Drop rows with NaN in the 'Work_class' column\n",
    "adult_data = adult_data.dropna(subset=['Work_class'])\n",
    "\n",
    "# Print unique values for the 'Work_class' column after removing '?'\n",
    "print(\"Work_class unique values after removing '?':\")\n",
    "print(adult_data['Work_class'].unique())"
   ],
   "metadata": {
    "collapsed": false,
    "ExecuteTime": {
     "end_time": "2024-02-17T11:06:02.614207700Z",
     "start_time": "2024-02-17T11:06:02.503503800Z"
    }
   },
   "id": "d488744566044548"
  },
  {
   "cell_type": "code",
   "execution_count": 156,
   "outputs": [
    {
     "name": "stdout",
     "output_type": "stream",
     "text": [
      "Occupation unique values after removing '?':\n",
      "[' Adm-clerical' ' Exec-managerial' ' Handlers-cleaners' ' Prof-specialty'\n",
      " ' Other-service' ' Sales' ' Craft-repair' ' Transport-moving'\n",
      " ' Farming-fishing' ' Machine-op-inspct' ' Tech-support'\n",
      " ' Protective-serv' ' Armed-Forces' ' Priv-house-serv']\n"
     ]
    }
   ],
   "source": [
    "# Replace '?' with NaN in the 'Occupation' column\n",
    "adult_data['Occupation'].replace(' ?', pd.NA, inplace=True)\n",
    "\n",
    "# Drop rows with NaN in the 'Occupation' column\n",
    "adult_data = adult_data.dropna(subset=['Occupation'])\n",
    "\n",
    "# Print unique values for the 'Occupation' column after removing '?'\n",
    "print(\"Occupation unique values after removing '?':\")\n",
    "print(adult_data['Occupation'].unique())"
   ],
   "metadata": {
    "collapsed": false,
    "ExecuteTime": {
     "end_time": "2024-02-17T11:06:02.698982700Z",
     "start_time": "2024-02-17T11:06:02.549382100Z"
    }
   },
   "id": "63c78e965cec6d2e"
  },
  {
   "cell_type": "code",
   "execution_count": 157,
   "outputs": [
    {
     "name": "stdout",
     "output_type": "stream",
     "text": [
      "Native_Country unique values after removing '?':\n",
      "[' United-States' ' Cuba' ' Jamaica' ' India' ' Mexico' ' Puerto-Rico'\n",
      " ' Honduras' ' England' ' Canada' ' Germany' ' Iran' ' Philippines'\n",
      " ' Poland' ' Columbia' ' Cambodia' ' Thailand' ' Ecuador' ' Laos'\n",
      " ' Taiwan' ' Haiti' ' Portugal' ' Dominican-Republic' ' El-Salvador'\n",
      " ' France' ' Guatemala' ' Italy' ' China' ' South' ' Japan' ' Yugoslavia'\n",
      " ' Peru' ' Outlying-US(Guam-USVI-etc)' ' Scotland' ' Trinadad&Tobago'\n",
      " ' Greece' ' Nicaragua' ' Vietnam' ' Hong' ' Ireland' ' Hungary'\n",
      " ' Holand-Netherlands']\n"
     ]
    }
   ],
   "source": [
    "# Replace '?' with NaN in the 'Native_Country' column\n",
    "adult_data['Native_Country'].replace(' ?', pd.NA, inplace=True)\n",
    "\n",
    "# Drop rows with NaN in the 'Native_Country' column\n",
    "adult_data = adult_data.dropna(subset=['Native_Country'])\n",
    "\n",
    "# Print unique values for the 'Native_Country' column after removing '?'\n",
    "print(\"Native_Country unique values after removing '?':\")\n",
    "print(adult_data['Native_Country'].unique())"
   ],
   "metadata": {
    "collapsed": false,
    "ExecuteTime": {
     "end_time": "2024-02-17T11:06:02.702970200Z",
     "start_time": "2024-02-17T11:06:02.653104400Z"
    }
   },
   "id": "900a68419f67f9b3"
  },
  {
   "cell_type": "code",
   "execution_count": 158,
   "outputs": [
    {
     "name": "stdout",
     "output_type": "stream",
     "text": [
      "Mean value of 'Capital_Loss' (excluding 0 values): 1867.8983882270497\n",
      "\n",
      "Updated 'Capital_Loss' column:\n",
      "0        1867.898388\n",
      "1        1867.898388\n",
      "2        1867.898388\n",
      "3        1867.898388\n",
      "4        1867.898388\n",
      "            ...     \n",
      "32556    1867.898388\n",
      "32557    1867.898388\n",
      "32558    1867.898388\n",
      "32559    1867.898388\n",
      "32560    1867.898388\n",
      "Name: Capital_Loss, Length: 30162, dtype: float64\n",
      "[1867.89838823 2042.         1408.         1902.         1887.\n",
      " 1719.         1762.         1564.         2179.         1816.\n",
      " 1980.         1977.         1876.         1340.         2206.\n",
      " 1741.         1485.         2339.         2415.         1380.\n",
      " 1721.         2051.         2377.         1669.         2352.\n",
      " 1672.          653.         2392.         1504.         1590.\n",
      " 1651.         1628.         1848.         2001.         1740.\n",
      " 2002.         1579.         2258.         1602.         2547.\n",
      " 2205.         1726.         2444.         1138.         2238.\n",
      "  625.          213.         1539.          880.         1668.\n",
      " 1092.         1594.         2231.         1844.          810.\n",
      " 2824.         2559.         2057.         1573.         1974.\n",
      "  974.         2174.         2149.         1735.         1258.\n",
      " 2603.         2282.          323.         2246.         1617.\n",
      " 1648.         1825.         3770.         1755.         3683.\n",
      " 2129.         4356.         2267.         2080.         2457.\n",
      "  419.          155.         3900.         2201.         1944.\n",
      " 2467.         2754.         2472.         3004.         1411.        ]\n"
     ]
    }
   ],
   "source": [
    "# Calculate the mean of 'Capital_Loss' excluding 0 values\n",
    "mean_capital_loss = adult_data[adult_data['Capital_Loss'] != 0]['Capital_Loss'].mean()\n",
    "\n",
    "# Replace 0 values in 'Capital_Loss' with the calculated mean\n",
    "adult_data['Capital_Loss'] = adult_data['Capital_Loss'].replace(0, mean_capital_loss)\n",
    "\n",
    "# Print the mean value and updated 'Capital_Loss' column\n",
    "print(f\"Mean value of 'Capital_Loss' (excluding 0 values): {mean_capital_loss}\")\n",
    "print(\"\\nUpdated 'Capital_Loss' column:\")\n",
    "print(adult_data['Capital_Loss'])\n",
    "print(adult_data['Capital_Loss'].unique())"
   ],
   "metadata": {
    "collapsed": false,
    "ExecuteTime": {
     "end_time": "2024-02-17T11:06:02.821651900Z",
     "start_time": "2024-02-17T11:06:02.690006800Z"
    }
   },
   "id": "4e5a9cd9e034f1cb"
  },
  {
   "cell_type": "code",
   "execution_count": 159,
   "outputs": [
    {
     "name": "stdout",
     "output_type": "stream",
     "text": [
      "Mean value of 'Capital_Gain' (excluding 0 values): 12977.596926713948\n",
      "\n",
      "Updated 'Capital_Gain' column:\n",
      "0         2174.000000\n",
      "1        12977.596927\n",
      "2        12977.596927\n",
      "3        12977.596927\n",
      "4        12977.596927\n",
      "             ...     \n",
      "32556    12977.596927\n",
      "32557    12977.596927\n",
      "32558    12977.596927\n",
      "32559    12977.596927\n",
      "32560    15024.000000\n",
      "Name: Capital_Gain, Length: 30162, dtype: float64\n",
      "[ 2174.         12977.59692671 14084.          5178.\n",
      "  5013.          2407.         14344.         15024.\n",
      "  7688.          4064.          4386.          7298.\n",
      "  1409.          3674.          1055.          2050.\n",
      "  2176.           594.         20051.          6849.\n",
      "  4101.          8614.          3411.          2597.\n",
      " 25236.          4650.          2463.          3103.\n",
      " 10605.          2964.          3325.          2580.\n",
      "  3471.          4865.         99999.          6514.\n",
      "  1471.          2329.          2105.          2885.\n",
      " 10520.          2202.          2961.         27828.\n",
      "  6767.          2228.          1506.         13550.\n",
      "  2635.          5556.          4787.          3781.\n",
      "  3137.          3818.           914.           401.\n",
      "  2829.          2977.          4934.          2062.\n",
      "  2354.          3464.          5455.         15020.\n",
      "  1424.          3273.         22040.          4416.\n",
      " 10566.          4931.          7430.         34095.\n",
      "  6497.          3908.           114.          2346.\n",
      "  2907.          1151.          9386.          2414.\n",
      "  2290.          3418.         15831.         41310.\n",
      "  4508.          2538.          3456.          1848.\n",
      "  3887.          7896.          5721.          9562.\n",
      "  6418.          1455.          2036.          3942.\n",
      "  1831.         11678.          2936.          2993.\n",
      "  7443.          6360.          4687.          1797.\n",
      "  6723.          2009.          3432.          6097.\n",
      "  1639.          2653.         18481.         25124.\n",
      "  7978.           991.          1173.          2387.\n",
      "  5060.          1086.        ]\n"
     ]
    }
   ],
   "source": [
    "# Calculate the mean of 'Capital_Gain' excluding 0 values\n",
    "mean_capital_gain = adult_data[adult_data['Capital_Gain'] != 0]['Capital_Gain'].mean()\n",
    "\n",
    "# Replace 0 values in 'Capital_Gain' with the calculated mean\n",
    "adult_data['Capital_Gain'] = adult_data['Capital_Gain'].replace(0, mean_capital_gain)\n",
    "\n",
    "# Print the mean value and updated 'Capital_Gain' column\n",
    "print(f\"Mean value of 'Capital_Gain' (excluding 0 values): {mean_capital_gain}\")\n",
    "print(\"\\nUpdated 'Capital_Gain' column:\")\n",
    "print(adult_data['Capital_Gain'])\n",
    "print(adult_data['Capital_Gain'].unique())\n"
   ],
   "metadata": {
    "collapsed": false,
    "ExecuteTime": {
     "end_time": "2024-02-17T11:06:02.836613700Z",
     "start_time": "2024-02-17T11:06:02.725909800Z"
    }
   },
   "id": "75be220e663b2d8a"
  },
  {
   "cell_type": "code",
   "execution_count": 160,
   "outputs": [
    {
     "data": {
      "text/plain": "       Age         Work_class  Final_Weight    Education  Education_Num  \\\n0       39          State-gov         77516    Bachelors             13   \n1       50   Self-emp-not-inc         83311    Bachelors             13   \n2       38            Private        215646      HS-grad              9   \n3       53            Private        234721         11th              7   \n4       28            Private        338409    Bachelors             13   \n...    ...                ...           ...          ...            ...   \n32556   27            Private        257302   Assoc-acdm             12   \n32557   40            Private        154374      HS-grad              9   \n32558   58            Private        151910      HS-grad              9   \n32559   22            Private        201490      HS-grad              9   \n32560   52       Self-emp-inc        287927      HS-grad              9   \n\n            Marital_Status          Occupation    Relationship    Race  \\\n0            Never-married        Adm-clerical   Not-in-family   White   \n1       Married-civ-spouse     Exec-managerial         Husband   White   \n2                 Divorced   Handlers-cleaners   Not-in-family   White   \n3       Married-civ-spouse   Handlers-cleaners         Husband   Black   \n4       Married-civ-spouse      Prof-specialty            Wife   Black   \n...                    ...                 ...             ...     ...   \n32556   Married-civ-spouse        Tech-support            Wife   White   \n32557   Married-civ-spouse   Machine-op-inspct         Husband   White   \n32558              Widowed        Adm-clerical       Unmarried   White   \n32559        Never-married        Adm-clerical       Own-child   White   \n32560   Married-civ-spouse     Exec-managerial            Wife   White   \n\n           Sex  Capital_Gain  Capital_Loss  Hours_per_Week  Native_Country  \\\n0         Male   2174.000000   1867.898388              40   United-States   \n1         Male  12977.596927   1867.898388              13   United-States   \n2         Male  12977.596927   1867.898388              40   United-States   \n3         Male  12977.596927   1867.898388              40   United-States   \n4       Female  12977.596927   1867.898388              40            Cuba   \n...        ...           ...           ...             ...             ...   \n32556   Female  12977.596927   1867.898388              38   United-States   \n32557     Male  12977.596927   1867.898388              40   United-States   \n32558   Female  12977.596927   1867.898388              40   United-States   \n32559     Male  12977.596927   1867.898388              20   United-States   \n32560   Female  15024.000000   1867.898388              40   United-States   \n\n       Income  \n0       <=50K  \n1       <=50K  \n2       <=50K  \n3       <=50K  \n4       <=50K  \n...       ...  \n32556   <=50K  \n32557    >50K  \n32558   <=50K  \n32559   <=50K  \n32560    >50K  \n\n[30139 rows x 15 columns]",
      "text/html": "<div>\n<style scoped>\n    .dataframe tbody tr th:only-of-type {\n        vertical-align: middle;\n    }\n\n    .dataframe tbody tr th {\n        vertical-align: top;\n    }\n\n    .dataframe thead th {\n        text-align: right;\n    }\n</style>\n<table border=\"1\" class=\"dataframe\">\n  <thead>\n    <tr style=\"text-align: right;\">\n      <th></th>\n      <th>Age</th>\n      <th>Work_class</th>\n      <th>Final_Weight</th>\n      <th>Education</th>\n      <th>Education_Num</th>\n      <th>Marital_Status</th>\n      <th>Occupation</th>\n      <th>Relationship</th>\n      <th>Race</th>\n      <th>Sex</th>\n      <th>Capital_Gain</th>\n      <th>Capital_Loss</th>\n      <th>Hours_per_Week</th>\n      <th>Native_Country</th>\n      <th>Income</th>\n    </tr>\n  </thead>\n  <tbody>\n    <tr>\n      <th>0</th>\n      <td>39</td>\n      <td>State-gov</td>\n      <td>77516</td>\n      <td>Bachelors</td>\n      <td>13</td>\n      <td>Never-married</td>\n      <td>Adm-clerical</td>\n      <td>Not-in-family</td>\n      <td>White</td>\n      <td>Male</td>\n      <td>2174.000000</td>\n      <td>1867.898388</td>\n      <td>40</td>\n      <td>United-States</td>\n      <td>&lt;=50K</td>\n    </tr>\n    <tr>\n      <th>1</th>\n      <td>50</td>\n      <td>Self-emp-not-inc</td>\n      <td>83311</td>\n      <td>Bachelors</td>\n      <td>13</td>\n      <td>Married-civ-spouse</td>\n      <td>Exec-managerial</td>\n      <td>Husband</td>\n      <td>White</td>\n      <td>Male</td>\n      <td>12977.596927</td>\n      <td>1867.898388</td>\n      <td>13</td>\n      <td>United-States</td>\n      <td>&lt;=50K</td>\n    </tr>\n    <tr>\n      <th>2</th>\n      <td>38</td>\n      <td>Private</td>\n      <td>215646</td>\n      <td>HS-grad</td>\n      <td>9</td>\n      <td>Divorced</td>\n      <td>Handlers-cleaners</td>\n      <td>Not-in-family</td>\n      <td>White</td>\n      <td>Male</td>\n      <td>12977.596927</td>\n      <td>1867.898388</td>\n      <td>40</td>\n      <td>United-States</td>\n      <td>&lt;=50K</td>\n    </tr>\n    <tr>\n      <th>3</th>\n      <td>53</td>\n      <td>Private</td>\n      <td>234721</td>\n      <td>11th</td>\n      <td>7</td>\n      <td>Married-civ-spouse</td>\n      <td>Handlers-cleaners</td>\n      <td>Husband</td>\n      <td>Black</td>\n      <td>Male</td>\n      <td>12977.596927</td>\n      <td>1867.898388</td>\n      <td>40</td>\n      <td>United-States</td>\n      <td>&lt;=50K</td>\n    </tr>\n    <tr>\n      <th>4</th>\n      <td>28</td>\n      <td>Private</td>\n      <td>338409</td>\n      <td>Bachelors</td>\n      <td>13</td>\n      <td>Married-civ-spouse</td>\n      <td>Prof-specialty</td>\n      <td>Wife</td>\n      <td>Black</td>\n      <td>Female</td>\n      <td>12977.596927</td>\n      <td>1867.898388</td>\n      <td>40</td>\n      <td>Cuba</td>\n      <td>&lt;=50K</td>\n    </tr>\n    <tr>\n      <th>...</th>\n      <td>...</td>\n      <td>...</td>\n      <td>...</td>\n      <td>...</td>\n      <td>...</td>\n      <td>...</td>\n      <td>...</td>\n      <td>...</td>\n      <td>...</td>\n      <td>...</td>\n      <td>...</td>\n      <td>...</td>\n      <td>...</td>\n      <td>...</td>\n      <td>...</td>\n    </tr>\n    <tr>\n      <th>32556</th>\n      <td>27</td>\n      <td>Private</td>\n      <td>257302</td>\n      <td>Assoc-acdm</td>\n      <td>12</td>\n      <td>Married-civ-spouse</td>\n      <td>Tech-support</td>\n      <td>Wife</td>\n      <td>White</td>\n      <td>Female</td>\n      <td>12977.596927</td>\n      <td>1867.898388</td>\n      <td>38</td>\n      <td>United-States</td>\n      <td>&lt;=50K</td>\n    </tr>\n    <tr>\n      <th>32557</th>\n      <td>40</td>\n      <td>Private</td>\n      <td>154374</td>\n      <td>HS-grad</td>\n      <td>9</td>\n      <td>Married-civ-spouse</td>\n      <td>Machine-op-inspct</td>\n      <td>Husband</td>\n      <td>White</td>\n      <td>Male</td>\n      <td>12977.596927</td>\n      <td>1867.898388</td>\n      <td>40</td>\n      <td>United-States</td>\n      <td>&gt;50K</td>\n    </tr>\n    <tr>\n      <th>32558</th>\n      <td>58</td>\n      <td>Private</td>\n      <td>151910</td>\n      <td>HS-grad</td>\n      <td>9</td>\n      <td>Widowed</td>\n      <td>Adm-clerical</td>\n      <td>Unmarried</td>\n      <td>White</td>\n      <td>Female</td>\n      <td>12977.596927</td>\n      <td>1867.898388</td>\n      <td>40</td>\n      <td>United-States</td>\n      <td>&lt;=50K</td>\n    </tr>\n    <tr>\n      <th>32559</th>\n      <td>22</td>\n      <td>Private</td>\n      <td>201490</td>\n      <td>HS-grad</td>\n      <td>9</td>\n      <td>Never-married</td>\n      <td>Adm-clerical</td>\n      <td>Own-child</td>\n      <td>White</td>\n      <td>Male</td>\n      <td>12977.596927</td>\n      <td>1867.898388</td>\n      <td>20</td>\n      <td>United-States</td>\n      <td>&lt;=50K</td>\n    </tr>\n    <tr>\n      <th>32560</th>\n      <td>52</td>\n      <td>Self-emp-inc</td>\n      <td>287927</td>\n      <td>HS-grad</td>\n      <td>9</td>\n      <td>Married-civ-spouse</td>\n      <td>Exec-managerial</td>\n      <td>Wife</td>\n      <td>White</td>\n      <td>Female</td>\n      <td>15024.000000</td>\n      <td>1867.898388</td>\n      <td>40</td>\n      <td>United-States</td>\n      <td>&gt;50K</td>\n    </tr>\n  </tbody>\n</table>\n<p>30139 rows × 15 columns</p>\n</div>"
     },
     "execution_count": 160,
     "metadata": {},
     "output_type": "execute_result"
    }
   ],
   "source": [
    "adult_data.drop_duplicates()"
   ],
   "metadata": {
    "collapsed": false,
    "ExecuteTime": {
     "end_time": "2024-02-17T11:06:02.931358800Z",
     "start_time": "2024-02-17T11:06:02.768795500Z"
    }
   },
   "id": "94474b4eea2cd586"
  },
  {
   "cell_type": "code",
   "execution_count": 161,
   "outputs": [
    {
     "data": {
      "text/plain": "     Age         Work_class  Final_Weight      Education  Education_Num  \\\n0     39          State-gov         77516      Bachelors             13   \n1     50   Self-emp-not-inc         83311      Bachelors             13   \n2     38            Private        215646        HS-grad              9   \n3     53            Private        234721           11th              7   \n4     28            Private        338409      Bachelors             13   \n..   ...                ...           ...            ...            ...   \n103   20            Private        188300   Some-college             10   \n104   29            Private        103432        HS-grad              9   \n105   32       Self-emp-inc        317660        HS-grad              9   \n107   30            Private        194901           11th              7   \n108   31          Local-gov        189265        HS-grad              9   \n\n          Marital_Status          Occupation    Relationship    Race      Sex  \\\n0          Never-married        Adm-clerical   Not-in-family   White     Male   \n1     Married-civ-spouse     Exec-managerial         Husband   White     Male   \n2               Divorced   Handlers-cleaners   Not-in-family   White     Male   \n3     Married-civ-spouse   Handlers-cleaners         Husband   Black     Male   \n4     Married-civ-spouse      Prof-specialty            Wife   Black   Female   \n..                   ...                 ...             ...     ...      ...   \n103        Never-married        Tech-support       Own-child   White   Female   \n104        Never-married        Craft-repair   Not-in-family   White     Male   \n105   Married-civ-spouse        Craft-repair         Husband   White     Male   \n107        Never-married   Handlers-cleaners       Own-child   White     Male   \n108        Never-married        Adm-clerical   Not-in-family   White   Female   \n\n     Capital_Gain  Capital_Loss  Hours_per_Week  Native_Country  Income  \n0     2174.000000   1867.898388              40   United-States   <=50K  \n1    12977.596927   1867.898388              13   United-States   <=50K  \n2    12977.596927   1867.898388              40   United-States   <=50K  \n3    12977.596927   1867.898388              40   United-States   <=50K  \n4    12977.596927   1867.898388              40            Cuba   <=50K  \n..            ...           ...             ...             ...     ...  \n103  12977.596927   1867.898388              40   United-States   <=50K  \n104  12977.596927   1867.898388              40   United-States   <=50K  \n105   7688.000000   1867.898388              40   United-States    >50K  \n107  12977.596927   1867.898388              40   United-States   <=50K  \n108  12977.596927   1867.898388              40   United-States   <=50K  \n\n[100 rows x 15 columns]",
      "text/html": "<div>\n<style scoped>\n    .dataframe tbody tr th:only-of-type {\n        vertical-align: middle;\n    }\n\n    .dataframe tbody tr th {\n        vertical-align: top;\n    }\n\n    .dataframe thead th {\n        text-align: right;\n    }\n</style>\n<table border=\"1\" class=\"dataframe\">\n  <thead>\n    <tr style=\"text-align: right;\">\n      <th></th>\n      <th>Age</th>\n      <th>Work_class</th>\n      <th>Final_Weight</th>\n      <th>Education</th>\n      <th>Education_Num</th>\n      <th>Marital_Status</th>\n      <th>Occupation</th>\n      <th>Relationship</th>\n      <th>Race</th>\n      <th>Sex</th>\n      <th>Capital_Gain</th>\n      <th>Capital_Loss</th>\n      <th>Hours_per_Week</th>\n      <th>Native_Country</th>\n      <th>Income</th>\n    </tr>\n  </thead>\n  <tbody>\n    <tr>\n      <th>0</th>\n      <td>39</td>\n      <td>State-gov</td>\n      <td>77516</td>\n      <td>Bachelors</td>\n      <td>13</td>\n      <td>Never-married</td>\n      <td>Adm-clerical</td>\n      <td>Not-in-family</td>\n      <td>White</td>\n      <td>Male</td>\n      <td>2174.000000</td>\n      <td>1867.898388</td>\n      <td>40</td>\n      <td>United-States</td>\n      <td>&lt;=50K</td>\n    </tr>\n    <tr>\n      <th>1</th>\n      <td>50</td>\n      <td>Self-emp-not-inc</td>\n      <td>83311</td>\n      <td>Bachelors</td>\n      <td>13</td>\n      <td>Married-civ-spouse</td>\n      <td>Exec-managerial</td>\n      <td>Husband</td>\n      <td>White</td>\n      <td>Male</td>\n      <td>12977.596927</td>\n      <td>1867.898388</td>\n      <td>13</td>\n      <td>United-States</td>\n      <td>&lt;=50K</td>\n    </tr>\n    <tr>\n      <th>2</th>\n      <td>38</td>\n      <td>Private</td>\n      <td>215646</td>\n      <td>HS-grad</td>\n      <td>9</td>\n      <td>Divorced</td>\n      <td>Handlers-cleaners</td>\n      <td>Not-in-family</td>\n      <td>White</td>\n      <td>Male</td>\n      <td>12977.596927</td>\n      <td>1867.898388</td>\n      <td>40</td>\n      <td>United-States</td>\n      <td>&lt;=50K</td>\n    </tr>\n    <tr>\n      <th>3</th>\n      <td>53</td>\n      <td>Private</td>\n      <td>234721</td>\n      <td>11th</td>\n      <td>7</td>\n      <td>Married-civ-spouse</td>\n      <td>Handlers-cleaners</td>\n      <td>Husband</td>\n      <td>Black</td>\n      <td>Male</td>\n      <td>12977.596927</td>\n      <td>1867.898388</td>\n      <td>40</td>\n      <td>United-States</td>\n      <td>&lt;=50K</td>\n    </tr>\n    <tr>\n      <th>4</th>\n      <td>28</td>\n      <td>Private</td>\n      <td>338409</td>\n      <td>Bachelors</td>\n      <td>13</td>\n      <td>Married-civ-spouse</td>\n      <td>Prof-specialty</td>\n      <td>Wife</td>\n      <td>Black</td>\n      <td>Female</td>\n      <td>12977.596927</td>\n      <td>1867.898388</td>\n      <td>40</td>\n      <td>Cuba</td>\n      <td>&lt;=50K</td>\n    </tr>\n    <tr>\n      <th>...</th>\n      <td>...</td>\n      <td>...</td>\n      <td>...</td>\n      <td>...</td>\n      <td>...</td>\n      <td>...</td>\n      <td>...</td>\n      <td>...</td>\n      <td>...</td>\n      <td>...</td>\n      <td>...</td>\n      <td>...</td>\n      <td>...</td>\n      <td>...</td>\n      <td>...</td>\n    </tr>\n    <tr>\n      <th>103</th>\n      <td>20</td>\n      <td>Private</td>\n      <td>188300</td>\n      <td>Some-college</td>\n      <td>10</td>\n      <td>Never-married</td>\n      <td>Tech-support</td>\n      <td>Own-child</td>\n      <td>White</td>\n      <td>Female</td>\n      <td>12977.596927</td>\n      <td>1867.898388</td>\n      <td>40</td>\n      <td>United-States</td>\n      <td>&lt;=50K</td>\n    </tr>\n    <tr>\n      <th>104</th>\n      <td>29</td>\n      <td>Private</td>\n      <td>103432</td>\n      <td>HS-grad</td>\n      <td>9</td>\n      <td>Never-married</td>\n      <td>Craft-repair</td>\n      <td>Not-in-family</td>\n      <td>White</td>\n      <td>Male</td>\n      <td>12977.596927</td>\n      <td>1867.898388</td>\n      <td>40</td>\n      <td>United-States</td>\n      <td>&lt;=50K</td>\n    </tr>\n    <tr>\n      <th>105</th>\n      <td>32</td>\n      <td>Self-emp-inc</td>\n      <td>317660</td>\n      <td>HS-grad</td>\n      <td>9</td>\n      <td>Married-civ-spouse</td>\n      <td>Craft-repair</td>\n      <td>Husband</td>\n      <td>White</td>\n      <td>Male</td>\n      <td>7688.000000</td>\n      <td>1867.898388</td>\n      <td>40</td>\n      <td>United-States</td>\n      <td>&gt;50K</td>\n    </tr>\n    <tr>\n      <th>107</th>\n      <td>30</td>\n      <td>Private</td>\n      <td>194901</td>\n      <td>11th</td>\n      <td>7</td>\n      <td>Never-married</td>\n      <td>Handlers-cleaners</td>\n      <td>Own-child</td>\n      <td>White</td>\n      <td>Male</td>\n      <td>12977.596927</td>\n      <td>1867.898388</td>\n      <td>40</td>\n      <td>United-States</td>\n      <td>&lt;=50K</td>\n    </tr>\n    <tr>\n      <th>108</th>\n      <td>31</td>\n      <td>Local-gov</td>\n      <td>189265</td>\n      <td>HS-grad</td>\n      <td>9</td>\n      <td>Never-married</td>\n      <td>Adm-clerical</td>\n      <td>Not-in-family</td>\n      <td>White</td>\n      <td>Female</td>\n      <td>12977.596927</td>\n      <td>1867.898388</td>\n      <td>40</td>\n      <td>United-States</td>\n      <td>&lt;=50K</td>\n    </tr>\n  </tbody>\n</table>\n<p>100 rows × 15 columns</p>\n</div>"
     },
     "execution_count": 161,
     "metadata": {},
     "output_type": "execute_result"
    }
   ],
   "source": [
    "adult_data.head(100)"
   ],
   "metadata": {
    "collapsed": false,
    "ExecuteTime": {
     "end_time": "2024-02-17T11:06:03.015136800Z",
     "start_time": "2024-02-17T11:06:02.860549900Z"
    }
   },
   "id": "5f5b74608cf21e1f"
  },
  {
   "cell_type": "code",
   "execution_count": 162,
   "outputs": [
    {
     "data": {
      "text/plain": "       Age Work_class  Final_Weight Education  Education_Num  Marital_Status  \\\n10180   17    Private        297246      11th              7   Never-married   \n21767   17    Private        207637      11th              7   Never-married   \n14720   17    Private         99462      11th              7   Never-married   \n13322   17    Private        345403      10th              6   Never-married   \n26088   17    Private        225507      11th              7   Never-married   \n\n               Occupation    Relationship                 Race      Sex  \\\n10180     Priv-house-serv       Own-child                White   Female   \n21767   Handlers-cleaners       Own-child                White     Male   \n14720       Other-service       Own-child   Amer-Indian-Eskimo   Female   \n13322       Other-service       Own-child                White     Male   \n26088   Handlers-cleaners   Not-in-family                Black   Female   \n\n       Capital_Gain  Capital_Loss  Hours_per_Week  Native_Country  Income  \n10180  12977.596927   1867.898388               9   United-States   <=50K  \n21767  12977.596927   1867.898388              10   United-States   <=50K  \n14720  12977.596927   1867.898388              20   United-States   <=50K  \n13322  12977.596927   1867.898388              40   United-States   <=50K  \n26088  12977.596927   1867.898388              15   United-States   <=50K  ",
      "text/html": "<div>\n<style scoped>\n    .dataframe tbody tr th:only-of-type {\n        vertical-align: middle;\n    }\n\n    .dataframe tbody tr th {\n        vertical-align: top;\n    }\n\n    .dataframe thead th {\n        text-align: right;\n    }\n</style>\n<table border=\"1\" class=\"dataframe\">\n  <thead>\n    <tr style=\"text-align: right;\">\n      <th></th>\n      <th>Age</th>\n      <th>Work_class</th>\n      <th>Final_Weight</th>\n      <th>Education</th>\n      <th>Education_Num</th>\n      <th>Marital_Status</th>\n      <th>Occupation</th>\n      <th>Relationship</th>\n      <th>Race</th>\n      <th>Sex</th>\n      <th>Capital_Gain</th>\n      <th>Capital_Loss</th>\n      <th>Hours_per_Week</th>\n      <th>Native_Country</th>\n      <th>Income</th>\n    </tr>\n  </thead>\n  <tbody>\n    <tr>\n      <th>10180</th>\n      <td>17</td>\n      <td>Private</td>\n      <td>297246</td>\n      <td>11th</td>\n      <td>7</td>\n      <td>Never-married</td>\n      <td>Priv-house-serv</td>\n      <td>Own-child</td>\n      <td>White</td>\n      <td>Female</td>\n      <td>12977.596927</td>\n      <td>1867.898388</td>\n      <td>9</td>\n      <td>United-States</td>\n      <td>&lt;=50K</td>\n    </tr>\n    <tr>\n      <th>21767</th>\n      <td>17</td>\n      <td>Private</td>\n      <td>207637</td>\n      <td>11th</td>\n      <td>7</td>\n      <td>Never-married</td>\n      <td>Handlers-cleaners</td>\n      <td>Own-child</td>\n      <td>White</td>\n      <td>Male</td>\n      <td>12977.596927</td>\n      <td>1867.898388</td>\n      <td>10</td>\n      <td>United-States</td>\n      <td>&lt;=50K</td>\n    </tr>\n    <tr>\n      <th>14720</th>\n      <td>17</td>\n      <td>Private</td>\n      <td>99462</td>\n      <td>11th</td>\n      <td>7</td>\n      <td>Never-married</td>\n      <td>Other-service</td>\n      <td>Own-child</td>\n      <td>Amer-Indian-Eskimo</td>\n      <td>Female</td>\n      <td>12977.596927</td>\n      <td>1867.898388</td>\n      <td>20</td>\n      <td>United-States</td>\n      <td>&lt;=50K</td>\n    </tr>\n    <tr>\n      <th>13322</th>\n      <td>17</td>\n      <td>Private</td>\n      <td>345403</td>\n      <td>10th</td>\n      <td>6</td>\n      <td>Never-married</td>\n      <td>Other-service</td>\n      <td>Own-child</td>\n      <td>White</td>\n      <td>Male</td>\n      <td>12977.596927</td>\n      <td>1867.898388</td>\n      <td>40</td>\n      <td>United-States</td>\n      <td>&lt;=50K</td>\n    </tr>\n    <tr>\n      <th>26088</th>\n      <td>17</td>\n      <td>Private</td>\n      <td>225507</td>\n      <td>11th</td>\n      <td>7</td>\n      <td>Never-married</td>\n      <td>Handlers-cleaners</td>\n      <td>Not-in-family</td>\n      <td>Black</td>\n      <td>Female</td>\n      <td>12977.596927</td>\n      <td>1867.898388</td>\n      <td>15</td>\n      <td>United-States</td>\n      <td>&lt;=50K</td>\n    </tr>\n  </tbody>\n</table>\n</div>"
     },
     "execution_count": 162,
     "metadata": {},
     "output_type": "execute_result"
    }
   ],
   "source": [
    "# Sort the DataFrame by the 'Age' column in ascending order\n",
    "adult_data = adult_data.sort_values(by='Age')\n",
    "\n",
    "# Display the sorted DataFrame\n",
    "adult_data.head()"
   ],
   "metadata": {
    "collapsed": false,
    "ExecuteTime": {
     "end_time": "2024-02-17T11:06:03.059018600Z",
     "start_time": "2024-02-17T11:06:02.906427300Z"
    }
   },
   "id": "eb1dd242b13b9b29"
  },
  {
   "cell_type": "code",
   "execution_count": 163,
   "outputs": [
    {
     "name": "stdout",
     "output_type": "stream",
     "text": [
      "Missing values in each column:\n",
      "Age               0\n",
      "Work_class        0\n",
      "Final_Weight      0\n",
      "Education         0\n",
      "Education_Num     0\n",
      "Marital_Status    0\n",
      "Occupation        0\n",
      "Relationship      0\n",
      "Race              0\n",
      "Sex               0\n",
      "Capital_Gain      0\n",
      "Capital_Loss      0\n",
      "Hours_per_Week    0\n",
      "Native_Country    0\n",
      "Income            0\n",
      "dtype: int64\n"
     ]
    }
   ],
   "source": [
    "# Assuming you have already read the data into 'adult_data' DataFrame\n",
    "missing_values = adult_data.isnull().sum()\n",
    "\n",
    "print(\"Missing values in each column:\")\n",
    "print(missing_values)"
   ],
   "metadata": {
    "collapsed": false,
    "ExecuteTime": {
     "end_time": "2024-02-17T11:06:03.151770800Z",
     "start_time": "2024-02-17T11:06:02.966267500Z"
    }
   },
   "id": "5eef25e5ff5b946a"
  },
  {
   "cell_type": "code",
   "execution_count": 164,
   "outputs": [
    {
     "name": "stdout",
     "output_type": "stream",
     "text": [
      "Age unique values:\n",
      "[17 18 19 20 21 22 23 24 25 26 27 28 29 30 31 32 33 34 35 36 37 38 39 40\n",
      " 41 42 43 44 45 46 47 48 49 50 51 52 53 54 55 56 57 58 59 60 61 62 63 64\n",
      " 65 66 67 68 69 70 71 72 73 74 75 76 77 78 79 80 81 82 83 84 85 86 88 90]\n",
      "\n",
      "\n",
      "Work_class unique values:\n",
      "[' Private' ' Self-emp-not-inc' ' Federal-gov' ' Local-gov'\n",
      " ' Self-emp-inc' ' State-gov' ' Without-pay']\n",
      "\n",
      "\n",
      "Final_Weight unique values:\n",
      "[297246 207637  99462 ... 221832  40388 139660]\n",
      "\n",
      "\n",
      "Education unique values:\n",
      "[' 11th' ' 10th' ' 12th' ' HS-grad' ' 9th' ' 5th-6th' ' Some-college'\n",
      " ' 7th-8th' ' Masters' ' Assoc-voc' ' Preschool' ' 1st-4th' ' Bachelors'\n",
      " ' Assoc-acdm' ' Doctorate' ' Prof-school']\n",
      "\n",
      "\n",
      "Education_Num unique values:\n",
      "[ 7  6  8  9  5  3 10  4 14 11  1  2 13 12 16 15]\n",
      "\n",
      "\n",
      "Marital_Status unique values:\n",
      "[' Never-married' ' Married-civ-spouse' ' Married-spouse-absent'\n",
      " ' Divorced' ' Separated' ' Married-AF-spouse' ' Widowed']\n",
      "\n",
      "\n",
      "Occupation unique values:\n",
      "[' Priv-house-serv' ' Handlers-cleaners' ' Other-service' ' Sales'\n",
      " ' Adm-clerical' ' Prof-specialty' ' Craft-repair' ' Machine-op-inspct'\n",
      " ' Tech-support' ' Farming-fishing' ' Transport-moving' ' Protective-serv'\n",
      " ' Exec-managerial' ' Armed-Forces']\n",
      "\n",
      "\n",
      "Relationship unique values:\n",
      "[' Own-child' ' Not-in-family' ' Other-relative' ' Unmarried' ' Husband'\n",
      " ' Wife']\n",
      "\n",
      "\n",
      "Race unique values:\n",
      "[' White' ' Amer-Indian-Eskimo' ' Black' ' Asian-Pac-Islander' ' Other']\n",
      "\n",
      "\n",
      "Sex unique values:\n",
      "[' Female' ' Male']\n",
      "\n",
      "\n",
      "Capital_Gain unique values:\n",
      "[12977.59692671  1055.          2176.           594.\n",
      " 34095.          3103.          2907.          2036.\n",
      "  2597.          4101.          3781.          2961.\n",
      "   114.          4416.          3325.          3908.\n",
      "  2174.          3674.         99999.          4508.\n",
      "  2407.          2580.          8614.         14344.\n",
      "  2885.         13550.          2202.          2463.\n",
      "  7688.          3942.          4650.          2105.\n",
      " 10520.          7298.          5060.          1151.\n",
      "  4386.          2635.          2354.          6849.\n",
      "  5013.          3137.          5178.          4865.\n",
      " 27828.          2829.           914.          3418.\n",
      "  5721.          3464.          3411.          4064.\n",
      "  6497.          9562.         41310.         14084.\n",
      " 15024.          3887.          1831.          4787.\n",
      " 25236.          1471.          2977.          1639.\n",
      "  7443.          7430.          3456.          5455.\n",
      "  1506.          4934.          3471.         15020.\n",
      "  4687.          6418.          2228.          9386.\n",
      "  2936.          2414.         10605.         22040.\n",
      " 20051.         10566.          2290.         11678.\n",
      "  6767.          3818.          6514.          2009.\n",
      "  6723.          1848.          1086.          1797.\n",
      "  2346.           991.          5556.          1409.\n",
      "  3432.          2050.          3273.          6360.\n",
      " 15831.          7896.          2062.          7978.\n",
      " 18481.         25124.          2538.          2964.\n",
      "  2993.          1424.          2387.          2653.\n",
      "  2329.          6097.          1455.          1173.\n",
      "  4931.           401.        ]\n",
      "\n",
      "\n",
      "Capital_Loss unique values:\n",
      "[1867.89838823 1602.         1719.         1721.         2001.\n",
      " 2129.         2258.         1590.         2205.         1573.\n",
      " 2603.         1762.         1974.         2377.         1504.\n",
      " 1579.         1902.         2231.         1092.         1594.\n",
      " 1669.         1887.         2559.         1617.         1408.\n",
      " 1741.         1726.         1977.         1980.         1876.\n",
      " 1340.         2339.         2002.         1848.         1628.\n",
      " 2051.         1651.         1485.         1740.          974.\n",
      " 2179.         1564.         2238.          155.         1672.\n",
      " 2057.         1138.         2754.         2042.         2415.\n",
      " 1380.         2246.          880.         2444.         2824.\n",
      " 3770.          213.          625.         3900.         2201.\n",
      "  653.         2547.         2080.         3004.          323.\n",
      " 2392.         2472.         1755.         2267.         2352.\n",
      " 1258.         1648.         1668.         2206.          810.\n",
      " 2174.         1411.         1825.         1844.         1539.\n",
      "  419.         3683.         2149.         2282.         1816.\n",
      " 2467.         2457.         1735.         1944.         4356.        ]\n",
      "\n",
      "\n",
      "Hours_per_Week unique values:\n",
      "[ 9 10 20 40 15  7 18 12  5 25 23 24  6 16 30 13 21 45  8 35 48 17 32  4\n",
      " 14 22 26 28 60 27 54 37  3 50  2 38 70 33 36 55 11 56 49 42 19 34 52 99\n",
      " 53 58 39 43 66 80 72 84 46 47 29 44 64 65 98  1 57 75 41 90 96 78 95 31\n",
      " 51 88 77 62 68 63 85 97 73 76 91 59 94 87 61 92 86 81 67 89 82 74]\n",
      "\n",
      "\n",
      "Native_Country unique values:\n",
      "[' United-States' ' Puerto-Rico' ' Canada' ' Peru' ' El-Salvador'\n",
      " ' Mexico' ' India' ' England' ' Poland' ' Haiti' ' Scotland'\n",
      " ' Philippines' ' Jamaica' ' Honduras' ' Dominican-Republic' ' Columbia'\n",
      " ' Japan' ' Nicaragua' ' Hong' ' Guatemala' ' Vietnam' ' Thailand'\n",
      " ' South' ' Laos' ' Germany' ' Italy' ' Yugoslavia' ' Cuba' ' Ecuador'\n",
      " ' Portugal' ' Outlying-US(Guam-USVI-etc)' ' Greece' ' Iran' ' Taiwan'\n",
      " ' Ireland' ' China' ' Hungary' ' France' ' Cambodia' ' Trinadad&Tobago'\n",
      " ' Holand-Netherlands']\n",
      "\n",
      "\n",
      "Income unique values:\n",
      "[' <=50K' ' >50K']\n"
     ]
    }
   ],
   "source": [
    "for column in adult_data.columns:\n",
    "    unique_values = adult_data[column].unique()\n",
    "    print(f\"{column} unique values:\")\n",
    "    print(unique_values)\n",
    "    print(\"\\n\")"
   ],
   "metadata": {
    "collapsed": false,
    "ExecuteTime": {
     "end_time": "2024-02-17T11:06:03.280425400Z",
     "start_time": "2024-02-17T11:06:03.000176900Z"
    }
   },
   "id": "d90e24a1fadbc49e"
  },
  {
   "cell_type": "code",
   "execution_count": 165,
   "outputs": [
    {
     "data": {
      "text/plain": "<Figure size 800x500 with 1 Axes>",
      "image/png": "[encoded data removed]"
     },
     "metadata": {},
     "output_type": "display_data"
    }
   ],
   "source": [
    "import seaborn as sns\n",
    "import matplotlib.pyplot as plt\n",
    "\n",
    "# Create a box plot for the \"Age\" column\n",
    "plt.figure(figsize=(8, 5))\n",
    "sns.boxplot(x=adult_data[\"Age\"])\n",
    "plt.title(\"Age Box Plot\")\n",
    "plt.show()"
   ],
   "metadata": {
    "collapsed": false,
    "ExecuteTime": {
     "end_time": "2024-02-17T11:06:03.729226100Z",
     "start_time": "2024-02-17T11:06:03.111877500Z"
    }
   },
   "id": "9d972627bafe261a"
  },
  {
   "cell_type": "code",
   "execution_count": 166,
   "outputs": [
    {
     "name": "stderr",
     "output_type": "stream",
     "text": [
      "C:\\Users\\HP\\AppData\\Local\\Temp\\ipykernel_612\\874506997.py:3: FutureWarning: Setting an item of incompatible dtype is deprecated and will raise in a future error of pandas. Value '38.153609933575886' has dtype incompatible with int64, please explicitly cast to a compatible dtype first.\n",
      "  adult_data.loc[adult_data[\"Age\"] > 75, \"Age\"] = age_mean_below_70\n"
     ]
    },
    {
     "data": {
      "text/plain": "<Figure size 800x500 with 1 Axes>",
      "image/png": "[encoded data removed]"
     },
     "metadata": {},
     "output_type": "display_data"
    }
   ],
   "source": [
    "# Handle outliers by replacing values above 70 with the mean of values below 70\n",
    "age_mean_below_70 = adult_data.loc[adult_data[\"Age\"] < 75, \"Age\"].mean()\n",
    "adult_data.loc[adult_data[\"Age\"] > 75, \"Age\"] = age_mean_below_70\n",
    "\n",
    "# Create a box plot for the \"Age\" column after handling outliers\n",
    "plt.figure(figsize=(8, 5))\n",
    "sns.boxplot(x=adult_data[\"Age\"])\n",
    "plt.title(\"Age Box Plot After Outlier Handling\")\n",
    "plt.show()"
   ],
   "metadata": {
    "collapsed": false,
    "ExecuteTime": {
     "end_time": "2024-02-17T11:06:04.242852100Z",
     "start_time": "2024-02-17T11:06:03.741202800Z"
    }
   },
   "id": "9c1e382f1fe10a52"
  },
  {
   "cell_type": "code",
   "execution_count": 167,
   "outputs": [
    {
     "data": {
      "text/plain": "<Figure size 800x500 with 1 Axes>",
      "image/png": "[encoded data removed]"
     },
     "metadata": {},
     "output_type": "display_data"
    }
   ],
   "source": [
    "# Create a box plot for the \"Final_Weight\" column\n",
    "plt.figure(figsize=(8, 5))\n",
    "sns.boxplot(x=adult_data[\"Final_Weight\"])\n",
    "plt.title(\"Final_Weight Box Plot\")\n",
    "plt.show()"
   ],
   "metadata": {
    "collapsed": false,
    "ExecuteTime": {
     "end_time": "2024-02-17T11:06:05.080612200Z",
     "start_time": "2024-02-17T11:06:04.244847Z"
    }
   },
   "id": "1baafa9e00cc0726"
  },
  {
   "cell_type": "code",
   "execution_count": 168,
   "outputs": [
    {
     "name": "stderr",
     "output_type": "stream",
     "text": [
      "C:\\Users\\HP\\AppData\\Local\\Temp\\ipykernel_612\\3265528332.py:8: FutureWarning: Setting an item of incompatible dtype is deprecated and will raise in a future error of pandas. Value '189793.83393011073' has dtype incompatible with int64, please explicitly cast to a compatible dtype first.\n",
      "  adult_data.loc[adult_data[\"Final_Weight\"] > outlier_threshold, \"Final_Weight\"] = final_weight_mean\n"
     ]
    },
    {
     "data": {
      "text/plain": "<Figure size 800x500 with 1 Axes>",
      "image/png": "[encoded data removed]"
     },
     "metadata": {},
     "output_type": "display_data"
    }
   ],
   "source": [
    "# Handle outliers by replacing values above 1.4 times the IQR with the mean of all values\n",
    "Q1 = adult_data[\"Final_Weight\"].quantile(0.25)\n",
    "Q3 = adult_data[\"Final_Weight\"].quantile(0.75)\n",
    "IQR = Q3 - Q1\n",
    "outlier_threshold = Q3 + 1.4 * IQR\n",
    "\n",
    "final_weight_mean = adult_data[\"Final_Weight\"].mean()\n",
    "adult_data.loc[adult_data[\"Final_Weight\"] > outlier_threshold, \"Final_Weight\"] = final_weight_mean\n",
    "\n",
    "# Create a box plot for the \"Final_Weight\" column after handling outliers\n",
    "plt.figure(figsize=(8, 5))\n",
    "sns.boxplot(x=adult_data[\"Final_Weight\"])\n",
    "plt.title(\"Final_Weight Box Plot After Outlier Handling\")\n",
    "plt.show()"
   ],
   "metadata": {
    "collapsed": false,
    "ExecuteTime": {
     "end_time": "2024-02-17T11:06:05.462589500Z",
     "start_time": "2024-02-17T11:06:04.949961100Z"
    }
   },
   "id": "3b9bd87386a2e143"
  },
  {
   "cell_type": "code",
   "execution_count": 169,
   "outputs": [
    {
     "data": {
      "text/plain": "<Figure size 800x500 with 1 Axes>",
      "image/png": "[encoded data removed]"
     },
     "metadata": {},
     "output_type": "display_data"
    }
   ],
   "source": [
    " # Create a box plot for the \"Education_Num\" column\n",
    "plt.figure(figsize=(8, 5))\n",
    "sns.boxplot(x=adult_data[\"Education_Num\"])\n",
    "plt.title(\"Education_Num Box Plot\")\n",
    "plt.show()"
   ],
   "metadata": {
    "collapsed": false,
    "ExecuteTime": {
     "end_time": "2024-02-17T11:06:06.351214200Z",
     "start_time": "2024-02-17T11:06:05.463587900Z"
    }
   },
   "id": "bd3bfa693b73239f"
  },
  {
   "cell_type": "code",
   "execution_count": 170,
   "outputs": [
    {
     "data": {
      "text/plain": "<Figure size 800x500 with 1 Axes>",
      "image/png": "[encoded data removed]"
     },
     "metadata": {},
     "output_type": "display_data"
    }
   ],
   "source": [
    "# Create a box plot for the \"Capital_Gain\" column\n",
    "plt.figure(figsize=(8, 5))\n",
    "sns.boxplot(x=adult_data[\"Capital_Gain\"])\n",
    "plt.title(\"Capital_Gain Box Plot\")\n",
    "plt.show()"
   ],
   "metadata": {
    "collapsed": false,
    "ExecuteTime": {
     "end_time": "2024-02-17T11:06:07.244825600Z",
     "start_time": "2024-02-17T11:06:06.353208300Z"
    }
   },
   "id": "37ede6e46dcfb823"
  },
  {
   "cell_type": "code",
   "execution_count": 171,
   "outputs": [
    {
     "data": {
      "text/plain": "<Figure size 800x500 with 1 Axes>",
      "image/png": "[encoded data removed]"
     },
     "metadata": {},
     "output_type": "display_data"
    }
   ],
   "source": [
    "# Handle outliers by replacing values above 6000 with the mean of values below that threshold\n",
    "outlier_threshold = 6000\n",
    "\n",
    "capital_gain_mean_below_threshold = adult_data.loc[adult_data[\"Capital_Gain\"] <= outlier_threshold, \"Capital_Gain\"].mean()\n",
    "adult_data.loc[adult_data[\"Capital_Gain\"] > outlier_threshold, \"Capital_Gain\"] = capital_gain_mean_below_threshold\n",
    "\n",
    "# Create a box plot for the \"Capital_Gain\" column after handling outliers\n",
    "plt.figure(figsize=(8, 5))\n",
    "sns.boxplot(x=adult_data[\"Capital_Gain\"])\n",
    "plt.title(\"Capital_Gain Box Plot After Outlier Handling\")\n",
    "plt.show()"
   ],
   "metadata": {
    "collapsed": false,
    "ExecuteTime": {
     "end_time": "2024-02-17T11:06:07.745484Z",
     "start_time": "2024-02-17T11:06:07.247815100Z"
    }
   },
   "id": "9b24b897a906fa3b"
  },
  {
   "cell_type": "code",
   "execution_count": 172,
   "outputs": [
    {
     "data": {
      "text/plain": "<Figure size 800x500 with 1 Axes>",
      "image/png": "[encoded data removed]"
     },
     "metadata": {},
     "output_type": "display_data"
    }
   ],
   "source": [
    "# Create a box plot for the \"Capital_Loss\" column\n",
    "plt.figure(figsize=(8, 5))\n",
    "sns.boxplot(x=adult_data[\"Capital_Loss\"])\n",
    "plt.title(\"Capital_Loss Box Plot\")\n",
    "plt.show()"
   ],
   "metadata": {
    "collapsed": false,
    "ExecuteTime": {
     "end_time": "2024-02-17T11:06:08.214230400Z",
     "start_time": "2024-02-17T11:06:07.746481300Z"
    }
   },
   "id": "683d7c36a6b0070c"
  },
  {
   "cell_type": "code",
   "execution_count": 173,
   "outputs": [
    {
     "data": {
      "text/plain": "<Figure size 800x500 with 1 Axes>",
      "image/png": "[encoded data removed]"
     },
     "metadata": {},
     "output_type": "display_data"
    }
   ],
   "source": [
    "# Create a box plot for the \"Hours_per_Week\" column\n",
    "plt.figure(figsize=(8, 5))\n",
    "sns.boxplot(x=adult_data[\"Hours_per_Week\"])\n",
    "plt.title(\"Hours_per_Week Box Plot\")\n",
    "plt.show()"
   ],
   "metadata": {
    "collapsed": false,
    "ExecuteTime": {
     "end_time": "2024-02-17T11:06:08.636103600Z",
     "start_time": "2024-02-17T11:06:08.217222500Z"
    }
   },
   "id": "7854bf45cda22c19"
  },
  {
   "cell_type": "code",
   "execution_count": 174,
   "outputs": [
    {
     "data": {
      "text/plain": "        Age Work_class  Final_Weight Education  Education_Num  Marital_Status  \\\n10180  17.0    Private      297246.0      11th              7   Never-married   \n21767  17.0    Private      207637.0      11th              7   Never-married   \n14720  17.0    Private       99462.0      11th              7   Never-married   \n13322  17.0    Private      345403.0      10th              6   Never-married   \n26088  17.0    Private      225507.0      11th              7   Never-married   \n\n               Occupation    Relationship                 Race      Sex  \\\n10180     Priv-house-serv       Own-child                White   Female   \n21767   Handlers-cleaners       Own-child                White     Male   \n14720       Other-service       Own-child   Amer-Indian-Eskimo   Female   \n13322       Other-service       Own-child                White     Male   \n26088   Handlers-cleaners   Not-in-family                Black   Female   \n\n       Capital_Gain  Capital_Loss  Hours_per_Week  Native_Country  Income  \n10180   3406.736751   1867.898388               9   United-States   <=50K  \n21767   3406.736751   1867.898388              10   United-States   <=50K  \n14720   3406.736751   1867.898388              20   United-States   <=50K  \n13322   3406.736751   1867.898388              40   United-States   <=50K  \n26088   3406.736751   1867.898388              15   United-States   <=50K  ",
      "text/html": "<div>\n<style scoped>\n    .dataframe tbody tr th:only-of-type {\n        vertical-align: middle;\n    }\n\n    .dataframe tbody tr th {\n        vertical-align: top;\n    }\n\n    .dataframe thead th {\n        text-align: right;\n    }\n</style>\n<table border=\"1\" class=\"dataframe\">\n  <thead>\n    <tr style=\"text-align: right;\">\n      <th></th>\n      <th>Age</th>\n      <th>Work_class</th>\n      <th>Final_Weight</th>\n      <th>Education</th>\n      <th>Education_Num</th>\n      <th>Marital_Status</th>\n      <th>Occupation</th>\n      <th>Relationship</th>\n      <th>Race</th>\n      <th>Sex</th>\n      <th>Capital_Gain</th>\n      <th>Capital_Loss</th>\n      <th>Hours_per_Week</th>\n      <th>Native_Country</th>\n      <th>Income</th>\n    </tr>\n  </thead>\n  <tbody>\n    <tr>\n      <th>10180</th>\n      <td>17.0</td>\n      <td>Private</td>\n      <td>297246.0</td>\n      <td>11th</td>\n      <td>7</td>\n      <td>Never-married</td>\n      <td>Priv-house-serv</td>\n      <td>Own-child</td>\n      <td>White</td>\n      <td>Female</td>\n      <td>3406.736751</td>\n      <td>1867.898388</td>\n      <td>9</td>\n      <td>United-States</td>\n      <td>&lt;=50K</td>\n    </tr>\n    <tr>\n      <th>21767</th>\n      <td>17.0</td>\n      <td>Private</td>\n      <td>207637.0</td>\n      <td>11th</td>\n      <td>7</td>\n      <td>Never-married</td>\n      <td>Handlers-cleaners</td>\n      <td>Own-child</td>\n      <td>White</td>\n      <td>Male</td>\n      <td>3406.736751</td>\n      <td>1867.898388</td>\n      <td>10</td>\n      <td>United-States</td>\n      <td>&lt;=50K</td>\n    </tr>\n    <tr>\n      <th>14720</th>\n      <td>17.0</td>\n      <td>Private</td>\n      <td>99462.0</td>\n      <td>11th</td>\n      <td>7</td>\n      <td>Never-married</td>\n      <td>Other-service</td>\n      <td>Own-child</td>\n      <td>Amer-Indian-Eskimo</td>\n      <td>Female</td>\n      <td>3406.736751</td>\n      <td>1867.898388</td>\n      <td>20</td>\n      <td>United-States</td>\n      <td>&lt;=50K</td>\n    </tr>\n    <tr>\n      <th>13322</th>\n      <td>17.0</td>\n      <td>Private</td>\n      <td>345403.0</td>\n      <td>10th</td>\n      <td>6</td>\n      <td>Never-married</td>\n      <td>Other-service</td>\n      <td>Own-child</td>\n      <td>White</td>\n      <td>Male</td>\n      <td>3406.736751</td>\n      <td>1867.898388</td>\n      <td>40</td>\n      <td>United-States</td>\n      <td>&lt;=50K</td>\n    </tr>\n    <tr>\n      <th>26088</th>\n      <td>17.0</td>\n      <td>Private</td>\n      <td>225507.0</td>\n      <td>11th</td>\n      <td>7</td>\n      <td>Never-married</td>\n      <td>Handlers-cleaners</td>\n      <td>Not-in-family</td>\n      <td>Black</td>\n      <td>Female</td>\n      <td>3406.736751</td>\n      <td>1867.898388</td>\n      <td>15</td>\n      <td>United-States</td>\n      <td>&lt;=50K</td>\n    </tr>\n  </tbody>\n</table>\n</div>"
     },
     "execution_count": 174,
     "metadata": {},
     "output_type": "execute_result"
    }
   ],
   "source": [
    "adult_data.head()"
   ],
   "metadata": {
    "collapsed": false,
    "ExecuteTime": {
     "end_time": "2024-02-17T11:06:08.825595400Z",
     "start_time": "2024-02-17T11:06:08.634108Z"
    }
   },
   "id": "995b87fbfb8c505d"
  },
  {
   "cell_type": "code",
   "execution_count": 175,
   "outputs": [
    {
     "name": "stdout",
     "output_type": "stream",
     "text": [
      "Age               float64\n",
      "Work_class         object\n",
      "Final_Weight      float64\n",
      "Education          object\n",
      "Education_Num       int64\n",
      "Marital_Status     object\n",
      "Occupation         object\n",
      "Relationship       object\n",
      "Race               object\n",
      "Sex                object\n",
      "Capital_Gain      float64\n",
      "Capital_Loss      float64\n",
      "Hours_per_Week      int64\n",
      "Native_Country     object\n",
      "Income             object\n",
      "dtype: object\n"
     ]
    }
   ],
   "source": [
    "print(adult_data.dtypes)"
   ],
   "metadata": {
    "collapsed": false,
    "ExecuteTime": {
     "end_time": "2024-02-17T11:06:08.825595400Z",
     "start_time": "2024-02-17T11:06:08.681980300Z"
    }
   },
   "id": "80d4bbd5c695626e"
  },
  {
   "cell_type": "code",
   "execution_count": 176,
   "outputs": [],
   "source": [
    "# Assuming 'adult_data' is your DataFrame\n",
    "\n",
    "# One-hot encode categorical columns\n",
    "categorical_columns = ['Work_class', 'Education', 'Marital_Status', 'Occupation', 'Relationship', 'Race', 'Sex', 'Native_Country']\n",
    "adult_data_encoded = pd.get_dummies(adult_data, columns=categorical_columns, drop_first=True)\n",
    "\n",
    "# Save the DataFrame to a CSV file\n",
    "adult_data_encoded.to_csv('adult_data_encoded.csv', index=False)"
   ],
   "metadata": {
    "collapsed": false,
    "ExecuteTime": {
     "end_time": "2024-02-17T11:06:10.526047600Z",
     "start_time": "2024-02-17T11:06:08.729851300Z"
    }
   },
   "id": "832a802fcd928f5c"
  },
  {
   "cell_type": "code",
   "execution_count": 177,
   "outputs": [
    {
     "name": "stdout",
     "output_type": "stream",
     "text": [
      "Naïve Bayes Classifier:\n",
      "Accuracy: 0.7755677109232554\n",
      "Classification Report:\n",
      "              precision    recall  f1-score   support\n",
      "\n",
      "           0       0.78      0.97      0.87      4507\n",
      "           1       0.68      0.21      0.32      1526\n",
      "\n",
      "    accuracy                           0.78      6033\n",
      "   macro avg       0.73      0.59      0.59      6033\n",
      "weighted avg       0.76      0.78      0.73      6033\n",
      "\n",
      "Random Forest Classifier:\n",
      "Accuracy: 0.8291065804740594\n",
      "Classification Report:\n",
      "              precision    recall  f1-score   support\n",
      "\n",
      "           0       0.86      0.92      0.89      4507\n",
      "           1       0.70      0.57      0.63      1526\n",
      "\n",
      "    accuracy                           0.83      6033\n",
      "   macro avg       0.78      0.74      0.76      6033\n",
      "weighted avg       0.82      0.83      0.82      6033\n"
     ]
    }
   ],
   "source": [
    "import pandas as pd\n",
    "from sklearn.preprocessing import LabelEncoder\n",
    "from sklearn.model_selection import train_test_split\n",
    "from sklearn.naive_bayes import GaussianNB\n",
    "from sklearn.ensemble import RandomForestClassifier\n",
    "from sklearn.metrics import accuracy_score, classification_report, mean_absolute_error, mean_squared_error\n",
    "# Load the preprocessed data\n",
    "# You can replace 'path_to_your_data.csv' with the actual path to your preprocessed dataset\n",
    "data = pd.read_csv('adult_data_encoded.csv')\n",
    "\n",
    "# Use label encoding for the 'Income' column\n",
    "label_encoder = LabelEncoder()\n",
    "data['Income'] = label_encoder.fit_transform(data['Income'])\n",
    "\n",
    "\n",
    "# Assuming your target variable is 'Income' and features are all other columns\n",
    "X = data.drop('Income', axis=1)\n",
    "y = data['Income']\n",
    "\n",
    "# Split the data into training and testing sets\n",
    "X_train, X_test, y_train, y_test = train_test_split(X, y, test_size=0.2, random_state=42)\n",
    "\n",
    "# Naïve Bayes Classifier\n",
    "nb_classifier = GaussianNB()\n",
    "nb_classifier.fit(X_train, y_train)\n",
    "\n",
    "# Predictions on the test set\n",
    "nb_predictions = nb_classifier.predict(X_test)\n",
    "\n",
    "# Evaluate Naïve Bayes Classifier\n",
    "print(\"Naïve Bayes Classifier:\")\n",
    "print(\"Accuracy:\", accuracy_score(y_test, nb_predictions))\n",
    "print(\"Classification Report:\")\n",
    "print(classification_report(y_test, nb_predictions))\n",
    "\n",
    "# Random Forest Classifier\n",
    "rf_classifier = RandomForestClassifier(random_state=42)\n",
    "rf_classifier.fit(X_train, y_train)\n",
    "\n",
    "# Predictions on the test set\n",
    "rf_predictions = rf_classifier.predict(X_test)\n",
    "\n",
    "# Evaluate Random Forest Classifier\n",
    "print(\"\\nRandom Forest Classifier:\")\n",
    "print(\"Accuracy:\", accuracy_score(y_test, rf_predictions))\n",
    "print(\"Classification Report:\")\n",
    "print(classification_report(y_test, rf_predictions))\n"
   ],
   "metadata": {
    "collapsed": false,
    "ExecuteTime": {
     "end_time": "2024-02-17T11:06:21.224435400Z",
     "start_time": "2024-02-17T11:06:10.500117300Z"
    }
   },
   "id": "af13896e59f016c6"
  },
  {
   "cell_type": "code",
   "execution_count": 178,
   "outputs": [
    {
     "name": "stdout",
     "output_type": "stream",
     "text": [
      "MAE for Naïve Bayes: 0.22443228907674456\n",
      "RMSE for Naïve Bayes: 0.4737428512143952\n",
      "MAE for Random Forest: 0.17089341952594067\n",
      "RMSE for Random Forest: 0.4133925731383435\n"
     ]
    }
   ],
   "source": [
    "import numpy as np\n",
    "# Calculate MAE and RMSE for Naïve Bayes predictions\n",
    "mae_nb = mean_absolute_error(y_test, nb_predictions)\n",
    "rmse_nb = np.sqrt(mean_squared_error(y_test, nb_predictions))\n",
    "print(\"MAE for Naïve Bayes:\", mae_nb)\n",
    "print(\"RMSE for Naïve Bayes:\", rmse_nb)\n",
    "\n",
    "# Calculate MAE and RMSE for Random Forest predictions\n",
    "mae_rf = mean_absolute_error(y_test, rf_predictions)\n",
    "rmse_rf = np.sqrt(mean_squared_error(y_test, rf_predictions))\n",
    "print(\"MAE for Random Forest:\", mae_rf)\n",
    "print(\"RMSE for Random Forest:\", rmse_rf)"
   ],
   "metadata": {
    "collapsed": false,
    "ExecuteTime": {
     "end_time": "2024-02-17T11:06:21.334142100Z",
     "start_time": "2024-02-17T11:06:21.229422Z"
    }
   },
   "id": "3532c93056ea8a39"
  }
 ],
 "metadata": {
  "kernelspec": {
   "display_name": "Python 3",
   "language": "python",
   "name": "python3"
  },
  "language_info": {
   "codemirror_mode": {
    "name": "ipython",
    "version": 2
   },
   "file_extension": ".py",
   "mimetype": "text/x-python",
   "name": "python",
   "nbconvert_exporter": "python",
   "pygments_lexer": "ipython2",
   "version": "2.7.6"
  }
 },
 "nbformat": 4,
 "nbformat_minor": 5
}
