{
 "cells": [
  {
   "cell_type": "code",
   "execution_count": 140,
   "outputs": [
    {
     "data": {
      "text/plain": "    Age         Work_class  Final_Weight      Education  Education_Num  \\\n0    39          State-gov         77516      Bachelors             13   \n1    50   Self-emp-not-inc         83311      Bachelors             13   \n2    38            Private        215646        HS-grad              9   \n3    53            Private        234721           11th              7   \n4    28            Private        338409      Bachelors             13   \n..  ...                ...           ...            ...            ...   \n95   29          Local-gov        115585   Some-college             10   \n96   48   Self-emp-not-inc        191277      Doctorate             16   \n97   37            Private        202683   Some-college             10   \n98   48            Private        171095     Assoc-acdm             12   \n99   32        Federal-gov        249409        HS-grad              9   \n\n         Marital_Status          Occupation    Relationship    Race      Sex  \\\n0         Never-married        Adm-clerical   Not-in-family   White     Male   \n1    Married-civ-spouse     Exec-managerial         Husband   White     Male   \n2              Divorced   Handlers-cleaners   Not-in-family   White     Male   \n3    Married-civ-spouse   Handlers-cleaners         Husband   Black     Male   \n4    Married-civ-spouse      Prof-specialty            Wife   Black   Female   \n..                  ...                 ...             ...     ...      ...   \n95        Never-married   Handlers-cleaners   Not-in-family   White     Male   \n96   Married-civ-spouse      Prof-specialty         Husband   White     Male   \n97   Married-civ-spouse               Sales         Husband   White     Male   \n98             Divorced     Exec-managerial       Unmarried   White   Female   \n99        Never-married       Other-service       Own-child   Black     Male   \n\n    Capital_Gain  Capital_Loss  Hours_per_Week  Native_Country  Income  \n0           2174             0              40   United-States   <=50K  \n1              0             0              13   United-States   <=50K  \n2              0             0              40   United-States   <=50K  \n3              0             0              40   United-States   <=50K  \n4              0             0              40            Cuba   <=50K  \n..           ...           ...             ...             ...     ...  \n95             0             0              50   United-States   <=50K  \n96             0          1902              60   United-States    >50K  \n97             0             0              48   United-States    >50K  \n98             0             0              40         England   <=50K  \n99             0             0              40   United-States   <=50K  \n\n[100 rows x 15 columns]",
      "text/html": "<div>\n<style scoped>\n    .dataframe tbody tr th:only-of-type {\n        vertical-align: middle;\n    }\n\n    .dataframe tbody tr th {\n        vertical-align: top;\n    }\n\n    .dataframe thead th {\n        text-align: right;\n    }\n</style>\n<table border=\"1\" class=\"dataframe\">\n  <thead>\n    <tr style=\"text-align: right;\">\n      <th></th>\n      <th>Age</th>\n      <th>Work_class</th>\n      <th>Final_Weight</th>\n      <th>Education</th>\n      <th>Education_Num</th>\n      <th>Marital_Status</th>\n      <th>Occupation</th>\n      <th>Relationship</th>\n      <th>Race</th>\n      <th>Sex</th>\n      <th>Capital_Gain</th>\n      <th>Capital_Loss</th>\n      <th>Hours_per_Week</th>\n      <th>Native_Country</th>\n      <th>Income</th>\n    </tr>\n  </thead>\n  <tbody>\n    <tr>\n      <th>0</th>\n      <td>39</td>\n      <td>State-gov</td>\n      <td>77516</td>\n      <td>Bachelors</td>\n      <td>13</td>\n      <td>Never-married</td>\n      <td>Adm-clerical</td>\n      <td>Not-in-family</td>\n      <td>White</td>\n      <td>Male</td>\n      <td>2174</td>\n      <td>0</td>\n      <td>40</td>\n      <td>United-States</td>\n      <td>&lt;=50K</td>\n    </tr>\n    <tr>\n      <th>1</th>\n      <td>50</td>\n      <td>Self-emp-not-inc</td>\n      <td>83311</td>\n      <td>Bachelors</td>\n      <td>13</td>\n      <td>Married-civ-spouse</td>\n      <td>Exec-managerial</td>\n      <td>Husband</td>\n      <td>White</td>\n      <td>Male</td>\n      <td>0</td>\n      <td>0</td>\n      <td>13</td>\n      <td>United-States</td>\n      <td>&lt;=50K</td>\n    </tr>\n    <tr>\n      <th>2</th>\n      <td>38</td>\n      <td>Private</td>\n      <td>215646</td>\n      <td>HS-grad</td>\n      <td>9</td>\n      <td>Divorced</td>\n      <td>Handlers-cleaners</td>\n      <td>Not-in-family</td>\n      <td>White</td>\n      <td>Male</td>\n      <td>0</td>\n      <td>0</td>\n      <td>40</td>\n      <td>United-States</td>\n      <td>&lt;=50K</td>\n    </tr>\n    <tr>\n      <th>3</th>\n      <td>53</td>\n      <td>Private</td>\n      <td>234721</td>\n      <td>11th</td>\n      <td>7</td>\n      <td>Married-civ-spouse</td>\n      <td>Handlers-cleaners</td>\n      <td>Husband</td>\n      <td>Black</td>\n      <td>Male</td>\n      <td>0</td>\n      <td>0</td>\n      <td>40</td>\n      <td>United-States</td>\n      <td>&lt;=50K</td>\n    </tr>\n    <tr>\n      <th>4</th>\n      <td>28</td>\n      <td>Private</td>\n      <td>338409</td>\n      <td>Bachelors</td>\n      <td>13</td>\n      <td>Married-civ-spouse</td>\n      <td>Prof-specialty</td>\n      <td>Wife</td>\n      <td>Black</td>\n      <td>Female</td>\n      <td>0</td>\n      <td>0</td>\n      <td>40</td>\n      <td>Cuba</td>\n      <td>&lt;=50K</td>\n    </tr>\n    <tr>\n      <th>...</th>\n      <td>...</td>\n      <td>...</td>\n      <td>...</td>\n      <td>...</td>\n      <td>...</td>\n      <td>...</td>\n      <td>...</td>\n      <td>...</td>\n      <td>...</td>\n      <td>...</td>\n      <td>...</td>\n      <td>...</td>\n      <td>...</td>\n      <td>...</td>\n      <td>...</td>\n    </tr>\n    <tr>\n      <th>95</th>\n      <td>29</td>\n      <td>Local-gov</td>\n      <td>115585</td>\n      <td>Some-college</td>\n      <td>10</td>\n      <td>Never-married</td>\n      <td>Handlers-cleaners</td>\n      <td>Not-in-family</td>\n      <td>White</td>\n      <td>Male</td>\n      <td>0</td>\n      <td>0</td>\n      <td>50</td>\n      <td>United-States</td>\n      <td>&lt;=50K</td>\n    </tr>\n    <tr>\n      <th>96</th>\n      <td>48</td>\n      <td>Self-emp-not-inc</td>\n      <td>191277</td>\n      <td>Doctorate</td>\n      <td>16</td>\n      <td>Married-civ-spouse</td>\n      <td>Prof-specialty</td>\n      <td>Husband</td>\n      <td>White</td>\n      <td>Male</td>\n      <td>0</td>\n      <td>1902</td>\n      <td>60</td>\n      <td>United-States</td>\n      <td>&gt;50K</td>\n    </tr>\n    <tr>\n      <th>97</th>\n      <td>37</td>\n      <td>Private</td>\n      <td>202683</td>\n      <td>Some-college</td>\n      <td>10</td>\n      <td>Married-civ-spouse</td>\n      <td>Sales</td>\n      <td>Husband</td>\n      <td>White</td>\n      <td>Male</td>\n      <td>0</td>\n      <td>0</td>\n      <td>48</td>\n      <td>United-States</td>\n      <td>&gt;50K</td>\n    </tr>\n    <tr>\n      <th>98</th>\n      <td>48</td>\n      <td>Private</td>\n      <td>171095</td>\n      <td>Assoc-acdm</td>\n      <td>12</td>\n      <td>Divorced</td>\n      <td>Exec-managerial</td>\n      <td>Unmarried</td>\n      <td>White</td>\n      <td>Female</td>\n      <td>0</td>\n      <td>0</td>\n      <td>40</td>\n      <td>England</td>\n      <td>&lt;=50K</td>\n    </tr>\n    <tr>\n      <th>99</th>\n      <td>32</td>\n      <td>Federal-gov</td>\n      <td>249409</td>\n      <td>HS-grad</td>\n      <td>9</td>\n      <td>Never-married</td>\n      <td>Other-service</td>\n      <td>Own-child</td>\n      <td>Black</td>\n      <td>Male</td>\n      <td>0</td>\n      <td>0</td>\n      <td>40</td>\n      <td>United-States</td>\n      <td>&lt;=50K</td>\n    </tr>\n  </tbody>\n</table>\n<p>100 rows × 15 columns</p>\n</div>"
     },
     "execution_count": 140,
     "metadata": {},
     "output_type": "execute_result"
    }
   ],
   "source": [
    "import pandas as pd\n",
    "\n",
    "# Replace 'your_data_file.DATA' and 'your_csv_file.csv' with actual file paths\n",
    "column_names = [\"Age\", \"Work_class\", \"Final_Weight\", \"Education\", \"Education_Num\", \"Marital_Status\", \"Occupation\", \"Relationship\",\n",
    "                \"Race\", \"Sex\", \"Capital_Gain\", \"Capital_Loss\", \"Hours_per_Week\", \"Native_Country\", \"Income\"]\n",
    "\n",
    "adult = pd.read_csv('F:\\\\IIT Platforms\\\\Second Year\\\\2 semester\\\\CM2604 Machine Learning\\\\Income-Prediction\\\\Dataset\\\\adult.data', delimiter=',', names=column_names)  # Adjust delimiter if needed\n",
    "adult.to_csv('adult.csv', index=False)\n",
    "adult_data = pd.read_csv(\"adult.csv\")\n",
    "adult_data.head(100)"
   ],
   "metadata": {
    "collapsed": false,
    "ExecuteTime": {
     "end_time": "2024-02-15T07:59:10.613931500Z",
     "start_time": "2024-02-15T07:59:10.247105300Z"
    }
   },
   "id": "33aec64564dcdebb"
  },
  {
   "cell_type": "code",
   "execution_count": 141,
   "outputs": [
    {
     "name": "stdout",
     "output_type": "stream",
     "text": [
      "<class 'pandas.core.frame.DataFrame'>\n",
      "RangeIndex: 32561 entries, 0 to 32560\n",
      "Data columns (total 15 columns):\n",
      " #   Column          Non-Null Count  Dtype \n",
      "---  ------          --------------  ----- \n",
      " 0   Age             32561 non-null  int64 \n",
      " 1   Work_class      32561 non-null  object\n",
      " 2   Final_Weight    32561 non-null  int64 \n",
      " 3   Education       32561 non-null  object\n",
      " 4   Education_Num   32561 non-null  int64 \n",
      " 5   Marital_Status  32561 non-null  object\n",
      " 6   Occupation      32561 non-null  object\n",
      " 7   Relationship    32561 non-null  object\n",
      " 8   Race            32561 non-null  object\n",
      " 9   Sex             32561 non-null  object\n",
      " 10  Capital_Gain    32561 non-null  int64 \n",
      " 11  Capital_Loss    32561 non-null  int64 \n",
      " 12  Hours_per_Week  32561 non-null  int64 \n",
      " 13  Native_Country  32561 non-null  object\n",
      " 14  Income          32561 non-null  object\n",
      "dtypes: int64(6), object(9)\n",
      "memory usage: 3.7+ MB\n"
     ]
    }
   ],
   "source": [
    "adult_data.info()"
   ],
   "metadata": {
    "collapsed": false,
    "ExecuteTime": {
     "end_time": "2024-02-15T07:59:10.684921100Z",
     "start_time": "2024-02-15T07:59:10.617103200Z"
    }
   },
   "id": "bb1732c4129c3c2a"
  },
  {
   "cell_type": "code",
   "execution_count": 142,
   "outputs": [
    {
     "data": {
      "text/plain": "Age                  73\nWork_class            9\nFinal_Weight      21648\nEducation            16\nEducation_Num        16\nMarital_Status        7\nOccupation           15\nRelationship          6\nRace                  5\nSex                   2\nCapital_Gain        119\nCapital_Loss         92\nHours_per_Week       94\nNative_Country       42\nIncome                2\ndtype: int64"
     },
     "execution_count": 142,
     "metadata": {},
     "output_type": "execute_result"
    }
   ],
   "source": [
    "adult_data.nunique()"
   ],
   "metadata": {
    "collapsed": false,
    "ExecuteTime": {
     "end_time": "2024-02-15T07:59:10.728804800Z",
     "start_time": "2024-02-15T07:59:10.645655400Z"
    }
   },
   "id": "c8dfaad198cb6c61"
  },
  {
   "cell_type": "code",
   "execution_count": 143,
   "outputs": [
    {
     "name": "stdout",
     "output_type": "stream",
     "text": [
      "Age unique values:\n",
      "[39 50 38 53 28 37 49 52 31 42 30 23 32 40 34 25 43 54 35 59 56 19 20 45\n",
      " 22 48 21 24 57 44 41 29 18 47 46 36 79 27 67 33 76 17 55 61 70 64 71 68\n",
      " 66 51 58 26 60 90 75 65 77 62 63 80 72 74 69 73 81 78 88 82 83 84 85 86\n",
      " 87]\n",
      "\n",
      "\n",
      "Work_class unique values:\n",
      "[' State-gov' ' Self-emp-not-inc' ' Private' ' Federal-gov' ' Local-gov'\n",
      " ' ?' ' Self-emp-inc' ' Without-pay' ' Never-worked']\n",
      "\n",
      "\n",
      "Final_Weight unique values:\n",
      "[ 77516  83311 215646 ...  34066  84661 257302]\n",
      "\n",
      "\n",
      "Education unique values:\n",
      "[' Bachelors' ' HS-grad' ' 11th' ' Masters' ' 9th' ' Some-college'\n",
      " ' Assoc-acdm' ' Assoc-voc' ' 7th-8th' ' Doctorate' ' Prof-school'\n",
      " ' 5th-6th' ' 10th' ' 1st-4th' ' Preschool' ' 12th']\n",
      "\n",
      "\n",
      "Education_Num unique values:\n",
      "[13  9  7 14  5 10 12 11  4 16 15  3  6  2  1  8]\n",
      "\n",
      "\n",
      "Marital_Status unique values:\n",
      "[' Never-married' ' Married-civ-spouse' ' Divorced'\n",
      " ' Married-spouse-absent' ' Separated' ' Married-AF-spouse' ' Widowed']\n",
      "\n",
      "\n",
      "Occupation unique values:\n",
      "[' Adm-clerical' ' Exec-managerial' ' Handlers-cleaners' ' Prof-specialty'\n",
      " ' Other-service' ' Sales' ' Craft-repair' ' Transport-moving'\n",
      " ' Farming-fishing' ' Machine-op-inspct' ' Tech-support' ' ?'\n",
      " ' Protective-serv' ' Armed-Forces' ' Priv-house-serv']\n",
      "\n",
      "\n",
      "Relationship unique values:\n",
      "[' Not-in-family' ' Husband' ' Wife' ' Own-child' ' Unmarried'\n",
      " ' Other-relative']\n",
      "\n",
      "\n",
      "Race unique values:\n",
      "[' White' ' Black' ' Asian-Pac-Islander' ' Amer-Indian-Eskimo' ' Other']\n",
      "\n",
      "\n",
      "Sex unique values:\n",
      "[' Male' ' Female']\n",
      "\n",
      "\n",
      "Capital_Gain unique values:\n",
      "[ 2174     0 14084  5178  5013  2407 14344 15024  7688 34095  4064  4386\n",
      "  7298  1409  3674  1055  3464  2050  2176   594 20051  6849  4101  1111\n",
      "  8614  3411  2597 25236  4650  9386  2463  3103 10605  2964  3325  2580\n",
      "  3471  4865 99999  6514  1471  2329  2105  2885 25124 10520  2202  2961\n",
      " 27828  6767  2228  1506 13550  2635  5556  4787  3781  3137  3818  3942\n",
      "   914   401  2829  2977  4934  2062  2354  5455 15020  1424  3273 22040\n",
      "  4416  3908 10566   991  4931  1086  7430  6497   114  7896  2346  3418\n",
      "  3432  2907  1151  2414  2290 15831 41310  4508  2538  3456  6418  1848\n",
      "  3887  5721  9562  1455  2036  1831 11678  2936  2993  7443  6360  1797\n",
      "  1173  4687  6723  2009  6097  2653  1639 18481  7978  2387  5060]\n",
      "\n",
      "\n",
      "Capital_Loss unique values:\n",
      "[   0 2042 1408 1902 1573 1887 1719 1762 1564 2179 1816 1980 1977 1876\n",
      " 1340 2206 1741 1485 2339 2415 1380 1721 2051 2377 1669 2352 1672  653\n",
      " 2392 1504 2001 1590 1651 1628 1848 1740 2002 1579 2258 1602  419 2547\n",
      " 2174 2205 1726 2444 1138 2238  625  213 1539  880 1668 1092 1594 3004\n",
      " 2231 1844  810 2824 2559 2057 1974  974 2149 1825 1735 1258 2129 2603\n",
      " 2282  323 4356 2246 1617 1648 2489 3770 1755 3683 2267 2080 2457  155\n",
      " 3900 2201 1944 2467 2163 2754 2472 1411]\n",
      "\n",
      "\n",
      "Hours_per_Week unique values:\n",
      "[40 13 16 45 50 80 30 35 60 20 52 44 15 25 38 43 55 48 58 32 70  2 22 56\n",
      " 41 28 36 24 46 42 12 65  1 10 34 75 98 33 54  8  6 64 19 18 72  5  9 47\n",
      " 37 21 26 14  4 59  7 99 53 39 62 57 78 90 66 11 49 84  3 17 68 27 85 31\n",
      " 51 77 63 23 87 88 73 89 97 94 29 96 67 82 86 91 81 76 92 61 74 95]\n",
      "\n",
      "\n",
      "Native_Country unique values:\n",
      "[' United-States' ' Cuba' ' Jamaica' ' India' ' ?' ' Mexico' ' South'\n",
      " ' Puerto-Rico' ' Honduras' ' England' ' Canada' ' Germany' ' Iran'\n",
      " ' Philippines' ' Italy' ' Poland' ' Columbia' ' Cambodia' ' Thailand'\n",
      " ' Ecuador' ' Laos' ' Taiwan' ' Haiti' ' Portugal' ' Dominican-Republic'\n",
      " ' El-Salvador' ' France' ' Guatemala' ' China' ' Japan' ' Yugoslavia'\n",
      " ' Peru' ' Outlying-US(Guam-USVI-etc)' ' Scotland' ' Trinadad&Tobago'\n",
      " ' Greece' ' Nicaragua' ' Vietnam' ' Hong' ' Ireland' ' Hungary'\n",
      " ' Holand-Netherlands']\n",
      "\n",
      "\n",
      "Income unique values:\n",
      "[' <=50K' ' >50K']\n"
     ]
    }
   ],
   "source": [
    "# Print unique values for each column\n",
    "for column in adult_data.columns:\n",
    "    unique_values = adult_data[column].unique()\n",
    "    print(f\"{column} unique values:\")\n",
    "    print(unique_values)\n",
    "    print(\"\\n\")"
   ],
   "metadata": {
    "collapsed": false,
    "ExecuteTime": {
     "end_time": "2024-02-15T07:59:10.801565100Z",
     "start_time": "2024-02-15T07:59:10.691905300Z"
    }
   },
   "id": "9cd5ea2f209ee2ae"
  },
  {
   "cell_type": "code",
   "execution_count": 144,
   "outputs": [
    {
     "name": "stdout",
     "output_type": "stream",
     "text": [
      "Work_class unique values after removing '?':\n",
      "[' State-gov' ' Self-emp-not-inc' ' Private' ' Federal-gov' ' Local-gov'\n",
      " ' Self-emp-inc' ' Without-pay' ' Never-worked']\n"
     ]
    }
   ],
   "source": [
    "# Replace '?' with NaN in the 'Work_class' column\n",
    "adult_data['Work_class'].replace(' ?', pd.NA, inplace=True)\n",
    "\n",
    "# Drop rows with NaN in the 'Work_class' column\n",
    "adult_data = adult_data.dropna(subset=['Work_class'])\n",
    "\n",
    "# Print unique values for the 'Work_class' column after removing '?'\n",
    "print(\"Work_class unique values after removing '?':\")\n",
    "print(adult_data['Work_class'].unique())"
   ],
   "metadata": {
    "collapsed": false,
    "ExecuteTime": {
     "end_time": "2024-02-15T07:59:10.802608Z",
     "start_time": "2024-02-15T07:59:10.744762Z"
    }
   },
   "id": "d488744566044548"
  },
  {
   "cell_type": "code",
   "execution_count": 145,
   "outputs": [
    {
     "name": "stdout",
     "output_type": "stream",
     "text": [
      "Occupation unique values after removing '?':\n",
      "[' Adm-clerical' ' Exec-managerial' ' Handlers-cleaners' ' Prof-specialty'\n",
      " ' Other-service' ' Sales' ' Craft-repair' ' Transport-moving'\n",
      " ' Farming-fishing' ' Machine-op-inspct' ' Tech-support'\n",
      " ' Protective-serv' ' Armed-Forces' ' Priv-house-serv']\n"
     ]
    }
   ],
   "source": [
    "# Replace '?' with NaN in the 'Occupation' column\n",
    "adult_data['Occupation'].replace(' ?', pd.NA, inplace=True)\n",
    "\n",
    "# Drop rows with NaN in the 'Occupation' column\n",
    "adult_data = adult_data.dropna(subset=['Occupation'])\n",
    "\n",
    "# Print unique values for the 'Occupation' column after removing '?'\n",
    "print(\"Occupation unique values after removing '?':\")\n",
    "print(adult_data['Occupation'].unique())"
   ],
   "metadata": {
    "collapsed": false,
    "ExecuteTime": {
     "end_time": "2024-02-15T07:59:10.818631500Z",
     "start_time": "2024-02-15T07:59:10.772687Z"
    }
   },
   "id": "63c78e965cec6d2e"
  },
  {
   "cell_type": "code",
   "execution_count": 146,
   "outputs": [
    {
     "name": "stdout",
     "output_type": "stream",
     "text": [
      "Native_Country unique values after removing '?':\n",
      "[' United-States' ' Cuba' ' Jamaica' ' India' ' Mexico' ' Puerto-Rico'\n",
      " ' Honduras' ' England' ' Canada' ' Germany' ' Iran' ' Philippines'\n",
      " ' Poland' ' Columbia' ' Cambodia' ' Thailand' ' Ecuador' ' Laos'\n",
      " ' Taiwan' ' Haiti' ' Portugal' ' Dominican-Republic' ' El-Salvador'\n",
      " ' France' ' Guatemala' ' Italy' ' China' ' South' ' Japan' ' Yugoslavia'\n",
      " ' Peru' ' Outlying-US(Guam-USVI-etc)' ' Scotland' ' Trinadad&Tobago'\n",
      " ' Greece' ' Nicaragua' ' Vietnam' ' Hong' ' Ireland' ' Hungary'\n",
      " ' Holand-Netherlands']\n"
     ]
    }
   ],
   "source": [
    "# Replace '?' with NaN in the 'Native_Country' column\n",
    "adult_data['Native_Country'].replace(' ?', pd.NA, inplace=True)\n",
    "\n",
    "# Drop rows with NaN in the 'Native_Country' column\n",
    "adult_data = adult_data.dropna(subset=['Native_Country'])\n",
    "\n",
    "# Print unique values for the 'Native_Country' column after removing '?'\n",
    "print(\"Native_Country unique values after removing '?':\")\n",
    "print(adult_data['Native_Country'].unique())"
   ],
   "metadata": {
    "collapsed": false,
    "ExecuteTime": {
     "end_time": "2024-02-15T07:59:10.893364Z",
     "start_time": "2024-02-15T07:59:10.804602500Z"
    }
   },
   "id": "900a68419f67f9b3"
  },
  {
   "cell_type": "code",
   "execution_count": 147,
   "outputs": [
    {
     "name": "stdout",
     "output_type": "stream",
     "text": [
      "Mean value of 'Capital_Loss' (excluding 0 values): 1867.8983882270497\n",
      "\n",
      "Updated 'Capital_Loss' column:\n",
      "0        1867.898388\n",
      "1        1867.898388\n",
      "2        1867.898388\n",
      "3        1867.898388\n",
      "4        1867.898388\n",
      "            ...     \n",
      "32556    1867.898388\n",
      "32557    1867.898388\n",
      "32558    1867.898388\n",
      "32559    1867.898388\n",
      "32560    1867.898388\n",
      "Name: Capital_Loss, Length: 30162, dtype: float64\n",
      "[1867.89838823 2042.         1408.         1902.         1887.\n",
      " 1719.         1762.         1564.         2179.         1816.\n",
      " 1980.         1977.         1876.         1340.         2206.\n",
      " 1741.         1485.         2339.         2415.         1380.\n",
      " 1721.         2051.         2377.         1669.         2352.\n",
      " 1672.          653.         2392.         1504.         1590.\n",
      " 1651.         1628.         1848.         2001.         1740.\n",
      " 2002.         1579.         2258.         1602.         2547.\n",
      " 2205.         1726.         2444.         1138.         2238.\n",
      "  625.          213.         1539.          880.         1668.\n",
      " 1092.         1594.         2231.         1844.          810.\n",
      " 2824.         2559.         2057.         1573.         1974.\n",
      "  974.         2174.         2149.         1735.         1258.\n",
      " 2603.         2282.          323.         2246.         1617.\n",
      " 1648.         1825.         3770.         1755.         3683.\n",
      " 2129.         4356.         2267.         2080.         2457.\n",
      "  419.          155.         3900.         2201.         1944.\n",
      " 2467.         2754.         2472.         3004.         1411.        ]\n"
     ]
    }
   ],
   "source": [
    "# Calculate the mean of 'Capital_Loss' excluding 0 values\n",
    "mean_capital_loss = adult_data[adult_data['Capital_Loss'] != 0]['Capital_Loss'].mean()\n",
    "\n",
    "# Replace 0 values in 'Capital_Loss' with the calculated mean\n",
    "adult_data['Capital_Loss'] = adult_data['Capital_Loss'].replace(0, mean_capital_loss)\n",
    "\n",
    "# Print the mean value and updated 'Capital_Loss' column\n",
    "print(f\"Mean value of 'Capital_Loss' (excluding 0 values): {mean_capital_loss}\")\n",
    "print(\"\\nUpdated 'Capital_Loss' column:\")\n",
    "print(adult_data['Capital_Loss'])\n",
    "print(adult_data['Capital_Loss'].unique())"
   ],
   "metadata": {
    "collapsed": false,
    "ExecuteTime": {
     "end_time": "2024-02-15T07:59:10.894361700Z",
     "start_time": "2024-02-15T07:59:10.835521100Z"
    }
   },
   "id": "4e5a9cd9e034f1cb"
  },
  {
   "cell_type": "code",
   "execution_count": 148,
   "outputs": [
    {
     "name": "stdout",
     "output_type": "stream",
     "text": [
      "Mean value of 'Capital_Gain' (excluding 0 values): 12977.596926713948\n",
      "\n",
      "Updated 'Capital_Gain' column:\n",
      "0         2174.000000\n",
      "1        12977.596927\n",
      "2        12977.596927\n",
      "3        12977.596927\n",
      "4        12977.596927\n",
      "             ...     \n",
      "32556    12977.596927\n",
      "32557    12977.596927\n",
      "32558    12977.596927\n",
      "32559    12977.596927\n",
      "32560    15024.000000\n",
      "Name: Capital_Gain, Length: 30162, dtype: float64\n",
      "[ 2174.         12977.59692671 14084.          5178.\n",
      "  5013.          2407.         14344.         15024.\n",
      "  7688.          4064.          4386.          7298.\n",
      "  1409.          3674.          1055.          2050.\n",
      "  2176.           594.         20051.          6849.\n",
      "  4101.          8614.          3411.          2597.\n",
      " 25236.          4650.          2463.          3103.\n",
      " 10605.          2964.          3325.          2580.\n",
      "  3471.          4865.         99999.          6514.\n",
      "  1471.          2329.          2105.          2885.\n",
      " 10520.          2202.          2961.         27828.\n",
      "  6767.          2228.          1506.         13550.\n",
      "  2635.          5556.          4787.          3781.\n",
      "  3137.          3818.           914.           401.\n",
      "  2829.          2977.          4934.          2062.\n",
      "  2354.          3464.          5455.         15020.\n",
      "  1424.          3273.         22040.          4416.\n",
      " 10566.          4931.          7430.         34095.\n",
      "  6497.          3908.           114.          2346.\n",
      "  2907.          1151.          9386.          2414.\n",
      "  2290.          3418.         15831.         41310.\n",
      "  4508.          2538.          3456.          1848.\n",
      "  3887.          7896.          5721.          9562.\n",
      "  6418.          1455.          2036.          3942.\n",
      "  1831.         11678.          2936.          2993.\n",
      "  7443.          6360.          4687.          1797.\n",
      "  6723.          2009.          3432.          6097.\n",
      "  1639.          2653.         18481.         25124.\n",
      "  7978.           991.          1173.          2387.\n",
      "  5060.          1086.        ]\n"
     ]
    }
   ],
   "source": [
    "# Calculate the mean of 'Capital_Gain' excluding 0 values\n",
    "mean_capital_gain = adult_data[adult_data['Capital_Gain'] != 0]['Capital_Gain'].mean()\n",
    "\n",
    "# Replace 0 values in 'Capital_Gain' with the calculated mean\n",
    "adult_data['Capital_Gain'] = adult_data['Capital_Gain'].replace(0, mean_capital_gain)\n",
    "\n",
    "# Print the mean value and updated 'Capital_Gain' column\n",
    "print(f\"Mean value of 'Capital_Gain' (excluding 0 values): {mean_capital_gain}\")\n",
    "print(\"\\nUpdated 'Capital_Gain' column:\")\n",
    "print(adult_data['Capital_Gain'])\n",
    "print(adult_data['Capital_Gain'].unique())\n"
   ],
   "metadata": {
    "collapsed": false,
    "ExecuteTime": {
     "end_time": "2024-02-15T07:59:10.922486300Z",
     "start_time": "2024-02-15T07:59:10.870426500Z"
    }
   },
   "id": "75be220e663b2d8a"
  },
  {
   "cell_type": "code",
   "execution_count": 149,
   "outputs": [
    {
     "data": {
      "text/plain": "       Age         Work_class  Final_Weight    Education  Education_Num  \\\n0       39          State-gov         77516    Bachelors             13   \n1       50   Self-emp-not-inc         83311    Bachelors             13   \n2       38            Private        215646      HS-grad              9   \n3       53            Private        234721         11th              7   \n4       28            Private        338409    Bachelors             13   \n...    ...                ...           ...          ...            ...   \n32556   27            Private        257302   Assoc-acdm             12   \n32557   40            Private        154374      HS-grad              9   \n32558   58            Private        151910      HS-grad              9   \n32559   22            Private        201490      HS-grad              9   \n32560   52       Self-emp-inc        287927      HS-grad              9   \n\n            Marital_Status          Occupation    Relationship    Race  \\\n0            Never-married        Adm-clerical   Not-in-family   White   \n1       Married-civ-spouse     Exec-managerial         Husband   White   \n2                 Divorced   Handlers-cleaners   Not-in-family   White   \n3       Married-civ-spouse   Handlers-cleaners         Husband   Black   \n4       Married-civ-spouse      Prof-specialty            Wife   Black   \n...                    ...                 ...             ...     ...   \n32556   Married-civ-spouse        Tech-support            Wife   White   \n32557   Married-civ-spouse   Machine-op-inspct         Husband   White   \n32558              Widowed        Adm-clerical       Unmarried   White   \n32559        Never-married        Adm-clerical       Own-child   White   \n32560   Married-civ-spouse     Exec-managerial            Wife   White   \n\n           Sex  Capital_Gain  Capital_Loss  Hours_per_Week  Native_Country  \\\n0         Male   2174.000000   1867.898388              40   United-States   \n1         Male  12977.596927   1867.898388              13   United-States   \n2         Male  12977.596927   1867.898388              40   United-States   \n3         Male  12977.596927   1867.898388              40   United-States   \n4       Female  12977.596927   1867.898388              40            Cuba   \n...        ...           ...           ...             ...             ...   \n32556   Female  12977.596927   1867.898388              38   United-States   \n32557     Male  12977.596927   1867.898388              40   United-States   \n32558   Female  12977.596927   1867.898388              40   United-States   \n32559     Male  12977.596927   1867.898388              20   United-States   \n32560   Female  15024.000000   1867.898388              40   United-States   \n\n       Income  \n0       <=50K  \n1       <=50K  \n2       <=50K  \n3       <=50K  \n4       <=50K  \n...       ...  \n32556   <=50K  \n32557    >50K  \n32558   <=50K  \n32559   <=50K  \n32560    >50K  \n\n[30139 rows x 15 columns]",
      "text/html": "<div>\n<style scoped>\n    .dataframe tbody tr th:only-of-type {\n        vertical-align: middle;\n    }\n\n    .dataframe tbody tr th {\n        vertical-align: top;\n    }\n\n    .dataframe thead th {\n        text-align: right;\n    }\n</style>\n<table border=\"1\" class=\"dataframe\">\n  <thead>\n    <tr style=\"text-align: right;\">\n      <th></th>\n      <th>Age</th>\n      <th>Work_class</th>\n      <th>Final_Weight</th>\n      <th>Education</th>\n      <th>Education_Num</th>\n      <th>Marital_Status</th>\n      <th>Occupation</th>\n      <th>Relationship</th>\n      <th>Race</th>\n      <th>Sex</th>\n      <th>Capital_Gain</th>\n      <th>Capital_Loss</th>\n      <th>Hours_per_Week</th>\n      <th>Native_Country</th>\n      <th>Income</th>\n    </tr>\n  </thead>\n  <tbody>\n    <tr>\n      <th>0</th>\n      <td>39</td>\n      <td>State-gov</td>\n      <td>77516</td>\n      <td>Bachelors</td>\n      <td>13</td>\n      <td>Never-married</td>\n      <td>Adm-clerical</td>\n      <td>Not-in-family</td>\n      <td>White</td>\n      <td>Male</td>\n      <td>2174.000000</td>\n      <td>1867.898388</td>\n      <td>40</td>\n      <td>United-States</td>\n      <td>&lt;=50K</td>\n    </tr>\n    <tr>\n      <th>1</th>\n      <td>50</td>\n      <td>Self-emp-not-inc</td>\n      <td>83311</td>\n      <td>Bachelors</td>\n      <td>13</td>\n      <td>Married-civ-spouse</td>\n      <td>Exec-managerial</td>\n      <td>Husband</td>\n      <td>White</td>\n      <td>Male</td>\n      <td>12977.596927</td>\n      <td>1867.898388</td>\n      <td>13</td>\n      <td>United-States</td>\n      <td>&lt;=50K</td>\n    </tr>\n    <tr>\n      <th>2</th>\n      <td>38</td>\n      <td>Private</td>\n      <td>215646</td>\n      <td>HS-grad</td>\n      <td>9</td>\n      <td>Divorced</td>\n      <td>Handlers-cleaners</td>\n      <td>Not-in-family</td>\n      <td>White</td>\n      <td>Male</td>\n      <td>12977.596927</td>\n      <td>1867.898388</td>\n      <td>40</td>\n      <td>United-States</td>\n      <td>&lt;=50K</td>\n    </tr>\n    <tr>\n      <th>3</th>\n      <td>53</td>\n      <td>Private</td>\n      <td>234721</td>\n      <td>11th</td>\n      <td>7</td>\n      <td>Married-civ-spouse</td>\n      <td>Handlers-cleaners</td>\n      <td>Husband</td>\n      <td>Black</td>\n      <td>Male</td>\n      <td>12977.596927</td>\n      <td>1867.898388</td>\n      <td>40</td>\n      <td>United-States</td>\n      <td>&lt;=50K</td>\n    </tr>\n    <tr>\n      <th>4</th>\n      <td>28</td>\n      <td>Private</td>\n      <td>338409</td>\n      <td>Bachelors</td>\n      <td>13</td>\n      <td>Married-civ-spouse</td>\n      <td>Prof-specialty</td>\n      <td>Wife</td>\n      <td>Black</td>\n      <td>Female</td>\n      <td>12977.596927</td>\n      <td>1867.898388</td>\n      <td>40</td>\n      <td>Cuba</td>\n      <td>&lt;=50K</td>\n    </tr>\n    <tr>\n      <th>...</th>\n      <td>...</td>\n      <td>...</td>\n      <td>...</td>\n      <td>...</td>\n      <td>...</td>\n      <td>...</td>\n      <td>...</td>\n      <td>...</td>\n      <td>...</td>\n      <td>...</td>\n      <td>...</td>\n      <td>...</td>\n      <td>...</td>\n      <td>...</td>\n      <td>...</td>\n    </tr>\n    <tr>\n      <th>32556</th>\n      <td>27</td>\n      <td>Private</td>\n      <td>257302</td>\n      <td>Assoc-acdm</td>\n      <td>12</td>\n      <td>Married-civ-spouse</td>\n      <td>Tech-support</td>\n      <td>Wife</td>\n      <td>White</td>\n      <td>Female</td>\n      <td>12977.596927</td>\n      <td>1867.898388</td>\n      <td>38</td>\n      <td>United-States</td>\n      <td>&lt;=50K</td>\n    </tr>\n    <tr>\n      <th>32557</th>\n      <td>40</td>\n      <td>Private</td>\n      <td>154374</td>\n      <td>HS-grad</td>\n      <td>9</td>\n      <td>Married-civ-spouse</td>\n      <td>Machine-op-inspct</td>\n      <td>Husband</td>\n      <td>White</td>\n      <td>Male</td>\n      <td>12977.596927</td>\n      <td>1867.898388</td>\n      <td>40</td>\n      <td>United-States</td>\n      <td>&gt;50K</td>\n    </tr>\n    <tr>\n      <th>32558</th>\n      <td>58</td>\n      <td>Private</td>\n      <td>151910</td>\n      <td>HS-grad</td>\n      <td>9</td>\n      <td>Widowed</td>\n      <td>Adm-clerical</td>\n      <td>Unmarried</td>\n      <td>White</td>\n      <td>Female</td>\n      <td>12977.596927</td>\n      <td>1867.898388</td>\n      <td>40</td>\n      <td>United-States</td>\n      <td>&lt;=50K</td>\n    </tr>\n    <tr>\n      <th>32559</th>\n      <td>22</td>\n      <td>Private</td>\n      <td>201490</td>\n      <td>HS-grad</td>\n      <td>9</td>\n      <td>Never-married</td>\n      <td>Adm-clerical</td>\n      <td>Own-child</td>\n      <td>White</td>\n      <td>Male</td>\n      <td>12977.596927</td>\n      <td>1867.898388</td>\n      <td>20</td>\n      <td>United-States</td>\n      <td>&lt;=50K</td>\n    </tr>\n    <tr>\n      <th>32560</th>\n      <td>52</td>\n      <td>Self-emp-inc</td>\n      <td>287927</td>\n      <td>HS-grad</td>\n      <td>9</td>\n      <td>Married-civ-spouse</td>\n      <td>Exec-managerial</td>\n      <td>Wife</td>\n      <td>White</td>\n      <td>Female</td>\n      <td>15024.000000</td>\n      <td>1867.898388</td>\n      <td>40</td>\n      <td>United-States</td>\n      <td>&gt;50K</td>\n    </tr>\n  </tbody>\n</table>\n<p>30139 rows × 15 columns</p>\n</div>"
     },
     "execution_count": 149,
     "metadata": {},
     "output_type": "execute_result"
    }
   ],
   "source": [
    "adult_data.drop_duplicates()"
   ],
   "metadata": {
    "collapsed": false,
    "ExecuteTime": {
     "end_time": "2024-02-15T07:59:11.029315Z",
     "start_time": "2024-02-15T07:59:10.901342500Z"
    }
   },
   "id": "94474b4eea2cd586"
  },
  {
   "cell_type": "code",
   "execution_count": 150,
   "outputs": [
    {
     "data": {
      "text/plain": "     Age         Work_class  Final_Weight      Education  Education_Num  \\\n0     39          State-gov         77516      Bachelors             13   \n1     50   Self-emp-not-inc         83311      Bachelors             13   \n2     38            Private        215646        HS-grad              9   \n3     53            Private        234721           11th              7   \n4     28            Private        338409      Bachelors             13   \n..   ...                ...           ...            ...            ...   \n103   20            Private        188300   Some-college             10   \n104   29            Private        103432        HS-grad              9   \n105   32       Self-emp-inc        317660        HS-grad              9   \n107   30            Private        194901           11th              7   \n108   31          Local-gov        189265        HS-grad              9   \n\n          Marital_Status          Occupation    Relationship    Race      Sex  \\\n0          Never-married        Adm-clerical   Not-in-family   White     Male   \n1     Married-civ-spouse     Exec-managerial         Husband   White     Male   \n2               Divorced   Handlers-cleaners   Not-in-family   White     Male   \n3     Married-civ-spouse   Handlers-cleaners         Husband   Black     Male   \n4     Married-civ-spouse      Prof-specialty            Wife   Black   Female   \n..                   ...                 ...             ...     ...      ...   \n103        Never-married        Tech-support       Own-child   White   Female   \n104        Never-married        Craft-repair   Not-in-family   White     Male   \n105   Married-civ-spouse        Craft-repair         Husband   White     Male   \n107        Never-married   Handlers-cleaners       Own-child   White     Male   \n108        Never-married        Adm-clerical   Not-in-family   White   Female   \n\n     Capital_Gain  Capital_Loss  Hours_per_Week  Native_Country  Income  \n0     2174.000000   1867.898388              40   United-States   <=50K  \n1    12977.596927   1867.898388              13   United-States   <=50K  \n2    12977.596927   1867.898388              40   United-States   <=50K  \n3    12977.596927   1867.898388              40   United-States   <=50K  \n4    12977.596927   1867.898388              40            Cuba   <=50K  \n..            ...           ...             ...             ...     ...  \n103  12977.596927   1867.898388              40   United-States   <=50K  \n104  12977.596927   1867.898388              40   United-States   <=50K  \n105   7688.000000   1867.898388              40   United-States    >50K  \n107  12977.596927   1867.898388              40   United-States   <=50K  \n108  12977.596927   1867.898388              40   United-States   <=50K  \n\n[100 rows x 15 columns]",
      "text/html": "<div>\n<style scoped>\n    .dataframe tbody tr th:only-of-type {\n        vertical-align: middle;\n    }\n\n    .dataframe tbody tr th {\n        vertical-align: top;\n    }\n\n    .dataframe thead th {\n        text-align: right;\n    }\n</style>\n<table border=\"1\" class=\"dataframe\">\n  <thead>\n    <tr style=\"text-align: right;\">\n      <th></th>\n      <th>Age</th>\n      <th>Work_class</th>\n      <th>Final_Weight</th>\n      <th>Education</th>\n      <th>Education_Num</th>\n      <th>Marital_Status</th>\n      <th>Occupation</th>\n      <th>Relationship</th>\n      <th>Race</th>\n      <th>Sex</th>\n      <th>Capital_Gain</th>\n      <th>Capital_Loss</th>\n      <th>Hours_per_Week</th>\n      <th>Native_Country</th>\n      <th>Income</th>\n    </tr>\n  </thead>\n  <tbody>\n    <tr>\n      <th>0</th>\n      <td>39</td>\n      <td>State-gov</td>\n      <td>77516</td>\n      <td>Bachelors</td>\n      <td>13</td>\n      <td>Never-married</td>\n      <td>Adm-clerical</td>\n      <td>Not-in-family</td>\n      <td>White</td>\n      <td>Male</td>\n      <td>2174.000000</td>\n      <td>1867.898388</td>\n      <td>40</td>\n      <td>United-States</td>\n      <td>&lt;=50K</td>\n    </tr>\n    <tr>\n      <th>1</th>\n      <td>50</td>\n      <td>Self-emp-not-inc</td>\n      <td>83311</td>\n      <td>Bachelors</td>\n      <td>13</td>\n      <td>Married-civ-spouse</td>\n      <td>Exec-managerial</td>\n      <td>Husband</td>\n      <td>White</td>\n      <td>Male</td>\n      <td>12977.596927</td>\n      <td>1867.898388</td>\n      <td>13</td>\n      <td>United-States</td>\n      <td>&lt;=50K</td>\n    </tr>\n    <tr>\n      <th>2</th>\n      <td>38</td>\n      <td>Private</td>\n      <td>215646</td>\n      <td>HS-grad</td>\n      <td>9</td>\n      <td>Divorced</td>\n      <td>Handlers-cleaners</td>\n      <td>Not-in-family</td>\n      <td>White</td>\n      <td>Male</td>\n      <td>12977.596927</td>\n      <td>1867.898388</td>\n      <td>40</td>\n      <td>United-States</td>\n      <td>&lt;=50K</td>\n    </tr>\n    <tr>\n      <th>3</th>\n      <td>53</td>\n      <td>Private</td>\n      <td>234721</td>\n      <td>11th</td>\n      <td>7</td>\n      <td>Married-civ-spouse</td>\n      <td>Handlers-cleaners</td>\n      <td>Husband</td>\n      <td>Black</td>\n      <td>Male</td>\n      <td>12977.596927</td>\n      <td>1867.898388</td>\n      <td>40</td>\n      <td>United-States</td>\n      <td>&lt;=50K</td>\n    </tr>\n    <tr>\n      <th>4</th>\n      <td>28</td>\n      <td>Private</td>\n      <td>338409</td>\n      <td>Bachelors</td>\n      <td>13</td>\n      <td>Married-civ-spouse</td>\n      <td>Prof-specialty</td>\n      <td>Wife</td>\n      <td>Black</td>\n      <td>Female</td>\n      <td>12977.596927</td>\n      <td>1867.898388</td>\n      <td>40</td>\n      <td>Cuba</td>\n      <td>&lt;=50K</td>\n    </tr>\n    <tr>\n      <th>...</th>\n      <td>...</td>\n      <td>...</td>\n      <td>...</td>\n      <td>...</td>\n      <td>...</td>\n      <td>...</td>\n      <td>...</td>\n      <td>...</td>\n      <td>...</td>\n      <td>...</td>\n      <td>...</td>\n      <td>...</td>\n      <td>...</td>\n      <td>...</td>\n      <td>...</td>\n    </tr>\n    <tr>\n      <th>103</th>\n      <td>20</td>\n      <td>Private</td>\n      <td>188300</td>\n      <td>Some-college</td>\n      <td>10</td>\n      <td>Never-married</td>\n      <td>Tech-support</td>\n      <td>Own-child</td>\n      <td>White</td>\n      <td>Female</td>\n      <td>12977.596927</td>\n      <td>1867.898388</td>\n      <td>40</td>\n      <td>United-States</td>\n      <td>&lt;=50K</td>\n    </tr>\n    <tr>\n      <th>104</th>\n      <td>29</td>\n      <td>Private</td>\n      <td>103432</td>\n      <td>HS-grad</td>\n      <td>9</td>\n      <td>Never-married</td>\n      <td>Craft-repair</td>\n      <td>Not-in-family</td>\n      <td>White</td>\n      <td>Male</td>\n      <td>12977.596927</td>\n      <td>1867.898388</td>\n      <td>40</td>\n      <td>United-States</td>\n      <td>&lt;=50K</td>\n    </tr>\n    <tr>\n      <th>105</th>\n      <td>32</td>\n      <td>Self-emp-inc</td>\n      <td>317660</td>\n      <td>HS-grad</td>\n      <td>9</td>\n      <td>Married-civ-spouse</td>\n      <td>Craft-repair</td>\n      <td>Husband</td>\n      <td>White</td>\n      <td>Male</td>\n      <td>7688.000000</td>\n      <td>1867.898388</td>\n      <td>40</td>\n      <td>United-States</td>\n      <td>&gt;50K</td>\n    </tr>\n    <tr>\n      <th>107</th>\n      <td>30</td>\n      <td>Private</td>\n      <td>194901</td>\n      <td>11th</td>\n      <td>7</td>\n      <td>Never-married</td>\n      <td>Handlers-cleaners</td>\n      <td>Own-child</td>\n      <td>White</td>\n      <td>Male</td>\n      <td>12977.596927</td>\n      <td>1867.898388</td>\n      <td>40</td>\n      <td>United-States</td>\n      <td>&lt;=50K</td>\n    </tr>\n    <tr>\n      <th>108</th>\n      <td>31</td>\n      <td>Local-gov</td>\n      <td>189265</td>\n      <td>HS-grad</td>\n      <td>9</td>\n      <td>Never-married</td>\n      <td>Adm-clerical</td>\n      <td>Not-in-family</td>\n      <td>White</td>\n      <td>Female</td>\n      <td>12977.596927</td>\n      <td>1867.898388</td>\n      <td>40</td>\n      <td>United-States</td>\n      <td>&lt;=50K</td>\n    </tr>\n  </tbody>\n</table>\n<p>100 rows × 15 columns</p>\n</div>"
     },
     "execution_count": 150,
     "metadata": {},
     "output_type": "execute_result"
    }
   ],
   "source": [
    "adult_data.head(100)"
   ],
   "metadata": {
    "collapsed": false,
    "ExecuteTime": {
     "end_time": "2024-02-15T07:59:11.036980400Z",
     "start_time": "2024-02-15T07:59:10.973150200Z"
    }
   },
   "id": "5f5b74608cf21e1f"
  },
  {
   "cell_type": "code",
   "execution_count": 151,
   "outputs": [
    {
     "data": {
      "text/plain": "       Age Work_class  Final_Weight Education  Education_Num  Marital_Status  \\\n10180   17    Private        297246      11th              7   Never-married   \n21767   17    Private        207637      11th              7   Never-married   \n14720   17    Private         99462      11th              7   Never-married   \n13322   17    Private        345403      10th              6   Never-married   \n26088   17    Private        225507      11th              7   Never-married   \n\n               Occupation    Relationship                 Race      Sex  \\\n10180     Priv-house-serv       Own-child                White   Female   \n21767   Handlers-cleaners       Own-child                White     Male   \n14720       Other-service       Own-child   Amer-Indian-Eskimo   Female   \n13322       Other-service       Own-child                White     Male   \n26088   Handlers-cleaners   Not-in-family                Black   Female   \n\n       Capital_Gain  Capital_Loss  Hours_per_Week  Native_Country  Income  \n10180  12977.596927   1867.898388               9   United-States   <=50K  \n21767  12977.596927   1867.898388              10   United-States   <=50K  \n14720  12977.596927   1867.898388              20   United-States   <=50K  \n13322  12977.596927   1867.898388              40   United-States   <=50K  \n26088  12977.596927   1867.898388              15   United-States   <=50K  ",
      "text/html": "<div>\n<style scoped>\n    .dataframe tbody tr th:only-of-type {\n        vertical-align: middle;\n    }\n\n    .dataframe tbody tr th {\n        vertical-align: top;\n    }\n\n    .dataframe thead th {\n        text-align: right;\n    }\n</style>\n<table border=\"1\" class=\"dataframe\">\n  <thead>\n    <tr style=\"text-align: right;\">\n      <th></th>\n      <th>Age</th>\n      <th>Work_class</th>\n      <th>Final_Weight</th>\n      <th>Education</th>\n      <th>Education_Num</th>\n      <th>Marital_Status</th>\n      <th>Occupation</th>\n      <th>Relationship</th>\n      <th>Race</th>\n      <th>Sex</th>\n      <th>Capital_Gain</th>\n      <th>Capital_Loss</th>\n      <th>Hours_per_Week</th>\n      <th>Native_Country</th>\n      <th>Income</th>\n    </tr>\n  </thead>\n  <tbody>\n    <tr>\n      <th>10180</th>\n      <td>17</td>\n      <td>Private</td>\n      <td>297246</td>\n      <td>11th</td>\n      <td>7</td>\n      <td>Never-married</td>\n      <td>Priv-house-serv</td>\n      <td>Own-child</td>\n      <td>White</td>\n      <td>Female</td>\n      <td>12977.596927</td>\n      <td>1867.898388</td>\n      <td>9</td>\n      <td>United-States</td>\n      <td>&lt;=50K</td>\n    </tr>\n    <tr>\n      <th>21767</th>\n      <td>17</td>\n      <td>Private</td>\n      <td>207637</td>\n      <td>11th</td>\n      <td>7</td>\n      <td>Never-married</td>\n      <td>Handlers-cleaners</td>\n      <td>Own-child</td>\n      <td>White</td>\n      <td>Male</td>\n      <td>12977.596927</td>\n      <td>1867.898388</td>\n      <td>10</td>\n      <td>United-States</td>\n      <td>&lt;=50K</td>\n    </tr>\n    <tr>\n      <th>14720</th>\n      <td>17</td>\n      <td>Private</td>\n      <td>99462</td>\n      <td>11th</td>\n      <td>7</td>\n      <td>Never-married</td>\n      <td>Other-service</td>\n      <td>Own-child</td>\n      <td>Amer-Indian-Eskimo</td>\n      <td>Female</td>\n      <td>12977.596927</td>\n      <td>1867.898388</td>\n      <td>20</td>\n      <td>United-States</td>\n      <td>&lt;=50K</td>\n    </tr>\n    <tr>\n      <th>13322</th>\n      <td>17</td>\n      <td>Private</td>\n      <td>345403</td>\n      <td>10th</td>\n      <td>6</td>\n      <td>Never-married</td>\n      <td>Other-service</td>\n      <td>Own-child</td>\n      <td>White</td>\n      <td>Male</td>\n      <td>12977.596927</td>\n      <td>1867.898388</td>\n      <td>40</td>\n      <td>United-States</td>\n      <td>&lt;=50K</td>\n    </tr>\n    <tr>\n      <th>26088</th>\n      <td>17</td>\n      <td>Private</td>\n      <td>225507</td>\n      <td>11th</td>\n      <td>7</td>\n      <td>Never-married</td>\n      <td>Handlers-cleaners</td>\n      <td>Not-in-family</td>\n      <td>Black</td>\n      <td>Female</td>\n      <td>12977.596927</td>\n      <td>1867.898388</td>\n      <td>15</td>\n      <td>United-States</td>\n      <td>&lt;=50K</td>\n    </tr>\n  </tbody>\n</table>\n</div>"
     },
     "execution_count": 151,
     "metadata": {},
     "output_type": "execute_result"
    }
   ],
   "source": [
    "# Sort the DataFrame by the 'Age' column in ascending order\n",
    "adult_data = adult_data.sort_values(by='Age')\n",
    "\n",
    "# Display the sorted DataFrame\n",
    "adult_data.head()"
   ],
   "metadata": {
    "collapsed": false,
    "ExecuteTime": {
     "end_time": "2024-02-15T07:59:11.089840200Z",
     "start_time": "2024-02-15T07:59:11.006062800Z"
    }
   },
   "id": "eb1dd242b13b9b29"
  },
  {
   "cell_type": "code",
   "execution_count": 152,
   "outputs": [
    {
     "name": "stdout",
     "output_type": "stream",
     "text": [
      "Missing values in each column:\n",
      "Age               0\n",
      "Work_class        0\n",
      "Final_Weight      0\n",
      "Education         0\n",
      "Education_Num     0\n",
      "Marital_Status    0\n",
      "Occupation        0\n",
      "Relationship      0\n",
      "Race              0\n",
      "Sex               0\n",
      "Capital_Gain      0\n",
      "Capital_Loss      0\n",
      "Hours_per_Week    0\n",
      "Native_Country    0\n",
      "Income            0\n",
      "dtype: int64\n"
     ]
    }
   ],
   "source": [
    "import pandas as pd\n",
    "\n",
    "# Assuming you have already read the data into 'adult_data' DataFrame\n",
    "missing_values = adult_data.isnull().sum()\n",
    "\n",
    "print(\"Missing values in each column:\")\n",
    "print(missing_values)\n"
   ],
   "metadata": {
    "collapsed": false,
    "ExecuteTime": {
     "end_time": "2024-02-15T07:59:11.252403200Z",
     "start_time": "2024-02-15T07:59:11.033988600Z"
    }
   },
   "id": "5eef25e5ff5b946a"
  },
  {
   "cell_type": "code",
   "execution_count": 153,
   "outputs": [
    {
     "data": {
      "text/plain": "<Figure size 1600x800 with 6 Axes>",
      "image/png": "[encoded data removed]"
     },
     "metadata": {},
     "output_type": "display_data"
    }
   ],
   "source": [
    "import seaborn as sns\n",
    "import matplotlib.pyplot as plt\n",
    "\n",
    "# Assuming you have already read the data into 'adult_data' DataFrame\n",
    "column_names = [\"Age\", \"Work_class\", \"Final_Weight\", \"Education\", \"Education_Num\", \"Marital_Status\", \"Occupation\",\n",
    "                \"Relationship\", \"Race\", \"Sex\", \"Capital_Gain\", \"Capital_Loss\", \"Hours_per_Week\", \"Native_Country\", \"Income\"]\n",
    "\n",
    "\n",
    "# Extract numerical columns for box plot visualization\n",
    "numerical_cols = adult_data.select_dtypes(include=['int64', 'float64']).columns\n",
    "\n",
    "# Create box plots for numerical features\n",
    "plt.figure(figsize=(16, 8))\n",
    "for i, column in enumerate(numerical_cols, start=1):\n",
    "    plt.subplot(3, 5, i)\n",
    "    sns.boxplot(x=adult_data[column])\n",
    "    plt.title(column)\n",
    "\n",
    "plt.tight_layout()\n",
    "plt.show()\n"
   ],
   "metadata": {
    "collapsed": false,
    "ExecuteTime": {
     "end_time": "2024-02-15T07:59:13.251058100Z",
     "start_time": "2024-02-15T07:59:11.091834500Z"
    }
   },
   "id": "9d972627bafe261a"
  },
  {
   "cell_type": "code",
   "execution_count": 154,
   "outputs": [
    {
     "name": "stdout",
     "output_type": "stream",
     "text": [
      "Outliers:\n",
      "Age               120\n",
      "Final_Weight      322\n",
      "Education_Num     196\n",
      "Capital_Gain      153\n",
      "Capital_Loss      509\n",
      "Hours_per_Week    402\n",
      "dtype: int64\n"
     ]
    }
   ],
   "source": [
    "# Display summary statistics\n",
    "summary_stats = adult_data.describe()\n",
    "\n",
    "# Calculate z-scores for numerical columns\n",
    "z_scores = (adult_data[numerical_cols] - adult_data[numerical_cols].mean()) / adult_data[numerical_cols].std()\n",
    "\n",
    "# Identify outliers using a threshold (e.g., z-score > 3 or < -3)\n",
    "outliers = (z_scores > 3) | (z_scores < -3)\n",
    "\n",
    "# Display the outliers\n",
    "print(\"Outliers:\")\n",
    "print(outliers.sum())\n"
   ],
   "metadata": {
    "collapsed": false,
    "ExecuteTime": {
     "end_time": "2024-02-15T07:59:13.512359500Z",
     "start_time": "2024-02-15T07:59:13.249064200Z"
    }
   },
   "id": "d7f04fac75d424b7"
  },
  {
   "cell_type": "code",
   "execution_count": 155,
   "outputs": [],
   "source": [],
   "metadata": {
    "collapsed": false,
    "ExecuteTime": {
     "end_time": "2024-02-15T07:59:15.448032Z",
     "start_time": "2024-02-15T07:59:15.254081100Z"
    }
   },
   "id": "1baafa9e00cc0726"
  }
 ],
 "metadata": {
  "kernelspec": {
   "display_name": "Python 3",
   "language": "python",
   "name": "python3"
  },
  "language_info": {
   "codemirror_mode": {
    "name": "ipython",
    "version": 2
   },
   "file_extension": ".py",
   "mimetype": "text/x-python",
   "name": "python",
   "nbconvert_exporter": "python",
   "pygments_lexer": "ipython2",
   "version": "2.7.6"
  }
 },
 "nbformat": 4,
 "nbformat_minor": 5
}
